{
 "cells": [
  {
   "cell_type": "markdown",
   "id": "3ff335d0",
   "metadata": {
    "papermill": {
     "duration": 0.019607,
     "end_time": "2023-03-27T13:08:36.064665",
     "exception": false,
     "start_time": "2023-03-27T13:08:36.045058",
     "status": "completed"
    },
    "tags": []
   },
   "source": [
    "# BellaBeat Project using R\n",
    "## Scenario\n",
    "You are a junior data analyst working on the marketing analyst team at Bellabeat, a high-tech manufacturer of health-focused products for women. Bellabeat is a successful small company, but they have the potential to become a larger player in the global smart device market. Urška Sršen, cofounder and Chief Creative Officer of Bellabeat, believes that analyzing smart device fitness data could help unlock new growth opportunities for the company. You have been asked to focus on one of Bellabeat’s products and analyze smart device data to gain insight into how consumers are using their smart devices. The insights you discover will then help guide marketing strategy for the company. You will present your analysis to the Bellabeat executive team along with your high-level recommendations for Bellabeat’s marketing strategy.\n",
    "## Characters and products\n",
    "#### Characters\n",
    "* **Urška Sršen**: Bellabeat’s cofounder and Chief Creative Officer\n",
    "* **Sando Mur**: Mathematician and Bellabeat’s cofounder; key member of the Bellabeat executive team\n",
    "* **Bellabeat marketing analytics team**: A team of data analysts responsible for collecting, analyzing, and reporting data that helps guide Bellabeat’s marketing strategy. You joined this team six months ago and have been busy learning about Bellabeat’’s mission and business goals — as well as how you, as a junior data analyst, can help Bellabeat achieve them.\n",
    "\n",
    "#### Products\n",
    "* **Bellabeat app**: The Bellabeat app provides users with health data related to their activity, sleep, stress, menstrual cycle, and mindfulness habits. This data can help users better understand their current habits and make healthy decisions. The Bellabeat app connects to their line of smart wellness products.\n",
    "* **Leaf**: Bellabeat’s classic wellness tracker can be worn as a bracelet, necklace, or clip. The Leaf tracker connects to the Bellabeat app to track activity, sleep, and stress.\n",
    "* **Time**: This wellness watch combines the timeless look of a classic timepiece with smart technology to track user activity, sleep, and stress. The Time watch connects to the Bellabeat app to provide you with insights into your daily wellness.\n",
    "* **Spring**: This is a water bottle that tracks daily water intake using smart technology to ensure that you are appropriately hydrated throughout the day. The Spring bottle connects to the Bellabeat app to track your hydration levels.\n",
    "* **Bellabeat membership**: Bellabeat also offers a subscription-based membership program for users. Membership gives users 24/7 access to fully personalized guidance on nutrition, activity, sleep, health and beauty, and mindfulness based on their lifestyle and goals.\n",
    "\n",
    "## Business Task\n",
    "Sršen asks you to analyze smart device usage data in order to gain insight into how consumers use non-Bellabeat smart\n",
    "devices. She then wants you to select one Bellabeat product to apply these insights to in your presentation.\n",
    "\n",
    "The data used in this project is FitBit Fitness Tracker Data obtained from [Mobius](https://www.kaggle.com/arashnic)\n",
    "\n",
    "## Setting up the environment\n",
    "#### Loading the tidyverse package"
   ]
  },
  {
   "cell_type": "code",
   "execution_count": 1,
   "id": "d82bec4a",
   "metadata": {
    "execution": {
     "iopub.execute_input": "2023-03-27T13:08:36.101024Z",
     "iopub.status.busy": "2023-03-27T13:08:36.098978Z",
     "iopub.status.idle": "2023-03-27T13:08:37.324894Z",
     "shell.execute_reply": "2023-03-27T13:08:37.323097Z"
    },
    "papermill": {
     "duration": 1.247198,
     "end_time": "2023-03-27T13:08:37.327800",
     "exception": false,
     "start_time": "2023-03-27T13:08:36.080602",
     "status": "completed"
    },
    "tags": []
   },
   "outputs": [
    {
     "name": "stderr",
     "output_type": "stream",
     "text": [
      "── \u001b[1mAttaching core tidyverse packages\u001b[22m ──────────────────────── tidyverse 2.0.0 ──\n",
      "\u001b[32m✔\u001b[39m \u001b[34mdplyr    \u001b[39m 1.1.0     \u001b[32m✔\u001b[39m \u001b[34mreadr    \u001b[39m 2.1.4\n",
      "\u001b[32m✔\u001b[39m \u001b[34mforcats  \u001b[39m 1.0.0     \u001b[32m✔\u001b[39m \u001b[34mstringr  \u001b[39m 1.5.0\n",
      "\u001b[32m✔\u001b[39m \u001b[34mggplot2  \u001b[39m 3.4.1     \u001b[32m✔\u001b[39m \u001b[34mtibble   \u001b[39m 3.1.8\n",
      "\u001b[32m✔\u001b[39m \u001b[34mlubridate\u001b[39m 1.9.2     \u001b[32m✔\u001b[39m \u001b[34mtidyr    \u001b[39m 1.3.0\n",
      "\u001b[32m✔\u001b[39m \u001b[34mpurrr    \u001b[39m 1.0.1     \n",
      "── \u001b[1mConflicts\u001b[22m ────────────────────────────────────────── tidyverse_conflicts() ──\n",
      "\u001b[31m✖\u001b[39m \u001b[34mdplyr\u001b[39m::\u001b[32mfilter()\u001b[39m masks \u001b[34mstats\u001b[39m::filter()\n",
      "\u001b[31m✖\u001b[39m \u001b[34mdplyr\u001b[39m::\u001b[32mlag()\u001b[39m    masks \u001b[34mstats\u001b[39m::lag()\n",
      "\u001b[36mℹ\u001b[39m Use the conflicted package (\u001b[3m\u001b[34m<http://conflicted.r-lib.org/>\u001b[39m\u001b[23m) to force all conflicts to become errors\n"
     ]
    }
   ],
   "source": [
    "#installing and loading the tidyverse package\n",
    "#This package contains the readr, ggplot2, purrr, stringr, dplyr, tibble, tidyr, forcats packages\n",
    "\n",
    "library(tidyverse)\n",
    "library(lubridate)"
   ]
  },
  {
   "cell_type": "markdown",
   "id": "916caf39",
   "metadata": {
    "papermill": {
     "duration": 0.016669,
     "end_time": "2023-03-27T13:08:37.361116",
     "exception": false,
     "start_time": "2023-03-27T13:08:37.344447",
     "status": "completed"
    },
    "tags": []
   },
   "source": [
    "#### Reading in the csv files into the r environment"
   ]
  },
  {
   "cell_type": "code",
   "execution_count": 2,
   "id": "c6d1b207",
   "metadata": {
    "execution": {
     "iopub.execute_input": "2023-03-27T13:08:37.426488Z",
     "iopub.status.busy": "2023-03-27T13:08:37.396148Z",
     "iopub.status.idle": "2023-03-27T13:08:45.163222Z",
     "shell.execute_reply": "2023-03-27T13:08:45.161388Z"
    },
    "papermill": {
     "duration": 7.787926,
     "end_time": "2023-03-27T13:08:45.165932",
     "exception": false,
     "start_time": "2023-03-27T13:08:37.378006",
     "status": "completed"
    },
    "tags": []
   },
   "outputs": [],
   "source": [
    "daily_activity <- read.csv(\"/kaggle/input/fitbit/Fitabase Data 4.12.16-5.12.16/dailyActivity_merged.csv\")\n",
    "sleep <- read.csv(\"/kaggle/input/fitbit/Fitabase Data 4.12.16-5.12.16/sleepDay_merged.csv\")\n",
    "weight <- read.csv(\"/kaggle/input/fitbit/Fitabase Data 4.12.16-5.12.16/weightLogInfo_merged.csv\")\n",
    "heart_rate <- read.csv(\"/kaggle/input/fitbit/Fitabase Data 4.12.16-5.12.16/heartrate_seconds_merged.csv\")\n",
    "hourly_steps <- read.csv(\"/kaggle/input/fitbit/Fitabase Data 4.12.16-5.12.16/hourlySteps_merged.csv\")\n",
    "hourly_calories <- read.csv(\"/kaggle/input/fitbit/Fitabase Data 4.12.16-5.12.16/hourlyCalories_merged.csv\")\n",
    "hourly_intensities <- read.csv(\"/kaggle/input/fitbit/Fitabase Data 4.12.16-5.12.16/hourlyIntensities_merged.csv\")"
   ]
  },
  {
   "cell_type": "markdown",
   "id": "26d8cb0b",
   "metadata": {
    "papermill": {
     "duration": 0.016855,
     "end_time": "2023-03-27T13:08:45.199183",
     "exception": false,
     "start_time": "2023-03-27T13:08:45.182328",
     "status": "completed"
    },
    "tags": []
   },
   "source": [
    "## Data Exploration\n",
    "### Exploring the data to get an idea of how the data looks"
   ]
  },
  {
   "cell_type": "code",
   "execution_count": 3,
   "id": "cb4636da",
   "metadata": {
    "execution": {
     "iopub.execute_input": "2023-03-27T13:08:45.235145Z",
     "iopub.status.busy": "2023-03-27T13:08:45.233667Z",
     "iopub.status.idle": "2023-03-27T13:08:45.278063Z",
     "shell.execute_reply": "2023-03-27T13:08:45.276178Z"
    },
    "papermill": {
     "duration": 0.064784,
     "end_time": "2023-03-27T13:08:45.280595",
     "exception": false,
     "start_time": "2023-03-27T13:08:45.215811",
     "status": "completed"
    },
    "tags": []
   },
   "outputs": [
    {
     "data": {
      "text/html": [
       "<table class=\"dataframe\">\n",
       "<caption>A data.frame: 3 × 3</caption>\n",
       "<thead>\n",
       "\t<tr><th></th><th scope=col>Id</th><th scope=col>ActivityHour</th><th scope=col>StepTotal</th></tr>\n",
       "\t<tr><th></th><th scope=col>&lt;dbl&gt;</th><th scope=col>&lt;chr&gt;</th><th scope=col>&lt;int&gt;</th></tr>\n",
       "</thead>\n",
       "<tbody>\n",
       "\t<tr><th scope=row>1</th><td>1503960366</td><td>4/12/2016 12:00:00 AM</td><td>373</td></tr>\n",
       "\t<tr><th scope=row>2</th><td>1503960366</td><td>4/12/2016 1:00:00 AM </td><td>160</td></tr>\n",
       "\t<tr><th scope=row>3</th><td>1503960366</td><td>4/12/2016 2:00:00 AM </td><td>151</td></tr>\n",
       "</tbody>\n",
       "</table>\n"
      ],
      "text/latex": [
       "A data.frame: 3 × 3\n",
       "\\begin{tabular}{r|lll}\n",
       "  & Id & ActivityHour & StepTotal\\\\\n",
       "  & <dbl> & <chr> & <int>\\\\\n",
       "\\hline\n",
       "\t1 & 1503960366 & 4/12/2016 12:00:00 AM & 373\\\\\n",
       "\t2 & 1503960366 & 4/12/2016 1:00:00 AM  & 160\\\\\n",
       "\t3 & 1503960366 & 4/12/2016 2:00:00 AM  & 151\\\\\n",
       "\\end{tabular}\n"
      ],
      "text/markdown": [
       "\n",
       "A data.frame: 3 × 3\n",
       "\n",
       "| <!--/--> | Id &lt;dbl&gt; | ActivityHour &lt;chr&gt; | StepTotal &lt;int&gt; |\n",
       "|---|---|---|---|\n",
       "| 1 | 1503960366 | 4/12/2016 12:00:00 AM | 373 |\n",
       "| 2 | 1503960366 | 4/12/2016 1:00:00 AM  | 160 |\n",
       "| 3 | 1503960366 | 4/12/2016 2:00:00 AM  | 151 |\n",
       "\n"
      ],
      "text/plain": [
       "  Id         ActivityHour          StepTotal\n",
       "1 1503960366 4/12/2016 12:00:00 AM 373      \n",
       "2 1503960366 4/12/2016 1:00:00 AM  160      \n",
       "3 1503960366 4/12/2016 2:00:00 AM  151      "
      ]
     },
     "metadata": {},
     "output_type": "display_data"
    },
    {
     "name": "stdout",
     "output_type": "stream",
     "text": [
      "Rows: 22,099\n",
      "Columns: 3\n",
      "$ Id           \u001b[3m\u001b[90m<dbl>\u001b[39m\u001b[23m 1503960366, 1503960366, 1503960366, 1503960366, 150396036…\n",
      "$ ActivityHour \u001b[3m\u001b[90m<chr>\u001b[39m\u001b[23m \"4/12/2016 12:00:00 AM\", \"4/12/2016 1:00:00 AM\", \"4/12/20…\n",
      "$ StepTotal    \u001b[3m\u001b[90m<int>\u001b[39m\u001b[23m 373, 160, 151, 0, 0, 0, 0, 0, 250, 1864, 676, 360, 253, 2…\n"
     ]
    }
   ],
   "source": [
    "#Exploring the hourly_steps df\n",
    "head(hourly_steps, 3)\n",
    "glimpse(hourly_steps)"
   ]
  },
  {
   "cell_type": "code",
   "execution_count": 4,
   "id": "8d8c66fd",
   "metadata": {
    "execution": {
     "iopub.execute_input": "2023-03-27T13:08:45.317575Z",
     "iopub.status.busy": "2023-03-27T13:08:45.316094Z",
     "iopub.status.idle": "2023-03-27T13:08:45.438371Z",
     "shell.execute_reply": "2023-03-27T13:08:45.436650Z"
    },
    "papermill": {
     "duration": 0.143056,
     "end_time": "2023-03-27T13:08:45.440711",
     "exception": false,
     "start_time": "2023-03-27T13:08:45.297655",
     "status": "completed"
    },
    "tags": []
   },
   "outputs": [
    {
     "data": {
      "text/html": [
       "<table class=\"dataframe\">\n",
       "<caption>A data.frame: 3 × 5</caption>\n",
       "<thead>\n",
       "\t<tr><th></th><th scope=col>Id</th><th scope=col>SleepDay</th><th scope=col>TotalSleepRecords</th><th scope=col>TotalMinutesAsleep</th><th scope=col>TotalTimeInBed</th></tr>\n",
       "\t<tr><th></th><th scope=col>&lt;dbl&gt;</th><th scope=col>&lt;chr&gt;</th><th scope=col>&lt;int&gt;</th><th scope=col>&lt;int&gt;</th><th scope=col>&lt;int&gt;</th></tr>\n",
       "</thead>\n",
       "<tbody>\n",
       "\t<tr><th scope=row>1</th><td>1503960366</td><td>4/12/2016 12:00:00 AM</td><td>1</td><td>327</td><td>346</td></tr>\n",
       "\t<tr><th scope=row>2</th><td>1503960366</td><td>4/13/2016 12:00:00 AM</td><td>2</td><td>384</td><td>407</td></tr>\n",
       "\t<tr><th scope=row>3</th><td>1503960366</td><td>4/15/2016 12:00:00 AM</td><td>1</td><td>412</td><td>442</td></tr>\n",
       "</tbody>\n",
       "</table>\n"
      ],
      "text/latex": [
       "A data.frame: 3 × 5\n",
       "\\begin{tabular}{r|lllll}\n",
       "  & Id & SleepDay & TotalSleepRecords & TotalMinutesAsleep & TotalTimeInBed\\\\\n",
       "  & <dbl> & <chr> & <int> & <int> & <int>\\\\\n",
       "\\hline\n",
       "\t1 & 1503960366 & 4/12/2016 12:00:00 AM & 1 & 327 & 346\\\\\n",
       "\t2 & 1503960366 & 4/13/2016 12:00:00 AM & 2 & 384 & 407\\\\\n",
       "\t3 & 1503960366 & 4/15/2016 12:00:00 AM & 1 & 412 & 442\\\\\n",
       "\\end{tabular}\n"
      ],
      "text/markdown": [
       "\n",
       "A data.frame: 3 × 5\n",
       "\n",
       "| <!--/--> | Id &lt;dbl&gt; | SleepDay &lt;chr&gt; | TotalSleepRecords &lt;int&gt; | TotalMinutesAsleep &lt;int&gt; | TotalTimeInBed &lt;int&gt; |\n",
       "|---|---|---|---|---|---|\n",
       "| 1 | 1503960366 | 4/12/2016 12:00:00 AM | 1 | 327 | 346 |\n",
       "| 2 | 1503960366 | 4/13/2016 12:00:00 AM | 2 | 384 | 407 |\n",
       "| 3 | 1503960366 | 4/15/2016 12:00:00 AM | 1 | 412 | 442 |\n",
       "\n"
      ],
      "text/plain": [
       "  Id         SleepDay              TotalSleepRecords TotalMinutesAsleep\n",
       "1 1503960366 4/12/2016 12:00:00 AM 1                 327               \n",
       "2 1503960366 4/13/2016 12:00:00 AM 2                 384               \n",
       "3 1503960366 4/15/2016 12:00:00 AM 1                 412               \n",
       "  TotalTimeInBed\n",
       "1 346           \n",
       "2 407           \n",
       "3 442           "
      ]
     },
     "metadata": {},
     "output_type": "display_data"
    },
    {
     "name": "stdout",
     "output_type": "stream",
     "text": [
      "Rows: 413\n",
      "Columns: 5\n",
      "$ Id                 \u001b[3m\u001b[90m<dbl>\u001b[39m\u001b[23m 1503960366, 1503960366, 1503960366, 1503960366, 150…\n",
      "$ SleepDay           \u001b[3m\u001b[90m<chr>\u001b[39m\u001b[23m \"4/12/2016 12:00:00 AM\", \"4/13/2016 12:00:00 AM\", \"…\n",
      "$ TotalSleepRecords  \u001b[3m\u001b[90m<int>\u001b[39m\u001b[23m 1, 2, 1, 2, 1, 1, 1, 1, 1, 1, 1, 1, 1, 1, 1, 1, 1, …\n",
      "$ TotalMinutesAsleep \u001b[3m\u001b[90m<int>\u001b[39m\u001b[23m 327, 384, 412, 340, 700, 304, 360, 325, 361, 430, 2…\n",
      "$ TotalTimeInBed     \u001b[3m\u001b[90m<int>\u001b[39m\u001b[23m 346, 407, 442, 367, 712, 320, 377, 364, 384, 449, 3…\n"
     ]
    }
   ],
   "source": [
    "#Exploring the data - sleep df\n",
    "head(sleep, 3)\n",
    "glimpse(sleep)"
   ]
  },
  {
   "cell_type": "code",
   "execution_count": 5,
   "id": "deeb7ffc",
   "metadata": {
    "execution": {
     "iopub.execute_input": "2023-03-27T13:08:45.479699Z",
     "iopub.status.busy": "2023-03-27T13:08:45.478225Z",
     "iopub.status.idle": "2023-03-27T13:08:45.520428Z",
     "shell.execute_reply": "2023-03-27T13:08:45.518467Z"
    },
    "papermill": {
     "duration": 0.064526,
     "end_time": "2023-03-27T13:08:45.523174",
     "exception": false,
     "start_time": "2023-03-27T13:08:45.458648",
     "status": "completed"
    },
    "tags": []
   },
   "outputs": [
    {
     "data": {
      "text/html": [
       "<table class=\"dataframe\">\n",
       "<caption>A data.frame: 3 × 15</caption>\n",
       "<thead>\n",
       "\t<tr><th></th><th scope=col>Id</th><th scope=col>ActivityDate</th><th scope=col>TotalSteps</th><th scope=col>TotalDistance</th><th scope=col>TrackerDistance</th><th scope=col>LoggedActivitiesDistance</th><th scope=col>VeryActiveDistance</th><th scope=col>ModeratelyActiveDistance</th><th scope=col>LightActiveDistance</th><th scope=col>SedentaryActiveDistance</th><th scope=col>VeryActiveMinutes</th><th scope=col>FairlyActiveMinutes</th><th scope=col>LightlyActiveMinutes</th><th scope=col>SedentaryMinutes</th><th scope=col>Calories</th></tr>\n",
       "\t<tr><th></th><th scope=col>&lt;dbl&gt;</th><th scope=col>&lt;chr&gt;</th><th scope=col>&lt;int&gt;</th><th scope=col>&lt;dbl&gt;</th><th scope=col>&lt;dbl&gt;</th><th scope=col>&lt;dbl&gt;</th><th scope=col>&lt;dbl&gt;</th><th scope=col>&lt;dbl&gt;</th><th scope=col>&lt;dbl&gt;</th><th scope=col>&lt;dbl&gt;</th><th scope=col>&lt;int&gt;</th><th scope=col>&lt;int&gt;</th><th scope=col>&lt;int&gt;</th><th scope=col>&lt;int&gt;</th><th scope=col>&lt;int&gt;</th></tr>\n",
       "</thead>\n",
       "<tbody>\n",
       "\t<tr><th scope=row>1</th><td>1503960366</td><td>4/12/2016</td><td>13162</td><td>8.50</td><td>8.50</td><td>0</td><td>1.88</td><td>0.55</td><td>6.06</td><td>0</td><td>25</td><td>13</td><td>328</td><td> 728</td><td>1985</td></tr>\n",
       "\t<tr><th scope=row>2</th><td>1503960366</td><td>4/13/2016</td><td>10735</td><td>6.97</td><td>6.97</td><td>0</td><td>1.57</td><td>0.69</td><td>4.71</td><td>0</td><td>21</td><td>19</td><td>217</td><td> 776</td><td>1797</td></tr>\n",
       "\t<tr><th scope=row>3</th><td>1503960366</td><td>4/14/2016</td><td>10460</td><td>6.74</td><td>6.74</td><td>0</td><td>2.44</td><td>0.40</td><td>3.91</td><td>0</td><td>30</td><td>11</td><td>181</td><td>1218</td><td>1776</td></tr>\n",
       "</tbody>\n",
       "</table>\n"
      ],
      "text/latex": [
       "A data.frame: 3 × 15\n",
       "\\begin{tabular}{r|lllllllllllllll}\n",
       "  & Id & ActivityDate & TotalSteps & TotalDistance & TrackerDistance & LoggedActivitiesDistance & VeryActiveDistance & ModeratelyActiveDistance & LightActiveDistance & SedentaryActiveDistance & VeryActiveMinutes & FairlyActiveMinutes & LightlyActiveMinutes & SedentaryMinutes & Calories\\\\\n",
       "  & <dbl> & <chr> & <int> & <dbl> & <dbl> & <dbl> & <dbl> & <dbl> & <dbl> & <dbl> & <int> & <int> & <int> & <int> & <int>\\\\\n",
       "\\hline\n",
       "\t1 & 1503960366 & 4/12/2016 & 13162 & 8.50 & 8.50 & 0 & 1.88 & 0.55 & 6.06 & 0 & 25 & 13 & 328 &  728 & 1985\\\\\n",
       "\t2 & 1503960366 & 4/13/2016 & 10735 & 6.97 & 6.97 & 0 & 1.57 & 0.69 & 4.71 & 0 & 21 & 19 & 217 &  776 & 1797\\\\\n",
       "\t3 & 1503960366 & 4/14/2016 & 10460 & 6.74 & 6.74 & 0 & 2.44 & 0.40 & 3.91 & 0 & 30 & 11 & 181 & 1218 & 1776\\\\\n",
       "\\end{tabular}\n"
      ],
      "text/markdown": [
       "\n",
       "A data.frame: 3 × 15\n",
       "\n",
       "| <!--/--> | Id &lt;dbl&gt; | ActivityDate &lt;chr&gt; | TotalSteps &lt;int&gt; | TotalDistance &lt;dbl&gt; | TrackerDistance &lt;dbl&gt; | LoggedActivitiesDistance &lt;dbl&gt; | VeryActiveDistance &lt;dbl&gt; | ModeratelyActiveDistance &lt;dbl&gt; | LightActiveDistance &lt;dbl&gt; | SedentaryActiveDistance &lt;dbl&gt; | VeryActiveMinutes &lt;int&gt; | FairlyActiveMinutes &lt;int&gt; | LightlyActiveMinutes &lt;int&gt; | SedentaryMinutes &lt;int&gt; | Calories &lt;int&gt; |\n",
       "|---|---|---|---|---|---|---|---|---|---|---|---|---|---|---|---|\n",
       "| 1 | 1503960366 | 4/12/2016 | 13162 | 8.50 | 8.50 | 0 | 1.88 | 0.55 | 6.06 | 0 | 25 | 13 | 328 |  728 | 1985 |\n",
       "| 2 | 1503960366 | 4/13/2016 | 10735 | 6.97 | 6.97 | 0 | 1.57 | 0.69 | 4.71 | 0 | 21 | 19 | 217 |  776 | 1797 |\n",
       "| 3 | 1503960366 | 4/14/2016 | 10460 | 6.74 | 6.74 | 0 | 2.44 | 0.40 | 3.91 | 0 | 30 | 11 | 181 | 1218 | 1776 |\n",
       "\n"
      ],
      "text/plain": [
       "  Id         ActivityDate TotalSteps TotalDistance TrackerDistance\n",
       "1 1503960366 4/12/2016    13162      8.50          8.50           \n",
       "2 1503960366 4/13/2016    10735      6.97          6.97           \n",
       "3 1503960366 4/14/2016    10460      6.74          6.74           \n",
       "  LoggedActivitiesDistance VeryActiveDistance ModeratelyActiveDistance\n",
       "1 0                        1.88               0.55                    \n",
       "2 0                        1.57               0.69                    \n",
       "3 0                        2.44               0.40                    \n",
       "  LightActiveDistance SedentaryActiveDistance VeryActiveMinutes\n",
       "1 6.06                0                       25               \n",
       "2 4.71                0                       21               \n",
       "3 3.91                0                       30               \n",
       "  FairlyActiveMinutes LightlyActiveMinutes SedentaryMinutes Calories\n",
       "1 13                  328                   728             1985    \n",
       "2 19                  217                   776             1797    \n",
       "3 11                  181                  1218             1776    "
      ]
     },
     "metadata": {},
     "output_type": "display_data"
    },
    {
     "name": "stdout",
     "output_type": "stream",
     "text": [
      "Rows: 940\n",
      "Columns: 15\n",
      "$ Id                       \u001b[3m\u001b[90m<dbl>\u001b[39m\u001b[23m 1503960366, 1503960366, 1503960366, 150396036…\n",
      "$ ActivityDate             \u001b[3m\u001b[90m<chr>\u001b[39m\u001b[23m \"4/12/2016\", \"4/13/2016\", \"4/14/2016\", \"4/15/…\n",
      "$ TotalSteps               \u001b[3m\u001b[90m<int>\u001b[39m\u001b[23m 13162, 10735, 10460, 9762, 12669, 9705, 13019…\n",
      "$ TotalDistance            \u001b[3m\u001b[90m<dbl>\u001b[39m\u001b[23m 8.50, 6.97, 6.74, 6.28, 8.16, 6.48, 8.59, 9.8…\n",
      "$ TrackerDistance          \u001b[3m\u001b[90m<dbl>\u001b[39m\u001b[23m 8.50, 6.97, 6.74, 6.28, 8.16, 6.48, 8.59, 9.8…\n",
      "$ LoggedActivitiesDistance \u001b[3m\u001b[90m<dbl>\u001b[39m\u001b[23m 0, 0, 0, 0, 0, 0, 0, 0, 0, 0, 0, 0, 0, 0, 0, …\n",
      "$ VeryActiveDistance       \u001b[3m\u001b[90m<dbl>\u001b[39m\u001b[23m 1.88, 1.57, 2.44, 2.14, 2.71, 3.19, 3.25, 3.5…\n",
      "$ ModeratelyActiveDistance \u001b[3m\u001b[90m<dbl>\u001b[39m\u001b[23m 0.55, 0.69, 0.40, 1.26, 0.41, 0.78, 0.64, 1.3…\n",
      "$ LightActiveDistance      \u001b[3m\u001b[90m<dbl>\u001b[39m\u001b[23m 6.06, 4.71, 3.91, 2.83, 5.04, 2.51, 4.71, 5.0…\n",
      "$ SedentaryActiveDistance  \u001b[3m\u001b[90m<dbl>\u001b[39m\u001b[23m 0, 0, 0, 0, 0, 0, 0, 0, 0, 0, 0, 0, 0, 0, 0, …\n",
      "$ VeryActiveMinutes        \u001b[3m\u001b[90m<int>\u001b[39m\u001b[23m 25, 21, 30, 29, 36, 38, 42, 50, 28, 19, 66, 4…\n",
      "$ FairlyActiveMinutes      \u001b[3m\u001b[90m<int>\u001b[39m\u001b[23m 13, 19, 11, 34, 10, 20, 16, 31, 12, 8, 27, 21…\n",
      "$ LightlyActiveMinutes     \u001b[3m\u001b[90m<int>\u001b[39m\u001b[23m 328, 217, 181, 209, 221, 164, 233, 264, 205, …\n",
      "$ SedentaryMinutes         \u001b[3m\u001b[90m<int>\u001b[39m\u001b[23m 728, 776, 1218, 726, 773, 539, 1149, 775, 818…\n",
      "$ Calories                 \u001b[3m\u001b[90m<int>\u001b[39m\u001b[23m 1985, 1797, 1776, 1745, 1863, 1728, 1921, 203…\n"
     ]
    }
   ],
   "source": [
    "#Exploring the daily_activity df\n",
    "head(daily_activity, 3)\n",
    "glimpse(daily_activity)"
   ]
  },
  {
   "cell_type": "code",
   "execution_count": 6,
   "id": "709b7f93",
   "metadata": {
    "execution": {
     "iopub.execute_input": "2023-03-27T13:08:45.562865Z",
     "iopub.status.busy": "2023-03-27T13:08:45.561435Z",
     "iopub.status.idle": "2023-03-27T13:08:45.659865Z",
     "shell.execute_reply": "2023-03-27T13:08:45.657768Z"
    },
    "papermill": {
     "duration": 0.121247,
     "end_time": "2023-03-27T13:08:45.662674",
     "exception": false,
     "start_time": "2023-03-27T13:08:45.541427",
     "status": "completed"
    },
    "tags": []
   },
   "outputs": [
    {
     "data": {
      "text/html": [
       "<table class=\"dataframe\">\n",
       "<caption>A data.frame: 3 × 8</caption>\n",
       "<thead>\n",
       "\t<tr><th></th><th scope=col>Id</th><th scope=col>Date</th><th scope=col>WeightKg</th><th scope=col>WeightPounds</th><th scope=col>Fat</th><th scope=col>BMI</th><th scope=col>IsManualReport</th><th scope=col>LogId</th></tr>\n",
       "\t<tr><th></th><th scope=col>&lt;dbl&gt;</th><th scope=col>&lt;chr&gt;</th><th scope=col>&lt;dbl&gt;</th><th scope=col>&lt;dbl&gt;</th><th scope=col>&lt;int&gt;</th><th scope=col>&lt;dbl&gt;</th><th scope=col>&lt;chr&gt;</th><th scope=col>&lt;dbl&gt;</th></tr>\n",
       "</thead>\n",
       "<tbody>\n",
       "\t<tr><th scope=row>1</th><td>1503960366</td><td>5/2/2016 11:59:59 PM</td><td> 52.6</td><td>115.9631</td><td>22</td><td>22.65</td><td>True </td><td>1.462234e+12</td></tr>\n",
       "\t<tr><th scope=row>2</th><td>1503960366</td><td>5/3/2016 11:59:59 PM</td><td> 52.6</td><td>115.9631</td><td>NA</td><td>22.65</td><td>True </td><td>1.462320e+12</td></tr>\n",
       "\t<tr><th scope=row>3</th><td>1927972279</td><td>4/13/2016 1:08:52 AM</td><td>133.5</td><td>294.3171</td><td>NA</td><td>47.54</td><td>False</td><td>1.460510e+12</td></tr>\n",
       "</tbody>\n",
       "</table>\n"
      ],
      "text/latex": [
       "A data.frame: 3 × 8\n",
       "\\begin{tabular}{r|llllllll}\n",
       "  & Id & Date & WeightKg & WeightPounds & Fat & BMI & IsManualReport & LogId\\\\\n",
       "  & <dbl> & <chr> & <dbl> & <dbl> & <int> & <dbl> & <chr> & <dbl>\\\\\n",
       "\\hline\n",
       "\t1 & 1503960366 & 5/2/2016 11:59:59 PM &  52.6 & 115.9631 & 22 & 22.65 & True  & 1.462234e+12\\\\\n",
       "\t2 & 1503960366 & 5/3/2016 11:59:59 PM &  52.6 & 115.9631 & NA & 22.65 & True  & 1.462320e+12\\\\\n",
       "\t3 & 1927972279 & 4/13/2016 1:08:52 AM & 133.5 & 294.3171 & NA & 47.54 & False & 1.460510e+12\\\\\n",
       "\\end{tabular}\n"
      ],
      "text/markdown": [
       "\n",
       "A data.frame: 3 × 8\n",
       "\n",
       "| <!--/--> | Id &lt;dbl&gt; | Date &lt;chr&gt; | WeightKg &lt;dbl&gt; | WeightPounds &lt;dbl&gt; | Fat &lt;int&gt; | BMI &lt;dbl&gt; | IsManualReport &lt;chr&gt; | LogId &lt;dbl&gt; |\n",
       "|---|---|---|---|---|---|---|---|---|\n",
       "| 1 | 1503960366 | 5/2/2016 11:59:59 PM |  52.6 | 115.9631 | 22 | 22.65 | True  | 1.462234e+12 |\n",
       "| 2 | 1503960366 | 5/3/2016 11:59:59 PM |  52.6 | 115.9631 | NA | 22.65 | True  | 1.462320e+12 |\n",
       "| 3 | 1927972279 | 4/13/2016 1:08:52 AM | 133.5 | 294.3171 | NA | 47.54 | False | 1.460510e+12 |\n",
       "\n"
      ],
      "text/plain": [
       "  Id         Date                 WeightKg WeightPounds Fat BMI  \n",
       "1 1503960366 5/2/2016 11:59:59 PM  52.6    115.9631     22  22.65\n",
       "2 1503960366 5/3/2016 11:59:59 PM  52.6    115.9631     NA  22.65\n",
       "3 1927972279 4/13/2016 1:08:52 AM 133.5    294.3171     NA  47.54\n",
       "  IsManualReport LogId       \n",
       "1 True           1.462234e+12\n",
       "2 True           1.462320e+12\n",
       "3 False          1.460510e+12"
      ]
     },
     "metadata": {},
     "output_type": "display_data"
    },
    {
     "name": "stdout",
     "output_type": "stream",
     "text": [
      "Rows: 67\n",
      "Columns: 8\n",
      "$ Id             \u001b[3m\u001b[90m<dbl>\u001b[39m\u001b[23m 1503960366, 1503960366, 1927972279, 2873212765, 2873212…\n",
      "$ Date           \u001b[3m\u001b[90m<chr>\u001b[39m\u001b[23m \"5/2/2016 11:59:59 PM\", \"5/3/2016 11:59:59 PM\", \"4/13/2…\n",
      "$ WeightKg       \u001b[3m\u001b[90m<dbl>\u001b[39m\u001b[23m 52.6, 52.6, 133.5, 56.7, 57.3, 72.4, 72.3, 69.7, 70.3, …\n",
      "$ WeightPounds   \u001b[3m\u001b[90m<dbl>\u001b[39m\u001b[23m 115.9631, 115.9631, 294.3171, 125.0021, 126.3249, 159.6…\n",
      "$ Fat            \u001b[3m\u001b[90m<int>\u001b[39m\u001b[23m 22, NA, NA, NA, NA, 25, NA, NA, NA, NA, NA, NA, NA, NA,…\n",
      "$ BMI            \u001b[3m\u001b[90m<dbl>\u001b[39m\u001b[23m 22.65, 22.65, 47.54, 21.45, 21.69, 27.45, 27.38, 27.25,…\n",
      "$ IsManualReport \u001b[3m\u001b[90m<chr>\u001b[39m\u001b[23m \"True\", \"True\", \"False\", \"True\", \"True\", \"True\", \"True\"…\n",
      "$ LogId          \u001b[3m\u001b[90m<dbl>\u001b[39m\u001b[23m 1.462234e+12, 1.462320e+12, 1.460510e+12, 1.461283e+12,…\n"
     ]
    },
    {
     "data": {
      "text/html": [
       "<table class=\"dataframe\">\n",
       "<caption>A data.frame: 3 × 3</caption>\n",
       "<thead>\n",
       "\t<tr><th></th><th scope=col>Id</th><th scope=col>Time</th><th scope=col>Value</th></tr>\n",
       "\t<tr><th></th><th scope=col>&lt;dbl&gt;</th><th scope=col>&lt;chr&gt;</th><th scope=col>&lt;int&gt;</th></tr>\n",
       "</thead>\n",
       "<tbody>\n",
       "\t<tr><th scope=row>1</th><td>2022484408</td><td>4/12/2016 7:21:00 AM</td><td> 97</td></tr>\n",
       "\t<tr><th scope=row>2</th><td>2022484408</td><td>4/12/2016 7:21:05 AM</td><td>102</td></tr>\n",
       "\t<tr><th scope=row>3</th><td>2022484408</td><td>4/12/2016 7:21:10 AM</td><td>105</td></tr>\n",
       "</tbody>\n",
       "</table>\n"
      ],
      "text/latex": [
       "A data.frame: 3 × 3\n",
       "\\begin{tabular}{r|lll}\n",
       "  & Id & Time & Value\\\\\n",
       "  & <dbl> & <chr> & <int>\\\\\n",
       "\\hline\n",
       "\t1 & 2022484408 & 4/12/2016 7:21:00 AM &  97\\\\\n",
       "\t2 & 2022484408 & 4/12/2016 7:21:05 AM & 102\\\\\n",
       "\t3 & 2022484408 & 4/12/2016 7:21:10 AM & 105\\\\\n",
       "\\end{tabular}\n"
      ],
      "text/markdown": [
       "\n",
       "A data.frame: 3 × 3\n",
       "\n",
       "| <!--/--> | Id &lt;dbl&gt; | Time &lt;chr&gt; | Value &lt;int&gt; |\n",
       "|---|---|---|---|\n",
       "| 1 | 2022484408 | 4/12/2016 7:21:00 AM |  97 |\n",
       "| 2 | 2022484408 | 4/12/2016 7:21:05 AM | 102 |\n",
       "| 3 | 2022484408 | 4/12/2016 7:21:10 AM | 105 |\n",
       "\n"
      ],
      "text/plain": [
       "  Id         Time                 Value\n",
       "1 2022484408 4/12/2016 7:21:00 AM  97  \n",
       "2 2022484408 4/12/2016 7:21:05 AM 102  \n",
       "3 2022484408 4/12/2016 7:21:10 AM 105  "
      ]
     },
     "metadata": {},
     "output_type": "display_data"
    },
    {
     "name": "stdout",
     "output_type": "stream",
     "text": [
      "Rows: 2,483,658\n",
      "Columns: 3\n",
      "$ Id    \u001b[3m\u001b[90m<dbl>\u001b[39m\u001b[23m 2022484408, 2022484408, 2022484408, 2022484408, 2022484408, 2022…\n",
      "$ Time  \u001b[3m\u001b[90m<chr>\u001b[39m\u001b[23m \"4/12/2016 7:21:00 AM\", \"4/12/2016 7:21:05 AM\", \"4/12/2016 7:21:…\n",
      "$ Value \u001b[3m\u001b[90m<int>\u001b[39m\u001b[23m 97, 102, 105, 103, 101, 95, 91, 93, 94, 93, 92, 89, 83, 61, 60, …\n"
     ]
    },
    {
     "data": {
      "text/html": [
       "<table class=\"dataframe\">\n",
       "<caption>A data.frame: 3 × 3</caption>\n",
       "<thead>\n",
       "\t<tr><th></th><th scope=col>Id</th><th scope=col>ActivityHour</th><th scope=col>Calories</th></tr>\n",
       "\t<tr><th></th><th scope=col>&lt;dbl&gt;</th><th scope=col>&lt;chr&gt;</th><th scope=col>&lt;int&gt;</th></tr>\n",
       "</thead>\n",
       "<tbody>\n",
       "\t<tr><th scope=row>1</th><td>1503960366</td><td>4/12/2016 12:00:00 AM</td><td>81</td></tr>\n",
       "\t<tr><th scope=row>2</th><td>1503960366</td><td>4/12/2016 1:00:00 AM </td><td>61</td></tr>\n",
       "\t<tr><th scope=row>3</th><td>1503960366</td><td>4/12/2016 2:00:00 AM </td><td>59</td></tr>\n",
       "</tbody>\n",
       "</table>\n"
      ],
      "text/latex": [
       "A data.frame: 3 × 3\n",
       "\\begin{tabular}{r|lll}\n",
       "  & Id & ActivityHour & Calories\\\\\n",
       "  & <dbl> & <chr> & <int>\\\\\n",
       "\\hline\n",
       "\t1 & 1503960366 & 4/12/2016 12:00:00 AM & 81\\\\\n",
       "\t2 & 1503960366 & 4/12/2016 1:00:00 AM  & 61\\\\\n",
       "\t3 & 1503960366 & 4/12/2016 2:00:00 AM  & 59\\\\\n",
       "\\end{tabular}\n"
      ],
      "text/markdown": [
       "\n",
       "A data.frame: 3 × 3\n",
       "\n",
       "| <!--/--> | Id &lt;dbl&gt; | ActivityHour &lt;chr&gt; | Calories &lt;int&gt; |\n",
       "|---|---|---|---|\n",
       "| 1 | 1503960366 | 4/12/2016 12:00:00 AM | 81 |\n",
       "| 2 | 1503960366 | 4/12/2016 1:00:00 AM  | 61 |\n",
       "| 3 | 1503960366 | 4/12/2016 2:00:00 AM  | 59 |\n",
       "\n"
      ],
      "text/plain": [
       "  Id         ActivityHour          Calories\n",
       "1 1503960366 4/12/2016 12:00:00 AM 81      \n",
       "2 1503960366 4/12/2016 1:00:00 AM  61      \n",
       "3 1503960366 4/12/2016 2:00:00 AM  59      "
      ]
     },
     "metadata": {},
     "output_type": "display_data"
    },
    {
     "name": "stdout",
     "output_type": "stream",
     "text": [
      "Rows: 22,099\n",
      "Columns: 3\n",
      "$ Id           \u001b[3m\u001b[90m<dbl>\u001b[39m\u001b[23m 1503960366, 1503960366, 1503960366, 1503960366, 150396036…\n",
      "$ ActivityHour \u001b[3m\u001b[90m<chr>\u001b[39m\u001b[23m \"4/12/2016 12:00:00 AM\", \"4/12/2016 1:00:00 AM\", \"4/12/20…\n",
      "$ Calories     \u001b[3m\u001b[90m<int>\u001b[39m\u001b[23m 81, 61, 59, 47, 48, 48, 48, 47, 68, 141, 99, 76, 73, 66, …\n"
     ]
    },
    {
     "data": {
      "text/html": [
       "<table class=\"dataframe\">\n",
       "<caption>A data.frame: 3 × 4</caption>\n",
       "<thead>\n",
       "\t<tr><th></th><th scope=col>Id</th><th scope=col>ActivityHour</th><th scope=col>TotalIntensity</th><th scope=col>AverageIntensity</th></tr>\n",
       "\t<tr><th></th><th scope=col>&lt;dbl&gt;</th><th scope=col>&lt;chr&gt;</th><th scope=col>&lt;int&gt;</th><th scope=col>&lt;dbl&gt;</th></tr>\n",
       "</thead>\n",
       "<tbody>\n",
       "\t<tr><th scope=row>1</th><td>1503960366</td><td>4/12/2016 12:00:00 AM</td><td>20</td><td>0.333333</td></tr>\n",
       "\t<tr><th scope=row>2</th><td>1503960366</td><td>4/12/2016 1:00:00 AM </td><td> 8</td><td>0.133333</td></tr>\n",
       "\t<tr><th scope=row>3</th><td>1503960366</td><td>4/12/2016 2:00:00 AM </td><td> 7</td><td>0.116667</td></tr>\n",
       "</tbody>\n",
       "</table>\n"
      ],
      "text/latex": [
       "A data.frame: 3 × 4\n",
       "\\begin{tabular}{r|llll}\n",
       "  & Id & ActivityHour & TotalIntensity & AverageIntensity\\\\\n",
       "  & <dbl> & <chr> & <int> & <dbl>\\\\\n",
       "\\hline\n",
       "\t1 & 1503960366 & 4/12/2016 12:00:00 AM & 20 & 0.333333\\\\\n",
       "\t2 & 1503960366 & 4/12/2016 1:00:00 AM  &  8 & 0.133333\\\\\n",
       "\t3 & 1503960366 & 4/12/2016 2:00:00 AM  &  7 & 0.116667\\\\\n",
       "\\end{tabular}\n"
      ],
      "text/markdown": [
       "\n",
       "A data.frame: 3 × 4\n",
       "\n",
       "| <!--/--> | Id &lt;dbl&gt; | ActivityHour &lt;chr&gt; | TotalIntensity &lt;int&gt; | AverageIntensity &lt;dbl&gt; |\n",
       "|---|---|---|---|---|\n",
       "| 1 | 1503960366 | 4/12/2016 12:00:00 AM | 20 | 0.333333 |\n",
       "| 2 | 1503960366 | 4/12/2016 1:00:00 AM  |  8 | 0.133333 |\n",
       "| 3 | 1503960366 | 4/12/2016 2:00:00 AM  |  7 | 0.116667 |\n",
       "\n"
      ],
      "text/plain": [
       "  Id         ActivityHour          TotalIntensity AverageIntensity\n",
       "1 1503960366 4/12/2016 12:00:00 AM 20             0.333333        \n",
       "2 1503960366 4/12/2016 1:00:00 AM   8             0.133333        \n",
       "3 1503960366 4/12/2016 2:00:00 AM   7             0.116667        "
      ]
     },
     "metadata": {},
     "output_type": "display_data"
    },
    {
     "name": "stdout",
     "output_type": "stream",
     "text": [
      "Rows: 22,099\n",
      "Columns: 4\n",
      "$ Id               \u001b[3m\u001b[90m<dbl>\u001b[39m\u001b[23m 1503960366, 1503960366, 1503960366, 1503960366, 15039…\n",
      "$ ActivityHour     \u001b[3m\u001b[90m<chr>\u001b[39m\u001b[23m \"4/12/2016 12:00:00 AM\", \"4/12/2016 1:00:00 AM\", \"4/1…\n",
      "$ TotalIntensity   \u001b[3m\u001b[90m<int>\u001b[39m\u001b[23m 20, 8, 7, 0, 0, 0, 0, 0, 13, 30, 29, 12, 11, 6, 36, 5…\n",
      "$ AverageIntensity \u001b[3m\u001b[90m<dbl>\u001b[39m\u001b[23m 0.333333, 0.133333, 0.116667, 0.000000, 0.000000, 0.0…\n"
     ]
    }
   ],
   "source": [
    "#weight df\n",
    "head(weight, 3)\n",
    "glimpse(weight)\n",
    "\n",
    "#heart_rate df\n",
    "head(heart_rate, 3)\n",
    "glimpse(heart_rate)\n",
    "\n",
    "#hourly_calories df\n",
    "head(hourly_calories, 3)\n",
    "glimpse(hourly_calories)\n",
    "\n",
    "#hourly_intensities df\n",
    "head(hourly_intensities, 3)\n",
    "glimpse(hourly_intensities)"
   ]
  },
  {
   "cell_type": "markdown",
   "id": "6e10738f",
   "metadata": {
    "papermill": {
     "duration": 0.01802,
     "end_time": "2023-03-27T13:08:45.699818",
     "exception": false,
     "start_time": "2023-03-27T13:08:45.681798",
     "status": "completed"
    },
    "tags": []
   },
   "source": [
    "## Working on date/time columns"
   ]
  },
  {
   "cell_type": "markdown",
   "id": "af8e64ce",
   "metadata": {
    "papermill": {
     "duration": 0.017992,
     "end_time": "2023-03-27T13:08:45.735562",
     "exception": false,
     "start_time": "2023-03-27T13:08:45.717570",
     "status": "completed"
    },
    "tags": []
   },
   "source": [
    "Splitting the ActivityHour into ActivityDate and ActivityTime and the formatting the ActivityDate into date type"
   ]
  },
  {
   "cell_type": "code",
   "execution_count": 7,
   "id": "d9e2282b",
   "metadata": {
    "execution": {
     "iopub.execute_input": "2023-03-27T13:08:45.774957Z",
     "iopub.status.busy": "2023-03-27T13:08:45.773366Z",
     "iopub.status.idle": "2023-03-27T13:08:46.632750Z",
     "shell.execute_reply": "2023-03-27T13:08:46.630681Z"
    },
    "papermill": {
     "duration": 0.881807,
     "end_time": "2023-03-27T13:08:46.635273",
     "exception": false,
     "start_time": "2023-03-27T13:08:45.753466",
     "status": "completed"
    },
    "tags": []
   },
   "outputs": [
    {
     "data": {
      "text/html": [
       "<table class=\"dataframe\">\n",
       "<caption>A data.frame: 6 × 5</caption>\n",
       "<thead>\n",
       "\t<tr><th></th><th scope=col>Id</th><th scope=col>ActivityDate</th><th scope=col>ActivityTime</th><th scope=col>StepTotal</th><th scope=col>Weekday</th></tr>\n",
       "\t<tr><th></th><th scope=col>&lt;dbl&gt;</th><th scope=col>&lt;date&gt;</th><th scope=col>&lt;chr&gt;</th><th scope=col>&lt;int&gt;</th><th scope=col>&lt;chr&gt;</th></tr>\n",
       "</thead>\n",
       "<tbody>\n",
       "\t<tr><th scope=row>1</th><td>1503960366</td><td>2016-04-12</td><td>00:00:00</td><td>373</td><td>Tuesday</td></tr>\n",
       "\t<tr><th scope=row>2</th><td>1503960366</td><td>2016-04-12</td><td>01:00:00</td><td>160</td><td>Tuesday</td></tr>\n",
       "\t<tr><th scope=row>3</th><td>1503960366</td><td>2016-04-12</td><td>02:00:00</td><td>151</td><td>Tuesday</td></tr>\n",
       "\t<tr><th scope=row>4</th><td>1503960366</td><td>2016-04-12</td><td>03:00:00</td><td>  0</td><td>Tuesday</td></tr>\n",
       "\t<tr><th scope=row>5</th><td>1503960366</td><td>2016-04-12</td><td>04:00:00</td><td>  0</td><td>Tuesday</td></tr>\n",
       "\t<tr><th scope=row>6</th><td>1503960366</td><td>2016-04-12</td><td>05:00:00</td><td>  0</td><td>Tuesday</td></tr>\n",
       "</tbody>\n",
       "</table>\n"
      ],
      "text/latex": [
       "A data.frame: 6 × 5\n",
       "\\begin{tabular}{r|lllll}\n",
       "  & Id & ActivityDate & ActivityTime & StepTotal & Weekday\\\\\n",
       "  & <dbl> & <date> & <chr> & <int> & <chr>\\\\\n",
       "\\hline\n",
       "\t1 & 1503960366 & 2016-04-12 & 00:00:00 & 373 & Tuesday\\\\\n",
       "\t2 & 1503960366 & 2016-04-12 & 01:00:00 & 160 & Tuesday\\\\\n",
       "\t3 & 1503960366 & 2016-04-12 & 02:00:00 & 151 & Tuesday\\\\\n",
       "\t4 & 1503960366 & 2016-04-12 & 03:00:00 &   0 & Tuesday\\\\\n",
       "\t5 & 1503960366 & 2016-04-12 & 04:00:00 &   0 & Tuesday\\\\\n",
       "\t6 & 1503960366 & 2016-04-12 & 05:00:00 &   0 & Tuesday\\\\\n",
       "\\end{tabular}\n"
      ],
      "text/markdown": [
       "\n",
       "A data.frame: 6 × 5\n",
       "\n",
       "| <!--/--> | Id &lt;dbl&gt; | ActivityDate &lt;date&gt; | ActivityTime &lt;chr&gt; | StepTotal &lt;int&gt; | Weekday &lt;chr&gt; |\n",
       "|---|---|---|---|---|---|\n",
       "| 1 | 1503960366 | 2016-04-12 | 00:00:00 | 373 | Tuesday |\n",
       "| 2 | 1503960366 | 2016-04-12 | 01:00:00 | 160 | Tuesday |\n",
       "| 3 | 1503960366 | 2016-04-12 | 02:00:00 | 151 | Tuesday |\n",
       "| 4 | 1503960366 | 2016-04-12 | 03:00:00 |   0 | Tuesday |\n",
       "| 5 | 1503960366 | 2016-04-12 | 04:00:00 |   0 | Tuesday |\n",
       "| 6 | 1503960366 | 2016-04-12 | 05:00:00 |   0 | Tuesday |\n",
       "\n"
      ],
      "text/plain": [
       "  Id         ActivityDate ActivityTime StepTotal Weekday\n",
       "1 1503960366 2016-04-12   00:00:00     373       Tuesday\n",
       "2 1503960366 2016-04-12   01:00:00     160       Tuesday\n",
       "3 1503960366 2016-04-12   02:00:00     151       Tuesday\n",
       "4 1503960366 2016-04-12   03:00:00       0       Tuesday\n",
       "5 1503960366 2016-04-12   04:00:00       0       Tuesday\n",
       "6 1503960366 2016-04-12   05:00:00       0       Tuesday"
      ]
     },
     "metadata": {},
     "output_type": "display_data"
    },
    {
     "name": "stdout",
     "output_type": "stream",
     "text": [
      "Rows: 22,099\n",
      "Columns: 5\n",
      "$ Id           \u001b[3m\u001b[90m<dbl>\u001b[39m\u001b[23m 1503960366, 1503960366, 1503960366, 1503960366, 150396036…\n",
      "$ ActivityDate \u001b[3m\u001b[90m<date>\u001b[39m\u001b[23m 2016-04-12, 2016-04-12, 2016-04-12, 2016-04-12, 2016-04-…\n",
      "$ ActivityTime \u001b[3m\u001b[90m<chr>\u001b[39m\u001b[23m \"00:00:00\", \"01:00:00\", \"02:00:00\", \"03:00:00\", \"04:00:00…\n",
      "$ StepTotal    \u001b[3m\u001b[90m<int>\u001b[39m\u001b[23m 373, 160, 151, 0, 0, 0, 0, 0, 250, 1864, 676, 360, 253, 2…\n",
      "$ Weekday      \u001b[3m\u001b[90m<chr>\u001b[39m\u001b[23m \"Tuesday\", \"Tuesday\", \"Tuesday\", \"Tuesday\", \"Tuesday\", \"T…\n"
     ]
    }
   ],
   "source": [
    "#hourly_steps df\n",
    "#Splitting the ActivityHour column into ActivityDate and ActivityTime columns\n",
    "#Formatting the ActivityDate column from chr to date\n",
    "new_hourly_steps <- hourly_steps %>%\n",
    "mutate(ActivityHour = as.POSIXct(ActivityHour, format = \"%m/%d/%Y %I:%M:%S %p\" , tz=Sys.timezone())) %>%\n",
    "separate(ActivityHour, \n",
    "        into = c(\"ActivityDate\", \"ActivityTime\"), \n",
    "        sep = \" \") %>%\n",
    "mutate(ActivityDate = ymd(ActivityDate)) %>%\n",
    "mutate(Weekday = weekdays(ActivityDate))\n",
    "head(new_hourly_steps)\n",
    "glimpse(new_hourly_steps)"
   ]
  },
  {
   "cell_type": "markdown",
   "id": "c99067b0",
   "metadata": {
    "papermill": {
     "duration": 0.01804,
     "end_time": "2023-03-27T13:08:46.671626",
     "exception": false,
     "start_time": "2023-03-27T13:08:46.653586",
     "status": "completed"
    },
    "tags": []
   },
   "source": [
    "On the sleep data frame; splitting the SleepDay column into Date and Time columns and then dropping the time column because I won't use it."
   ]
  },
  {
   "cell_type": "code",
   "execution_count": 8,
   "id": "9a5e2dee",
   "metadata": {
    "execution": {
     "iopub.execute_input": "2023-03-27T13:08:46.712279Z",
     "iopub.status.busy": "2023-03-27T13:08:46.710654Z",
     "iopub.status.idle": "2023-03-27T13:08:46.868494Z",
     "shell.execute_reply": "2023-03-27T13:08:46.866499Z"
    },
    "papermill": {
     "duration": 0.180536,
     "end_time": "2023-03-27T13:08:46.870891",
     "exception": false,
     "start_time": "2023-03-27T13:08:46.690355",
     "status": "completed"
    },
    "tags": []
   },
   "outputs": [
    {
     "name": "stderr",
     "output_type": "stream",
     "text": [
      "Warning message:\n",
      "“\u001b[1m\u001b[22mExpected 2 pieces. Additional pieces discarded in 413 rows [1, 2, 3, 4, 5, 6,\n",
      "7, 8, 9, 10, 11, 12, 13, 14, 15, 16, 17, 18, 19, 20, ...].”\n"
     ]
    },
    {
     "data": {
      "text/html": [
       "<table class=\"dataframe\">\n",
       "<caption>A data.frame: 6 × 5</caption>\n",
       "<thead>\n",
       "\t<tr><th></th><th scope=col>Id</th><th scope=col>Date</th><th scope=col>TotalSleepRecords</th><th scope=col>TotalMinutesAsleep</th><th scope=col>TotalTimeInBed</th></tr>\n",
       "\t<tr><th></th><th scope=col>&lt;dbl&gt;</th><th scope=col>&lt;date&gt;</th><th scope=col>&lt;int&gt;</th><th scope=col>&lt;int&gt;</th><th scope=col>&lt;int&gt;</th></tr>\n",
       "</thead>\n",
       "<tbody>\n",
       "\t<tr><th scope=row>1</th><td>1503960366</td><td>2016-04-12</td><td>1</td><td>327</td><td>346</td></tr>\n",
       "\t<tr><th scope=row>2</th><td>1503960366</td><td>2016-04-13</td><td>2</td><td>384</td><td>407</td></tr>\n",
       "\t<tr><th scope=row>3</th><td>1503960366</td><td>2016-04-15</td><td>1</td><td>412</td><td>442</td></tr>\n",
       "\t<tr><th scope=row>4</th><td>1503960366</td><td>2016-04-16</td><td>2</td><td>340</td><td>367</td></tr>\n",
       "\t<tr><th scope=row>5</th><td>1503960366</td><td>2016-04-17</td><td>1</td><td>700</td><td>712</td></tr>\n",
       "\t<tr><th scope=row>6</th><td>1503960366</td><td>2016-04-19</td><td>1</td><td>304</td><td>320</td></tr>\n",
       "</tbody>\n",
       "</table>\n"
      ],
      "text/latex": [
       "A data.frame: 6 × 5\n",
       "\\begin{tabular}{r|lllll}\n",
       "  & Id & Date & TotalSleepRecords & TotalMinutesAsleep & TotalTimeInBed\\\\\n",
       "  & <dbl> & <date> & <int> & <int> & <int>\\\\\n",
       "\\hline\n",
       "\t1 & 1503960366 & 2016-04-12 & 1 & 327 & 346\\\\\n",
       "\t2 & 1503960366 & 2016-04-13 & 2 & 384 & 407\\\\\n",
       "\t3 & 1503960366 & 2016-04-15 & 1 & 412 & 442\\\\\n",
       "\t4 & 1503960366 & 2016-04-16 & 2 & 340 & 367\\\\\n",
       "\t5 & 1503960366 & 2016-04-17 & 1 & 700 & 712\\\\\n",
       "\t6 & 1503960366 & 2016-04-19 & 1 & 304 & 320\\\\\n",
       "\\end{tabular}\n"
      ],
      "text/markdown": [
       "\n",
       "A data.frame: 6 × 5\n",
       "\n",
       "| <!--/--> | Id &lt;dbl&gt; | Date &lt;date&gt; | TotalSleepRecords &lt;int&gt; | TotalMinutesAsleep &lt;int&gt; | TotalTimeInBed &lt;int&gt; |\n",
       "|---|---|---|---|---|---|\n",
       "| 1 | 1503960366 | 2016-04-12 | 1 | 327 | 346 |\n",
       "| 2 | 1503960366 | 2016-04-13 | 2 | 384 | 407 |\n",
       "| 3 | 1503960366 | 2016-04-15 | 1 | 412 | 442 |\n",
       "| 4 | 1503960366 | 2016-04-16 | 2 | 340 | 367 |\n",
       "| 5 | 1503960366 | 2016-04-17 | 1 | 700 | 712 |\n",
       "| 6 | 1503960366 | 2016-04-19 | 1 | 304 | 320 |\n",
       "\n"
      ],
      "text/plain": [
       "  Id         Date       TotalSleepRecords TotalMinutesAsleep TotalTimeInBed\n",
       "1 1503960366 2016-04-12 1                 327                346           \n",
       "2 1503960366 2016-04-13 2                 384                407           \n",
       "3 1503960366 2016-04-15 1                 412                442           \n",
       "4 1503960366 2016-04-16 2                 340                367           \n",
       "5 1503960366 2016-04-17 1                 700                712           \n",
       "6 1503960366 2016-04-19 1                 304                320           "
      ]
     },
     "metadata": {},
     "output_type": "display_data"
    },
    {
     "name": "stdout",
     "output_type": "stream",
     "text": [
      "Rows: 413\n",
      "Columns: 5\n",
      "$ Id                 \u001b[3m\u001b[90m<dbl>\u001b[39m\u001b[23m 1503960366, 1503960366, 1503960366, 1503960366, 150…\n",
      "$ Date               \u001b[3m\u001b[90m<date>\u001b[39m\u001b[23m 2016-04-12, 2016-04-13, 2016-04-15, 2016-04-16, 20…\n",
      "$ TotalSleepRecords  \u001b[3m\u001b[90m<int>\u001b[39m\u001b[23m 1, 2, 1, 2, 1, 1, 1, 1, 1, 1, 1, 1, 1, 1, 1, 1, 1, …\n",
      "$ TotalMinutesAsleep \u001b[3m\u001b[90m<int>\u001b[39m\u001b[23m 327, 384, 412, 340, 700, 304, 360, 325, 361, 430, 2…\n",
      "$ TotalTimeInBed     \u001b[3m\u001b[90m<int>\u001b[39m\u001b[23m 346, 407, 442, 367, 712, 320, 377, 364, 384, 449, 3…\n"
     ]
    }
   ],
   "source": [
    "#sleep df\n",
    "#splitting the SleepDay column into Date and Time columns\n",
    "#then droppig time column\n",
    "new_sleep <- separate(sleep, \n",
    "        col = SleepDay,\n",
    "        into = c(\"Date\", \"Time\"),\n",
    "         sep = \" \") %>% \n",
    "mutate(Date = mdy(Date)) %>% select(-Time)\n",
    "head(new_sleep)\n",
    "glimpse(new_sleep)"
   ]
  },
  {
   "cell_type": "markdown",
   "id": "2606d638",
   "metadata": {
    "papermill": {
     "duration": 0.058135,
     "end_time": "2023-03-27T13:08:46.947495",
     "exception": false,
     "start_time": "2023-03-27T13:08:46.889360",
     "status": "completed"
    },
    "tags": []
   },
   "source": [
    "On the daily_activity data frame; formatting the ActivityDate column from chr to date."
   ]
  },
  {
   "cell_type": "code",
   "execution_count": 9,
   "id": "c37fd7de",
   "metadata": {
    "execution": {
     "iopub.execute_input": "2023-03-27T13:08:46.990673Z",
     "iopub.status.busy": "2023-03-27T13:08:46.989111Z",
     "iopub.status.idle": "2023-03-27T13:08:47.050342Z",
     "shell.execute_reply": "2023-03-27T13:08:47.048092Z"
    },
    "papermill": {
     "duration": 0.085741,
     "end_time": "2023-03-27T13:08:47.052805",
     "exception": false,
     "start_time": "2023-03-27T13:08:46.967064",
     "status": "completed"
    },
    "tags": []
   },
   "outputs": [
    {
     "data": {
      "text/html": [
       "<table class=\"dataframe\">\n",
       "<caption>A data.frame: 6 × 15</caption>\n",
       "<thead>\n",
       "\t<tr><th></th><th scope=col>Id</th><th scope=col>ActivityDate</th><th scope=col>TotalSteps</th><th scope=col>TotalDistance</th><th scope=col>TrackerDistance</th><th scope=col>LoggedActivitiesDistance</th><th scope=col>VeryActiveDistance</th><th scope=col>ModeratelyActiveDistance</th><th scope=col>LightActiveDistance</th><th scope=col>SedentaryActiveDistance</th><th scope=col>VeryActiveMinutes</th><th scope=col>FairlyActiveMinutes</th><th scope=col>LightlyActiveMinutes</th><th scope=col>SedentaryMinutes</th><th scope=col>Calories</th></tr>\n",
       "\t<tr><th></th><th scope=col>&lt;dbl&gt;</th><th scope=col>&lt;date&gt;</th><th scope=col>&lt;int&gt;</th><th scope=col>&lt;dbl&gt;</th><th scope=col>&lt;dbl&gt;</th><th scope=col>&lt;dbl&gt;</th><th scope=col>&lt;dbl&gt;</th><th scope=col>&lt;dbl&gt;</th><th scope=col>&lt;dbl&gt;</th><th scope=col>&lt;dbl&gt;</th><th scope=col>&lt;int&gt;</th><th scope=col>&lt;int&gt;</th><th scope=col>&lt;int&gt;</th><th scope=col>&lt;int&gt;</th><th scope=col>&lt;int&gt;</th></tr>\n",
       "</thead>\n",
       "<tbody>\n",
       "\t<tr><th scope=row>1</th><td>1503960366</td><td>2016-04-12</td><td>13162</td><td>8.50</td><td>8.50</td><td>0</td><td>1.88</td><td>0.55</td><td>6.06</td><td>0</td><td>25</td><td>13</td><td>328</td><td> 728</td><td>1985</td></tr>\n",
       "\t<tr><th scope=row>2</th><td>1503960366</td><td>2016-04-13</td><td>10735</td><td>6.97</td><td>6.97</td><td>0</td><td>1.57</td><td>0.69</td><td>4.71</td><td>0</td><td>21</td><td>19</td><td>217</td><td> 776</td><td>1797</td></tr>\n",
       "\t<tr><th scope=row>3</th><td>1503960366</td><td>2016-04-14</td><td>10460</td><td>6.74</td><td>6.74</td><td>0</td><td>2.44</td><td>0.40</td><td>3.91</td><td>0</td><td>30</td><td>11</td><td>181</td><td>1218</td><td>1776</td></tr>\n",
       "\t<tr><th scope=row>4</th><td>1503960366</td><td>2016-04-15</td><td> 9762</td><td>6.28</td><td>6.28</td><td>0</td><td>2.14</td><td>1.26</td><td>2.83</td><td>0</td><td>29</td><td>34</td><td>209</td><td> 726</td><td>1745</td></tr>\n",
       "\t<tr><th scope=row>5</th><td>1503960366</td><td>2016-04-16</td><td>12669</td><td>8.16</td><td>8.16</td><td>0</td><td>2.71</td><td>0.41</td><td>5.04</td><td>0</td><td>36</td><td>10</td><td>221</td><td> 773</td><td>1863</td></tr>\n",
       "\t<tr><th scope=row>6</th><td>1503960366</td><td>2016-04-17</td><td> 9705</td><td>6.48</td><td>6.48</td><td>0</td><td>3.19</td><td>0.78</td><td>2.51</td><td>0</td><td>38</td><td>20</td><td>164</td><td> 539</td><td>1728</td></tr>\n",
       "</tbody>\n",
       "</table>\n"
      ],
      "text/latex": [
       "A data.frame: 6 × 15\n",
       "\\begin{tabular}{r|lllllllllllllll}\n",
       "  & Id & ActivityDate & TotalSteps & TotalDistance & TrackerDistance & LoggedActivitiesDistance & VeryActiveDistance & ModeratelyActiveDistance & LightActiveDistance & SedentaryActiveDistance & VeryActiveMinutes & FairlyActiveMinutes & LightlyActiveMinutes & SedentaryMinutes & Calories\\\\\n",
       "  & <dbl> & <date> & <int> & <dbl> & <dbl> & <dbl> & <dbl> & <dbl> & <dbl> & <dbl> & <int> & <int> & <int> & <int> & <int>\\\\\n",
       "\\hline\n",
       "\t1 & 1503960366 & 2016-04-12 & 13162 & 8.50 & 8.50 & 0 & 1.88 & 0.55 & 6.06 & 0 & 25 & 13 & 328 &  728 & 1985\\\\\n",
       "\t2 & 1503960366 & 2016-04-13 & 10735 & 6.97 & 6.97 & 0 & 1.57 & 0.69 & 4.71 & 0 & 21 & 19 & 217 &  776 & 1797\\\\\n",
       "\t3 & 1503960366 & 2016-04-14 & 10460 & 6.74 & 6.74 & 0 & 2.44 & 0.40 & 3.91 & 0 & 30 & 11 & 181 & 1218 & 1776\\\\\n",
       "\t4 & 1503960366 & 2016-04-15 &  9762 & 6.28 & 6.28 & 0 & 2.14 & 1.26 & 2.83 & 0 & 29 & 34 & 209 &  726 & 1745\\\\\n",
       "\t5 & 1503960366 & 2016-04-16 & 12669 & 8.16 & 8.16 & 0 & 2.71 & 0.41 & 5.04 & 0 & 36 & 10 & 221 &  773 & 1863\\\\\n",
       "\t6 & 1503960366 & 2016-04-17 &  9705 & 6.48 & 6.48 & 0 & 3.19 & 0.78 & 2.51 & 0 & 38 & 20 & 164 &  539 & 1728\\\\\n",
       "\\end{tabular}\n"
      ],
      "text/markdown": [
       "\n",
       "A data.frame: 6 × 15\n",
       "\n",
       "| <!--/--> | Id &lt;dbl&gt; | ActivityDate &lt;date&gt; | TotalSteps &lt;int&gt; | TotalDistance &lt;dbl&gt; | TrackerDistance &lt;dbl&gt; | LoggedActivitiesDistance &lt;dbl&gt; | VeryActiveDistance &lt;dbl&gt; | ModeratelyActiveDistance &lt;dbl&gt; | LightActiveDistance &lt;dbl&gt; | SedentaryActiveDistance &lt;dbl&gt; | VeryActiveMinutes &lt;int&gt; | FairlyActiveMinutes &lt;int&gt; | LightlyActiveMinutes &lt;int&gt; | SedentaryMinutes &lt;int&gt; | Calories &lt;int&gt; |\n",
       "|---|---|---|---|---|---|---|---|---|---|---|---|---|---|---|---|\n",
       "| 1 | 1503960366 | 2016-04-12 | 13162 | 8.50 | 8.50 | 0 | 1.88 | 0.55 | 6.06 | 0 | 25 | 13 | 328 |  728 | 1985 |\n",
       "| 2 | 1503960366 | 2016-04-13 | 10735 | 6.97 | 6.97 | 0 | 1.57 | 0.69 | 4.71 | 0 | 21 | 19 | 217 |  776 | 1797 |\n",
       "| 3 | 1503960366 | 2016-04-14 | 10460 | 6.74 | 6.74 | 0 | 2.44 | 0.40 | 3.91 | 0 | 30 | 11 | 181 | 1218 | 1776 |\n",
       "| 4 | 1503960366 | 2016-04-15 |  9762 | 6.28 | 6.28 | 0 | 2.14 | 1.26 | 2.83 | 0 | 29 | 34 | 209 |  726 | 1745 |\n",
       "| 5 | 1503960366 | 2016-04-16 | 12669 | 8.16 | 8.16 | 0 | 2.71 | 0.41 | 5.04 | 0 | 36 | 10 | 221 |  773 | 1863 |\n",
       "| 6 | 1503960366 | 2016-04-17 |  9705 | 6.48 | 6.48 | 0 | 3.19 | 0.78 | 2.51 | 0 | 38 | 20 | 164 |  539 | 1728 |\n",
       "\n"
      ],
      "text/plain": [
       "  Id         ActivityDate TotalSteps TotalDistance TrackerDistance\n",
       "1 1503960366 2016-04-12   13162      8.50          8.50           \n",
       "2 1503960366 2016-04-13   10735      6.97          6.97           \n",
       "3 1503960366 2016-04-14   10460      6.74          6.74           \n",
       "4 1503960366 2016-04-15    9762      6.28          6.28           \n",
       "5 1503960366 2016-04-16   12669      8.16          8.16           \n",
       "6 1503960366 2016-04-17    9705      6.48          6.48           \n",
       "  LoggedActivitiesDistance VeryActiveDistance ModeratelyActiveDistance\n",
       "1 0                        1.88               0.55                    \n",
       "2 0                        1.57               0.69                    \n",
       "3 0                        2.44               0.40                    \n",
       "4 0                        2.14               1.26                    \n",
       "5 0                        2.71               0.41                    \n",
       "6 0                        3.19               0.78                    \n",
       "  LightActiveDistance SedentaryActiveDistance VeryActiveMinutes\n",
       "1 6.06                0                       25               \n",
       "2 4.71                0                       21               \n",
       "3 3.91                0                       30               \n",
       "4 2.83                0                       29               \n",
       "5 5.04                0                       36               \n",
       "6 2.51                0                       38               \n",
       "  FairlyActiveMinutes LightlyActiveMinutes SedentaryMinutes Calories\n",
       "1 13                  328                   728             1985    \n",
       "2 19                  217                   776             1797    \n",
       "3 11                  181                  1218             1776    \n",
       "4 34                  209                   726             1745    \n",
       "5 10                  221                   773             1863    \n",
       "6 20                  164                   539             1728    "
      ]
     },
     "metadata": {},
     "output_type": "display_data"
    },
    {
     "name": "stdout",
     "output_type": "stream",
     "text": [
      "Rows: 940\n",
      "Columns: 15\n",
      "$ Id                       \u001b[3m\u001b[90m<dbl>\u001b[39m\u001b[23m 1503960366, 1503960366, 1503960366, 150396036…\n",
      "$ ActivityDate             \u001b[3m\u001b[90m<date>\u001b[39m\u001b[23m 2016-04-12, 2016-04-13, 2016-04-14, 2016-04-…\n",
      "$ TotalSteps               \u001b[3m\u001b[90m<int>\u001b[39m\u001b[23m 13162, 10735, 10460, 9762, 12669, 9705, 13019…\n",
      "$ TotalDistance            \u001b[3m\u001b[90m<dbl>\u001b[39m\u001b[23m 8.50, 6.97, 6.74, 6.28, 8.16, 6.48, 8.59, 9.8…\n",
      "$ TrackerDistance          \u001b[3m\u001b[90m<dbl>\u001b[39m\u001b[23m 8.50, 6.97, 6.74, 6.28, 8.16, 6.48, 8.59, 9.8…\n",
      "$ LoggedActivitiesDistance \u001b[3m\u001b[90m<dbl>\u001b[39m\u001b[23m 0, 0, 0, 0, 0, 0, 0, 0, 0, 0, 0, 0, 0, 0, 0, …\n",
      "$ VeryActiveDistance       \u001b[3m\u001b[90m<dbl>\u001b[39m\u001b[23m 1.88, 1.57, 2.44, 2.14, 2.71, 3.19, 3.25, 3.5…\n",
      "$ ModeratelyActiveDistance \u001b[3m\u001b[90m<dbl>\u001b[39m\u001b[23m 0.55, 0.69, 0.40, 1.26, 0.41, 0.78, 0.64, 1.3…\n",
      "$ LightActiveDistance      \u001b[3m\u001b[90m<dbl>\u001b[39m\u001b[23m 6.06, 4.71, 3.91, 2.83, 5.04, 2.51, 4.71, 5.0…\n",
      "$ SedentaryActiveDistance  \u001b[3m\u001b[90m<dbl>\u001b[39m\u001b[23m 0, 0, 0, 0, 0, 0, 0, 0, 0, 0, 0, 0, 0, 0, 0, …\n",
      "$ VeryActiveMinutes        \u001b[3m\u001b[90m<int>\u001b[39m\u001b[23m 25, 21, 30, 29, 36, 38, 42, 50, 28, 19, 66, 4…\n",
      "$ FairlyActiveMinutes      \u001b[3m\u001b[90m<int>\u001b[39m\u001b[23m 13, 19, 11, 34, 10, 20, 16, 31, 12, 8, 27, 21…\n",
      "$ LightlyActiveMinutes     \u001b[3m\u001b[90m<int>\u001b[39m\u001b[23m 328, 217, 181, 209, 221, 164, 233, 264, 205, …\n",
      "$ SedentaryMinutes         \u001b[3m\u001b[90m<int>\u001b[39m\u001b[23m 728, 776, 1218, 726, 773, 539, 1149, 775, 818…\n",
      "$ Calories                 \u001b[3m\u001b[90m<int>\u001b[39m\u001b[23m 1985, 1797, 1776, 1745, 1863, 1728, 1921, 203…\n"
     ]
    }
   ],
   "source": [
    "#Daily_activity df\n",
    "#Formating the ActivityDate column from chr to date\n",
    "daily_activity_date <- daily_activity %>% mutate(ActivityDate = mdy(ActivityDate))\n",
    "daily_activity <- daily_activity_date\n",
    "head(daily_activity)\n",
    "glimpse(daily_activity)"
   ]
  },
  {
   "cell_type": "markdown",
   "id": "6d733444",
   "metadata": {
    "papermill": {
     "duration": 0.018844,
     "end_time": "2023-03-27T13:08:47.090656",
     "exception": false,
     "start_time": "2023-03-27T13:08:47.071812",
     "status": "completed"
    },
    "tags": []
   },
   "source": [
    "On the weight data frame; separating the Date column into date and time columns, then formatting date column to date type, and finally drop time column."
   ]
  },
  {
   "cell_type": "code",
   "execution_count": 10,
   "id": "53a4660b",
   "metadata": {
    "execution": {
     "iopub.execute_input": "2023-03-27T13:08:47.131928Z",
     "iopub.status.busy": "2023-03-27T13:08:47.130451Z",
     "iopub.status.idle": "2023-03-27T13:08:47.272641Z",
     "shell.execute_reply": "2023-03-27T13:08:47.270392Z"
    },
    "papermill": {
     "duration": 0.16667,
     "end_time": "2023-03-27T13:08:47.276217",
     "exception": false,
     "start_time": "2023-03-27T13:08:47.109547",
     "status": "completed"
    },
    "tags": []
   },
   "outputs": [
    {
     "name": "stderr",
     "output_type": "stream",
     "text": [
      "Warning message:\n",
      "“\u001b[1m\u001b[22mExpected 2 pieces. Additional pieces discarded in 67 rows [1, 2, 3, 4, 5, 6, 7,\n",
      "8, 9, 10, 11, 12, 13, 14, 15, 16, 17, 18, 19, 20, ...].”\n"
     ]
    },
    {
     "data": {
      "text/html": [
       "<table class=\"dataframe\">\n",
       "<caption>A data.frame: 6 × 8</caption>\n",
       "<thead>\n",
       "\t<tr><th></th><th scope=col>Id</th><th scope=col>Date</th><th scope=col>WeightKg</th><th scope=col>WeightPounds</th><th scope=col>Fat</th><th scope=col>BMI</th><th scope=col>IsManualReport</th><th scope=col>LogId</th></tr>\n",
       "\t<tr><th></th><th scope=col>&lt;dbl&gt;</th><th scope=col>&lt;date&gt;</th><th scope=col>&lt;dbl&gt;</th><th scope=col>&lt;dbl&gt;</th><th scope=col>&lt;int&gt;</th><th scope=col>&lt;dbl&gt;</th><th scope=col>&lt;chr&gt;</th><th scope=col>&lt;dbl&gt;</th></tr>\n",
       "</thead>\n",
       "<tbody>\n",
       "\t<tr><th scope=row>1</th><td>1503960366</td><td>2016-05-02</td><td> 52.6</td><td>115.9631</td><td>22</td><td>22.65</td><td>True </td><td>1.462234e+12</td></tr>\n",
       "\t<tr><th scope=row>2</th><td>1503960366</td><td>2016-05-03</td><td> 52.6</td><td>115.9631</td><td>NA</td><td>22.65</td><td>True </td><td>1.462320e+12</td></tr>\n",
       "\t<tr><th scope=row>3</th><td>1927972279</td><td>2016-04-13</td><td>133.5</td><td>294.3171</td><td>NA</td><td>47.54</td><td>False</td><td>1.460510e+12</td></tr>\n",
       "\t<tr><th scope=row>4</th><td>2873212765</td><td>2016-04-21</td><td> 56.7</td><td>125.0021</td><td>NA</td><td>21.45</td><td>True </td><td>1.461283e+12</td></tr>\n",
       "\t<tr><th scope=row>5</th><td>2873212765</td><td>2016-05-12</td><td> 57.3</td><td>126.3249</td><td>NA</td><td>21.69</td><td>True </td><td>1.463098e+12</td></tr>\n",
       "\t<tr><th scope=row>6</th><td>4319703577</td><td>2016-04-17</td><td> 72.4</td><td>159.6147</td><td>25</td><td>27.45</td><td>True </td><td>1.460938e+12</td></tr>\n",
       "</tbody>\n",
       "</table>\n"
      ],
      "text/latex": [
       "A data.frame: 6 × 8\n",
       "\\begin{tabular}{r|llllllll}\n",
       "  & Id & Date & WeightKg & WeightPounds & Fat & BMI & IsManualReport & LogId\\\\\n",
       "  & <dbl> & <date> & <dbl> & <dbl> & <int> & <dbl> & <chr> & <dbl>\\\\\n",
       "\\hline\n",
       "\t1 & 1503960366 & 2016-05-02 &  52.6 & 115.9631 & 22 & 22.65 & True  & 1.462234e+12\\\\\n",
       "\t2 & 1503960366 & 2016-05-03 &  52.6 & 115.9631 & NA & 22.65 & True  & 1.462320e+12\\\\\n",
       "\t3 & 1927972279 & 2016-04-13 & 133.5 & 294.3171 & NA & 47.54 & False & 1.460510e+12\\\\\n",
       "\t4 & 2873212765 & 2016-04-21 &  56.7 & 125.0021 & NA & 21.45 & True  & 1.461283e+12\\\\\n",
       "\t5 & 2873212765 & 2016-05-12 &  57.3 & 126.3249 & NA & 21.69 & True  & 1.463098e+12\\\\\n",
       "\t6 & 4319703577 & 2016-04-17 &  72.4 & 159.6147 & 25 & 27.45 & True  & 1.460938e+12\\\\\n",
       "\\end{tabular}\n"
      ],
      "text/markdown": [
       "\n",
       "A data.frame: 6 × 8\n",
       "\n",
       "| <!--/--> | Id &lt;dbl&gt; | Date &lt;date&gt; | WeightKg &lt;dbl&gt; | WeightPounds &lt;dbl&gt; | Fat &lt;int&gt; | BMI &lt;dbl&gt; | IsManualReport &lt;chr&gt; | LogId &lt;dbl&gt; |\n",
       "|---|---|---|---|---|---|---|---|---|\n",
       "| 1 | 1503960366 | 2016-05-02 |  52.6 | 115.9631 | 22 | 22.65 | True  | 1.462234e+12 |\n",
       "| 2 | 1503960366 | 2016-05-03 |  52.6 | 115.9631 | NA | 22.65 | True  | 1.462320e+12 |\n",
       "| 3 | 1927972279 | 2016-04-13 | 133.5 | 294.3171 | NA | 47.54 | False | 1.460510e+12 |\n",
       "| 4 | 2873212765 | 2016-04-21 |  56.7 | 125.0021 | NA | 21.45 | True  | 1.461283e+12 |\n",
       "| 5 | 2873212765 | 2016-05-12 |  57.3 | 126.3249 | NA | 21.69 | True  | 1.463098e+12 |\n",
       "| 6 | 4319703577 | 2016-04-17 |  72.4 | 159.6147 | 25 | 27.45 | True  | 1.460938e+12 |\n",
       "\n"
      ],
      "text/plain": [
       "  Id         Date       WeightKg WeightPounds Fat BMI   IsManualReport\n",
       "1 1503960366 2016-05-02  52.6    115.9631     22  22.65 True          \n",
       "2 1503960366 2016-05-03  52.6    115.9631     NA  22.65 True          \n",
       "3 1927972279 2016-04-13 133.5    294.3171     NA  47.54 False         \n",
       "4 2873212765 2016-04-21  56.7    125.0021     NA  21.45 True          \n",
       "5 2873212765 2016-05-12  57.3    126.3249     NA  21.69 True          \n",
       "6 4319703577 2016-04-17  72.4    159.6147     25  27.45 True          \n",
       "  LogId       \n",
       "1 1.462234e+12\n",
       "2 1.462320e+12\n",
       "3 1.460510e+12\n",
       "4 1.461283e+12\n",
       "5 1.463098e+12\n",
       "6 1.460938e+12"
      ]
     },
     "metadata": {},
     "output_type": "display_data"
    },
    {
     "name": "stdout",
     "output_type": "stream",
     "text": [
      "Rows: 67\n",
      "Columns: 8\n",
      "$ Id             \u001b[3m\u001b[90m<dbl>\u001b[39m\u001b[23m 1503960366, 1503960366, 1927972279, 2873212765, 2873212…\n",
      "$ Date           \u001b[3m\u001b[90m<date>\u001b[39m\u001b[23m 2016-05-02, 2016-05-03, 2016-04-13, 2016-04-21, 2016-0…\n",
      "$ WeightKg       \u001b[3m\u001b[90m<dbl>\u001b[39m\u001b[23m 52.6, 52.6, 133.5, 56.7, 57.3, 72.4, 72.3, 69.7, 70.3, …\n",
      "$ WeightPounds   \u001b[3m\u001b[90m<dbl>\u001b[39m\u001b[23m 115.9631, 115.9631, 294.3171, 125.0021, 126.3249, 159.6…\n",
      "$ Fat            \u001b[3m\u001b[90m<int>\u001b[39m\u001b[23m 22, NA, NA, NA, NA, 25, NA, NA, NA, NA, NA, NA, NA, NA,…\n",
      "$ BMI            \u001b[3m\u001b[90m<dbl>\u001b[39m\u001b[23m 22.65, 22.65, 47.54, 21.45, 21.69, 27.45, 27.38, 27.25,…\n",
      "$ IsManualReport \u001b[3m\u001b[90m<chr>\u001b[39m\u001b[23m \"True\", \"True\", \"False\", \"True\", \"True\", \"True\", \"True\"…\n",
      "$ LogId          \u001b[3m\u001b[90m<dbl>\u001b[39m\u001b[23m 1.462234e+12, 1.462320e+12, 1.460510e+12, 1.461283e+12,…\n"
     ]
    }
   ],
   "source": [
    "#weight df\n",
    "#start by separating the Date column into date and time columns\n",
    "#then drop time column and then format date column to date type\n",
    "new_weight <- separate(weight,\n",
    "                      col = Date,\n",
    "                      into = c(\"Date\", \"Time\"),\n",
    "                      sep = \" \") %>% \n",
    "mutate(Date = mdy(Date)) %>%\n",
    "select(-Time)\n",
    "\n",
    "head(new_weight)\n",
    "glimpse(new_weight)"
   ]
  },
  {
   "cell_type": "markdown",
   "id": "b6c26e1f",
   "metadata": {
    "papermill": {
     "duration": 0.019614,
     "end_time": "2023-03-27T13:08:47.317295",
     "exception": false,
     "start_time": "2023-03-27T13:08:47.297681",
     "status": "completed"
    },
    "tags": []
   },
   "source": [
    "On the heart_rate data frame; splitting the time column into date and time columns, and then formatting the date column from chr to date"
   ]
  },
  {
   "cell_type": "code",
   "execution_count": 11,
   "id": "7f21122c",
   "metadata": {
    "execution": {
     "iopub.execute_input": "2023-03-27T13:08:47.362730Z",
     "iopub.status.busy": "2023-03-27T13:08:47.361238Z",
     "iopub.status.idle": "2023-03-27T13:09:47.402662Z",
     "shell.execute_reply": "2023-03-27T13:09:47.400428Z"
    },
    "papermill": {
     "duration": 60.06757,
     "end_time": "2023-03-27T13:09:47.406127",
     "exception": false,
     "start_time": "2023-03-27T13:08:47.338557",
     "status": "completed"
    },
    "tags": []
   },
   "outputs": [
    {
     "name": "stderr",
     "output_type": "stream",
     "text": [
      "Warning message:\n",
      "“\u001b[1m\u001b[22mExpected 2 pieces. Additional pieces discarded in 2483658 rows [1, 2, 3, 4, 5,\n",
      "6, 7, 8, 9, 10, 11, 12, 13, 14, 15, 16, 17, 18, 19, 20, ...].”\n"
     ]
    },
    {
     "data": {
      "text/html": [
       "<table class=\"dataframe\">\n",
       "<caption>A data.frame: 6 × 4</caption>\n",
       "<thead>\n",
       "\t<tr><th></th><th scope=col>Id</th><th scope=col>Date</th><th scope=col>Time</th><th scope=col>Value</th></tr>\n",
       "\t<tr><th></th><th scope=col>&lt;dbl&gt;</th><th scope=col>&lt;date&gt;</th><th scope=col>&lt;chr&gt;</th><th scope=col>&lt;int&gt;</th></tr>\n",
       "</thead>\n",
       "<tbody>\n",
       "\t<tr><th scope=row>1</th><td>2022484408</td><td>2016-04-12</td><td>7:21:00</td><td> 97</td></tr>\n",
       "\t<tr><th scope=row>2</th><td>2022484408</td><td>2016-04-12</td><td>7:21:05</td><td>102</td></tr>\n",
       "\t<tr><th scope=row>3</th><td>2022484408</td><td>2016-04-12</td><td>7:21:10</td><td>105</td></tr>\n",
       "\t<tr><th scope=row>4</th><td>2022484408</td><td>2016-04-12</td><td>7:21:20</td><td>103</td></tr>\n",
       "\t<tr><th scope=row>5</th><td>2022484408</td><td>2016-04-12</td><td>7:21:25</td><td>101</td></tr>\n",
       "\t<tr><th scope=row>6</th><td>2022484408</td><td>2016-04-12</td><td>7:22:05</td><td> 95</td></tr>\n",
       "</tbody>\n",
       "</table>\n"
      ],
      "text/latex": [
       "A data.frame: 6 × 4\n",
       "\\begin{tabular}{r|llll}\n",
       "  & Id & Date & Time & Value\\\\\n",
       "  & <dbl> & <date> & <chr> & <int>\\\\\n",
       "\\hline\n",
       "\t1 & 2022484408 & 2016-04-12 & 7:21:00 &  97\\\\\n",
       "\t2 & 2022484408 & 2016-04-12 & 7:21:05 & 102\\\\\n",
       "\t3 & 2022484408 & 2016-04-12 & 7:21:10 & 105\\\\\n",
       "\t4 & 2022484408 & 2016-04-12 & 7:21:20 & 103\\\\\n",
       "\t5 & 2022484408 & 2016-04-12 & 7:21:25 & 101\\\\\n",
       "\t6 & 2022484408 & 2016-04-12 & 7:22:05 &  95\\\\\n",
       "\\end{tabular}\n"
      ],
      "text/markdown": [
       "\n",
       "A data.frame: 6 × 4\n",
       "\n",
       "| <!--/--> | Id &lt;dbl&gt; | Date &lt;date&gt; | Time &lt;chr&gt; | Value &lt;int&gt; |\n",
       "|---|---|---|---|---|\n",
       "| 1 | 2022484408 | 2016-04-12 | 7:21:00 |  97 |\n",
       "| 2 | 2022484408 | 2016-04-12 | 7:21:05 | 102 |\n",
       "| 3 | 2022484408 | 2016-04-12 | 7:21:10 | 105 |\n",
       "| 4 | 2022484408 | 2016-04-12 | 7:21:20 | 103 |\n",
       "| 5 | 2022484408 | 2016-04-12 | 7:21:25 | 101 |\n",
       "| 6 | 2022484408 | 2016-04-12 | 7:22:05 |  95 |\n",
       "\n"
      ],
      "text/plain": [
       "  Id         Date       Time    Value\n",
       "1 2022484408 2016-04-12 7:21:00  97  \n",
       "2 2022484408 2016-04-12 7:21:05 102  \n",
       "3 2022484408 2016-04-12 7:21:10 105  \n",
       "4 2022484408 2016-04-12 7:21:20 103  \n",
       "5 2022484408 2016-04-12 7:21:25 101  \n",
       "6 2022484408 2016-04-12 7:22:05  95  "
      ]
     },
     "metadata": {},
     "output_type": "display_data"
    },
    {
     "name": "stdout",
     "output_type": "stream",
     "text": [
      "Rows: 2,483,658\n",
      "Columns: 4\n",
      "$ Id    \u001b[3m\u001b[90m<dbl>\u001b[39m\u001b[23m 2022484408, 2022484408, 2022484408, 2022484408, 2022484408, 2022…\n",
      "$ Date  \u001b[3m\u001b[90m<date>\u001b[39m\u001b[23m 2016-04-12, 2016-04-12, 2016-04-12, 2016-04-12, 2016-04-12, 201…\n",
      "$ Time  \u001b[3m\u001b[90m<chr>\u001b[39m\u001b[23m \"7:21:00\", \"7:21:05\", \"7:21:10\", \"7:21:20\", \"7:21:25\", \"7:22:05\"…\n",
      "$ Value \u001b[3m\u001b[90m<int>\u001b[39m\u001b[23m 97, 102, 105, 103, 101, 95, 91, 93, 94, 93, 92, 89, 83, 61, 60, …\n"
     ]
    }
   ],
   "source": [
    "#heart_rate df\n",
    "#Splitting the time column of the heart_rate df into date and time columns\n",
    "#Formatting the date column from chr to date\n",
    "new_heart_rate <- heart_rate %>% \n",
    "separate(Time, \n",
    "        into = c(\"Date\", \"Time\"), \n",
    "        sep = \" \") %>%\n",
    "mutate(Date = mdy(Date))\n",
    "#heart_rate$Time <- as.Date(heart_rate$Time, format = \"%m/%d/%Y %H:%M:%S\")\n",
    "head(new_heart_rate)\n",
    "glimpse(new_heart_rate)"
   ]
  },
  {
   "cell_type": "markdown",
   "id": "dbe520b9",
   "metadata": {
    "papermill": {
     "duration": 0.021423,
     "end_time": "2023-03-27T13:09:47.449387",
     "exception": false,
     "start_time": "2023-03-27T13:09:47.427964",
     "status": "completed"
    },
    "tags": []
   },
   "source": [
    "On the hourly_calories data frame; splitting the ActivityHour column into ActivityDate and ActivityTime columns, and then formatting the date column from chr to date"
   ]
  },
  {
   "cell_type": "code",
   "execution_count": 12,
   "id": "04371d03",
   "metadata": {
    "execution": {
     "iopub.execute_input": "2023-03-27T13:09:47.491505Z",
     "iopub.status.busy": "2023-03-27T13:09:47.490038Z",
     "iopub.status.idle": "2023-03-27T13:09:48.031858Z",
     "shell.execute_reply": "2023-03-27T13:09:48.029952Z"
    },
    "papermill": {
     "duration": 0.566185,
     "end_time": "2023-03-27T13:09:48.034987",
     "exception": false,
     "start_time": "2023-03-27T13:09:47.468802",
     "status": "completed"
    },
    "tags": []
   },
   "outputs": [
    {
     "name": "stderr",
     "output_type": "stream",
     "text": [
      "Warning message:\n",
      "“\u001b[1m\u001b[22mExpected 2 pieces. Additional pieces discarded in 22099 rows [1, 2, 3, 4, 5, 6,\n",
      "7, 8, 9, 10, 11, 12, 13, 14, 15, 16, 17, 18, 19, 20, ...].”\n"
     ]
    },
    {
     "data": {
      "text/html": [
       "<table class=\"dataframe\">\n",
       "<caption>A data.frame: 6 × 4</caption>\n",
       "<thead>\n",
       "\t<tr><th></th><th scope=col>Id</th><th scope=col>ActivityDate</th><th scope=col>ActivityTime</th><th scope=col>Calories</th></tr>\n",
       "\t<tr><th></th><th scope=col>&lt;dbl&gt;</th><th scope=col>&lt;date&gt;</th><th scope=col>&lt;chr&gt;</th><th scope=col>&lt;int&gt;</th></tr>\n",
       "</thead>\n",
       "<tbody>\n",
       "\t<tr><th scope=row>1</th><td>1503960366</td><td>2016-04-12</td><td>12:00:00</td><td>81</td></tr>\n",
       "\t<tr><th scope=row>2</th><td>1503960366</td><td>2016-04-12</td><td>1:00:00 </td><td>61</td></tr>\n",
       "\t<tr><th scope=row>3</th><td>1503960366</td><td>2016-04-12</td><td>2:00:00 </td><td>59</td></tr>\n",
       "\t<tr><th scope=row>4</th><td>1503960366</td><td>2016-04-12</td><td>3:00:00 </td><td>47</td></tr>\n",
       "\t<tr><th scope=row>5</th><td>1503960366</td><td>2016-04-12</td><td>4:00:00 </td><td>48</td></tr>\n",
       "\t<tr><th scope=row>6</th><td>1503960366</td><td>2016-04-12</td><td>5:00:00 </td><td>48</td></tr>\n",
       "</tbody>\n",
       "</table>\n"
      ],
      "text/latex": [
       "A data.frame: 6 × 4\n",
       "\\begin{tabular}{r|llll}\n",
       "  & Id & ActivityDate & ActivityTime & Calories\\\\\n",
       "  & <dbl> & <date> & <chr> & <int>\\\\\n",
       "\\hline\n",
       "\t1 & 1503960366 & 2016-04-12 & 12:00:00 & 81\\\\\n",
       "\t2 & 1503960366 & 2016-04-12 & 1:00:00  & 61\\\\\n",
       "\t3 & 1503960366 & 2016-04-12 & 2:00:00  & 59\\\\\n",
       "\t4 & 1503960366 & 2016-04-12 & 3:00:00  & 47\\\\\n",
       "\t5 & 1503960366 & 2016-04-12 & 4:00:00  & 48\\\\\n",
       "\t6 & 1503960366 & 2016-04-12 & 5:00:00  & 48\\\\\n",
       "\\end{tabular}\n"
      ],
      "text/markdown": [
       "\n",
       "A data.frame: 6 × 4\n",
       "\n",
       "| <!--/--> | Id &lt;dbl&gt; | ActivityDate &lt;date&gt; | ActivityTime &lt;chr&gt; | Calories &lt;int&gt; |\n",
       "|---|---|---|---|---|\n",
       "| 1 | 1503960366 | 2016-04-12 | 12:00:00 | 81 |\n",
       "| 2 | 1503960366 | 2016-04-12 | 1:00:00  | 61 |\n",
       "| 3 | 1503960366 | 2016-04-12 | 2:00:00  | 59 |\n",
       "| 4 | 1503960366 | 2016-04-12 | 3:00:00  | 47 |\n",
       "| 5 | 1503960366 | 2016-04-12 | 4:00:00  | 48 |\n",
       "| 6 | 1503960366 | 2016-04-12 | 5:00:00  | 48 |\n",
       "\n"
      ],
      "text/plain": [
       "  Id         ActivityDate ActivityTime Calories\n",
       "1 1503960366 2016-04-12   12:00:00     81      \n",
       "2 1503960366 2016-04-12   1:00:00      61      \n",
       "3 1503960366 2016-04-12   2:00:00      59      \n",
       "4 1503960366 2016-04-12   3:00:00      47      \n",
       "5 1503960366 2016-04-12   4:00:00      48      \n",
       "6 1503960366 2016-04-12   5:00:00      48      "
      ]
     },
     "metadata": {},
     "output_type": "display_data"
    },
    {
     "name": "stdout",
     "output_type": "stream",
     "text": [
      "Rows: 22,099\n",
      "Columns: 4\n",
      "$ Id           \u001b[3m\u001b[90m<dbl>\u001b[39m\u001b[23m 1503960366, 1503960366, 1503960366, 1503960366, 150396036…\n",
      "$ ActivityDate \u001b[3m\u001b[90m<date>\u001b[39m\u001b[23m 2016-04-12, 2016-04-12, 2016-04-12, 2016-04-12, 2016-04-…\n",
      "$ ActivityTime \u001b[3m\u001b[90m<chr>\u001b[39m\u001b[23m \"12:00:00\", \"1:00:00\", \"2:00:00\", \"3:00:00\", \"4:00:00\", \"…\n",
      "$ Calories     \u001b[3m\u001b[90m<int>\u001b[39m\u001b[23m 81, 61, 59, 47, 48, 48, 48, 47, 68, 141, 99, 76, 73, 66, …\n"
     ]
    }
   ],
   "source": [
    "#hourly_calories df\n",
    "#Splitting the ActivityHour column into ActivityDate and ActivityTime columns\n",
    "#Formatting the ActivityDate column from chr to date\n",
    "new_hourly_calories <- hourly_calories %>% \n",
    "separate(ActivityHour, \n",
    "        into = c(\"ActivityDate\", \"ActivityTime\"), \n",
    "        sep = \" \") %>%\n",
    "mutate(ActivityDate = mdy(ActivityDate))\n",
    "head(new_hourly_calories)\n",
    "glimpse(new_hourly_calories)"
   ]
  },
  {
   "cell_type": "markdown",
   "id": "efe138ed",
   "metadata": {
    "papermill": {
     "duration": 0.020718,
     "end_time": "2023-03-27T13:09:48.077028",
     "exception": false,
     "start_time": "2023-03-27T13:09:48.056310",
     "status": "completed"
    },
    "tags": []
   },
   "source": [
    "On the hourly_intensities data frame; splitting the ActivityHour column into ActivityDate and ActivityTime columns, and then formatting the date column from chr to date"
   ]
  },
  {
   "cell_type": "code",
   "execution_count": 13,
   "id": "a674c663",
   "metadata": {
    "execution": {
     "iopub.execute_input": "2023-03-27T13:09:48.121135Z",
     "iopub.status.busy": "2023-03-27T13:09:48.119619Z",
     "iopub.status.idle": "2023-03-27T13:09:48.594432Z",
     "shell.execute_reply": "2023-03-27T13:09:48.592489Z"
    },
    "papermill": {
     "duration": 0.499025,
     "end_time": "2023-03-27T13:09:48.596900",
     "exception": false,
     "start_time": "2023-03-27T13:09:48.097875",
     "status": "completed"
    },
    "tags": []
   },
   "outputs": [
    {
     "name": "stderr",
     "output_type": "stream",
     "text": [
      "Warning message:\n",
      "“\u001b[1m\u001b[22mExpected 2 pieces. Additional pieces discarded in 22099 rows [1, 2, 3, 4, 5, 6,\n",
      "7, 8, 9, 10, 11, 12, 13, 14, 15, 16, 17, 18, 19, 20, ...].”\n"
     ]
    },
    {
     "data": {
      "text/html": [
       "<table class=\"dataframe\">\n",
       "<caption>A data.frame: 6 × 5</caption>\n",
       "<thead>\n",
       "\t<tr><th></th><th scope=col>Id</th><th scope=col>ActivityDate</th><th scope=col>ActivityTime</th><th scope=col>TotalIntensity</th><th scope=col>AverageIntensity</th></tr>\n",
       "\t<tr><th></th><th scope=col>&lt;dbl&gt;</th><th scope=col>&lt;date&gt;</th><th scope=col>&lt;chr&gt;</th><th scope=col>&lt;int&gt;</th><th scope=col>&lt;dbl&gt;</th></tr>\n",
       "</thead>\n",
       "<tbody>\n",
       "\t<tr><th scope=row>1</th><td>1503960366</td><td>2016-04-12</td><td>12:00:00</td><td>20</td><td>0.333333</td></tr>\n",
       "\t<tr><th scope=row>2</th><td>1503960366</td><td>2016-04-12</td><td>1:00:00 </td><td> 8</td><td>0.133333</td></tr>\n",
       "\t<tr><th scope=row>3</th><td>1503960366</td><td>2016-04-12</td><td>2:00:00 </td><td> 7</td><td>0.116667</td></tr>\n",
       "\t<tr><th scope=row>4</th><td>1503960366</td><td>2016-04-12</td><td>3:00:00 </td><td> 0</td><td>0.000000</td></tr>\n",
       "\t<tr><th scope=row>5</th><td>1503960366</td><td>2016-04-12</td><td>4:00:00 </td><td> 0</td><td>0.000000</td></tr>\n",
       "\t<tr><th scope=row>6</th><td>1503960366</td><td>2016-04-12</td><td>5:00:00 </td><td> 0</td><td>0.000000</td></tr>\n",
       "</tbody>\n",
       "</table>\n"
      ],
      "text/latex": [
       "A data.frame: 6 × 5\n",
       "\\begin{tabular}{r|lllll}\n",
       "  & Id & ActivityDate & ActivityTime & TotalIntensity & AverageIntensity\\\\\n",
       "  & <dbl> & <date> & <chr> & <int> & <dbl>\\\\\n",
       "\\hline\n",
       "\t1 & 1503960366 & 2016-04-12 & 12:00:00 & 20 & 0.333333\\\\\n",
       "\t2 & 1503960366 & 2016-04-12 & 1:00:00  &  8 & 0.133333\\\\\n",
       "\t3 & 1503960366 & 2016-04-12 & 2:00:00  &  7 & 0.116667\\\\\n",
       "\t4 & 1503960366 & 2016-04-12 & 3:00:00  &  0 & 0.000000\\\\\n",
       "\t5 & 1503960366 & 2016-04-12 & 4:00:00  &  0 & 0.000000\\\\\n",
       "\t6 & 1503960366 & 2016-04-12 & 5:00:00  &  0 & 0.000000\\\\\n",
       "\\end{tabular}\n"
      ],
      "text/markdown": [
       "\n",
       "A data.frame: 6 × 5\n",
       "\n",
       "| <!--/--> | Id &lt;dbl&gt; | ActivityDate &lt;date&gt; | ActivityTime &lt;chr&gt; | TotalIntensity &lt;int&gt; | AverageIntensity &lt;dbl&gt; |\n",
       "|---|---|---|---|---|---|\n",
       "| 1 | 1503960366 | 2016-04-12 | 12:00:00 | 20 | 0.333333 |\n",
       "| 2 | 1503960366 | 2016-04-12 | 1:00:00  |  8 | 0.133333 |\n",
       "| 3 | 1503960366 | 2016-04-12 | 2:00:00  |  7 | 0.116667 |\n",
       "| 4 | 1503960366 | 2016-04-12 | 3:00:00  |  0 | 0.000000 |\n",
       "| 5 | 1503960366 | 2016-04-12 | 4:00:00  |  0 | 0.000000 |\n",
       "| 6 | 1503960366 | 2016-04-12 | 5:00:00  |  0 | 0.000000 |\n",
       "\n"
      ],
      "text/plain": [
       "  Id         ActivityDate ActivityTime TotalIntensity AverageIntensity\n",
       "1 1503960366 2016-04-12   12:00:00     20             0.333333        \n",
       "2 1503960366 2016-04-12   1:00:00       8             0.133333        \n",
       "3 1503960366 2016-04-12   2:00:00       7             0.116667        \n",
       "4 1503960366 2016-04-12   3:00:00       0             0.000000        \n",
       "5 1503960366 2016-04-12   4:00:00       0             0.000000        \n",
       "6 1503960366 2016-04-12   5:00:00       0             0.000000        "
      ]
     },
     "metadata": {},
     "output_type": "display_data"
    },
    {
     "name": "stdout",
     "output_type": "stream",
     "text": [
      "Rows: 22,099\n",
      "Columns: 5\n",
      "$ Id               \u001b[3m\u001b[90m<dbl>\u001b[39m\u001b[23m 1503960366, 1503960366, 1503960366, 1503960366, 15039…\n",
      "$ ActivityDate     \u001b[3m\u001b[90m<date>\u001b[39m\u001b[23m 2016-04-12, 2016-04-12, 2016-04-12, 2016-04-12, 2016…\n",
      "$ ActivityTime     \u001b[3m\u001b[90m<chr>\u001b[39m\u001b[23m \"12:00:00\", \"1:00:00\", \"2:00:00\", \"3:00:00\", \"4:00:00…\n",
      "$ TotalIntensity   \u001b[3m\u001b[90m<int>\u001b[39m\u001b[23m 20, 8, 7, 0, 0, 0, 0, 0, 13, 30, 29, 12, 11, 6, 36, 5…\n",
      "$ AverageIntensity \u001b[3m\u001b[90m<dbl>\u001b[39m\u001b[23m 0.333333, 0.133333, 0.116667, 0.000000, 0.000000, 0.0…\n"
     ]
    }
   ],
   "source": [
    "#hourly_intensities df\n",
    "#Splitting the ActivityHour column into ActivityDate and ActivityTime columns\n",
    "#Formatting the ActivityDate column from chr to date\n",
    "new_hourly_intensities <- hourly_intensities %>% \n",
    "separate(ActivityHour, \n",
    "        into = c(\"ActivityDate\", \"ActivityTime\"), \n",
    "        sep = \" \") %>%\n",
    "mutate(ActivityDate = mdy(ActivityDate))\n",
    "head(new_hourly_intensities)\n",
    "glimpse(new_hourly_intensities)"
   ]
  },
  {
   "cell_type": "markdown",
   "id": "a2b5b3d3",
   "metadata": {
    "papermill": {
     "duration": 0.020109,
     "end_time": "2023-03-27T13:09:48.637586",
     "exception": false,
     "start_time": "2023-03-27T13:09:48.617477",
     "status": "completed"
    },
    "tags": []
   },
   "source": [
    "## Statistical summaries of the data frames"
   ]
  },
  {
   "cell_type": "markdown",
   "id": "6ad62765",
   "metadata": {
    "papermill": {
     "duration": 0.020052,
     "end_time": "2023-03-27T13:09:48.677655",
     "exception": false,
     "start_time": "2023-03-27T13:09:48.657603",
     "status": "completed"
    },
    "tags": []
   },
   "source": [
    "#### Exploring the statistical summary of the daily_activity, steps, calories, intensities, weight, and heart_rate data frames"
   ]
  },
  {
   "cell_type": "markdown",
   "id": "fe424749",
   "metadata": {
    "papermill": {
     "duration": 0.020445,
     "end_time": "2023-03-27T13:09:48.718380",
     "exception": false,
     "start_time": "2023-03-27T13:09:48.697935",
     "status": "completed"
    },
    "tags": []
   },
   "source": [
    "Note that the daily_activity df has the intensities and calories and steps info in it"
   ]
  },
  {
   "cell_type": "code",
   "execution_count": 14,
   "id": "47552f32",
   "metadata": {
    "execution": {
     "iopub.execute_input": "2023-03-27T13:09:48.762517Z",
     "iopub.status.busy": "2023-03-27T13:09:48.760900Z",
     "iopub.status.idle": "2023-03-27T13:09:48.786184Z",
     "shell.execute_reply": "2023-03-27T13:09:48.784435Z"
    },
    "papermill": {
     "duration": 0.049945,
     "end_time": "2023-03-27T13:09:48.788584",
     "exception": false,
     "start_time": "2023-03-27T13:09:48.738639",
     "status": "completed"
    },
    "tags": []
   },
   "outputs": [
    {
     "data": {
      "text/plain": [
       "       Id             ActivityDate          TotalSteps    TotalDistance   \n",
       " Min.   :1.504e+09   Min.   :2016-04-12   Min.   :    0   Min.   : 0.000  \n",
       " 1st Qu.:2.320e+09   1st Qu.:2016-04-19   1st Qu.: 3790   1st Qu.: 2.620  \n",
       " Median :4.445e+09   Median :2016-04-26   Median : 7406   Median : 5.245  \n",
       " Mean   :4.855e+09   Mean   :2016-04-26   Mean   : 7638   Mean   : 5.490  \n",
       " 3rd Qu.:6.962e+09   3rd Qu.:2016-05-04   3rd Qu.:10727   3rd Qu.: 7.713  \n",
       " Max.   :8.878e+09   Max.   :2016-05-12   Max.   :36019   Max.   :28.030  \n",
       " TrackerDistance  LoggedActivitiesDistance VeryActiveDistance\n",
       " Min.   : 0.000   Min.   :0.0000           Min.   : 0.000    \n",
       " 1st Qu.: 2.620   1st Qu.:0.0000           1st Qu.: 0.000    \n",
       " Median : 5.245   Median :0.0000           Median : 0.210    \n",
       " Mean   : 5.475   Mean   :0.1082           Mean   : 1.503    \n",
       " 3rd Qu.: 7.710   3rd Qu.:0.0000           3rd Qu.: 2.053    \n",
       " Max.   :28.030   Max.   :4.9421           Max.   :21.920    \n",
       " ModeratelyActiveDistance LightActiveDistance SedentaryActiveDistance\n",
       " Min.   :0.0000           Min.   : 0.000      Min.   :0.000000       \n",
       " 1st Qu.:0.0000           1st Qu.: 1.945      1st Qu.:0.000000       \n",
       " Median :0.2400           Median : 3.365      Median :0.000000       \n",
       " Mean   :0.5675           Mean   : 3.341      Mean   :0.001606       \n",
       " 3rd Qu.:0.8000           3rd Qu.: 4.782      3rd Qu.:0.000000       \n",
       " Max.   :6.4800           Max.   :10.710      Max.   :0.110000       \n",
       " VeryActiveMinutes FairlyActiveMinutes LightlyActiveMinutes SedentaryMinutes\n",
       " Min.   :  0.00    Min.   :  0.00      Min.   :  0.0        Min.   :   0.0  \n",
       " 1st Qu.:  0.00    1st Qu.:  0.00      1st Qu.:127.0        1st Qu.: 729.8  \n",
       " Median :  4.00    Median :  6.00      Median :199.0        Median :1057.5  \n",
       " Mean   : 21.16    Mean   : 13.56      Mean   :192.8        Mean   : 991.2  \n",
       " 3rd Qu.: 32.00    3rd Qu.: 19.00      3rd Qu.:264.0        3rd Qu.:1229.5  \n",
       " Max.   :210.00    Max.   :143.00      Max.   :518.0        Max.   :1440.0  \n",
       "    Calories   \n",
       " Min.   :   0  \n",
       " 1st Qu.:1828  \n",
       " Median :2134  \n",
       " Mean   :2304  \n",
       " 3rd Qu.:2793  \n",
       " Max.   :4900  "
      ]
     },
     "metadata": {},
     "output_type": "display_data"
    }
   ],
   "source": [
    "#Finding the statistical summary of each of the above datasets\n",
    "summary(daily_activity)"
   ]
  },
  {
   "cell_type": "markdown",
   "id": "6d1a2f9d",
   "metadata": {
    "papermill": {
     "duration": 0.020185,
     "end_time": "2023-03-27T13:09:48.829011",
     "exception": false,
     "start_time": "2023-03-27T13:09:48.808826",
     "status": "completed"
    },
    "tags": []
   },
   "source": [
    "From the above statistical summary, it's evident that the mean value of the sedentary minutes is 991.2 which is far greater than the sum of the very active minutes (21.16), fairly active minutes (13.56) and lightly active minutes (192) "
   ]
  },
  {
   "cell_type": "code",
   "execution_count": 15,
   "id": "52121f1e",
   "metadata": {
    "execution": {
     "iopub.execute_input": "2023-03-27T13:09:48.873661Z",
     "iopub.status.busy": "2023-03-27T13:09:48.872115Z",
     "iopub.status.idle": "2023-03-27T13:09:49.479419Z",
     "shell.execute_reply": "2023-03-27T13:09:49.477638Z"
    },
    "papermill": {
     "duration": 0.63262,
     "end_time": "2023-03-27T13:09:49.481806",
     "exception": false,
     "start_time": "2023-03-27T13:09:48.849186",
     "status": "completed"
    },
    "tags": []
   },
   "outputs": [
    {
     "data": {
      "text/plain": [
       "       Id                 Date                Time               Value       \n",
       " Min.   :2.022e+09   Min.   :2016-04-12   Length:2483658     Min.   : 36.00  \n",
       " 1st Qu.:4.388e+09   1st Qu.:2016-04-19   Class :character   1st Qu.: 63.00  \n",
       " Median :5.554e+09   Median :2016-04-26   Mode  :character   Median : 73.00  \n",
       " Mean   :5.514e+09   Mean   :2016-04-26                      Mean   : 77.33  \n",
       " 3rd Qu.:6.962e+09   3rd Qu.:2016-05-04                      3rd Qu.: 88.00  \n",
       " Max.   :8.878e+09   Max.   :2016-05-12                      Max.   :203.00  "
      ]
     },
     "metadata": {},
     "output_type": "display_data"
    }
   ],
   "source": [
    "#Working out the statistical summary of the heart_rate data frame\n",
    "summary(new_heart_rate)"
   ]
  },
  {
   "cell_type": "code",
   "execution_count": 16,
   "id": "83413765",
   "metadata": {
    "execution": {
     "iopub.execute_input": "2023-03-27T13:09:49.527220Z",
     "iopub.status.busy": "2023-03-27T13:09:49.525192Z",
     "iopub.status.idle": "2023-03-27T13:09:49.546987Z",
     "shell.execute_reply": "2023-03-27T13:09:49.545347Z"
    },
    "papermill": {
     "duration": 0.047202,
     "end_time": "2023-03-27T13:09:49.549318",
     "exception": false,
     "start_time": "2023-03-27T13:09:49.502116",
     "status": "completed"
    },
    "tags": []
   },
   "outputs": [
    {
     "data": {
      "text/plain": [
       "       Id                Date              WeightKg       WeightPounds  \n",
       " Min.   :1.504e+09   Length:67          Min.   : 52.60   Min.   :116.0  \n",
       " 1st Qu.:6.962e+09   Class :character   1st Qu.: 61.40   1st Qu.:135.4  \n",
       " Median :6.962e+09   Mode  :character   Median : 62.50   Median :137.8  \n",
       " Mean   :7.009e+09                      Mean   : 72.04   Mean   :158.8  \n",
       " 3rd Qu.:8.878e+09                      3rd Qu.: 85.05   3rd Qu.:187.5  \n",
       " Max.   :8.878e+09                      Max.   :133.50   Max.   :294.3  \n",
       "                                                                        \n",
       "      Fat             BMI        IsManualReport         LogId          \n",
       " Min.   :22.00   Min.   :21.45   Length:67          Min.   :1.460e+12  \n",
       " 1st Qu.:22.75   1st Qu.:23.96   Class :character   1st Qu.:1.461e+12  \n",
       " Median :23.50   Median :24.39   Mode  :character   Median :1.462e+12  \n",
       " Mean   :23.50   Mean   :25.19                      Mean   :1.462e+12  \n",
       " 3rd Qu.:24.25   3rd Qu.:25.56                      3rd Qu.:1.462e+12  \n",
       " Max.   :25.00   Max.   :47.54                      Max.   :1.463e+12  \n",
       " NA's   :65                                                            "
      ]
     },
     "metadata": {},
     "output_type": "display_data"
    }
   ],
   "source": [
    "#Working out the statistical summary of the weight data frame\n",
    "summary(weight)"
   ]
  },
  {
   "cell_type": "markdown",
   "id": "7ed27fea",
   "metadata": {
    "papermill": {
     "duration": 0.020632,
     "end_time": "2023-03-27T13:09:49.591150",
     "exception": false,
     "start_time": "2023-03-27T13:09:49.570518",
     "status": "completed"
    },
    "tags": []
   },
   "source": [
    "From the above statistical summary, the mean BMI is 25.56 which is slighly higher than the recommended BMI range of 18.5 to 24.9 according to CDC. However, the median BMI is 24.39 and is therefore in the recommended range.\n",
    "The maximum BMI recorded is 47.54 which is almost twice the maximum recommended BMI for adults and is therefore worrying healthwise."
   ]
  },
  {
   "cell_type": "code",
   "execution_count": 17,
   "id": "06a80476",
   "metadata": {
    "execution": {
     "iopub.execute_input": "2023-03-27T13:09:49.635747Z",
     "iopub.status.busy": "2023-03-27T13:09:49.634320Z",
     "iopub.status.idle": "2023-03-27T13:09:49.654728Z",
     "shell.execute_reply": "2023-03-27T13:09:49.653023Z"
    },
    "papermill": {
     "duration": 0.045176,
     "end_time": "2023-03-27T13:09:49.657026",
     "exception": false,
     "start_time": "2023-03-27T13:09:49.611850",
     "status": "completed"
    },
    "tags": []
   },
   "outputs": [
    {
     "data": {
      "text/plain": [
       "       Id             ActivityDate        ActivityTime          Calories     \n",
       " Min.   :1.504e+09   Min.   :2016-04-12   Length:22099       Min.   : 42.00  \n",
       " 1st Qu.:2.320e+09   1st Qu.:2016-04-19   Class :character   1st Qu.: 63.00  \n",
       " Median :4.445e+09   Median :2016-04-26   Mode  :character   Median : 83.00  \n",
       " Mean   :4.848e+09   Mean   :2016-04-26                      Mean   : 97.39  \n",
       " 3rd Qu.:6.962e+09   3rd Qu.:2016-05-03                      3rd Qu.:108.00  \n",
       " Max.   :8.878e+09   Max.   :2016-05-12                      Max.   :948.00  "
      ]
     },
     "metadata": {},
     "output_type": "display_data"
    }
   ],
   "source": [
    "#Working out the statistical summary of the hourly_calories df\n",
    "summary(new_hourly_calories)"
   ]
  },
  {
   "cell_type": "code",
   "execution_count": 18,
   "id": "025e2984",
   "metadata": {
    "execution": {
     "iopub.execute_input": "2023-03-27T13:09:49.702310Z",
     "iopub.status.busy": "2023-03-27T13:09:49.700870Z",
     "iopub.status.idle": "2023-03-27T13:09:49.722762Z",
     "shell.execute_reply": "2023-03-27T13:09:49.721109Z"
    },
    "papermill": {
     "duration": 0.046978,
     "end_time": "2023-03-27T13:09:49.725017",
     "exception": false,
     "start_time": "2023-03-27T13:09:49.678039",
     "status": "completed"
    },
    "tags": []
   },
   "outputs": [
    {
     "data": {
      "text/plain": [
       "       Id             ActivityDate        ActivityTime       TotalIntensity  \n",
       " Min.   :1.504e+09   Min.   :2016-04-12   Length:22099       Min.   :  0.00  \n",
       " 1st Qu.:2.320e+09   1st Qu.:2016-04-19   Class :character   1st Qu.:  0.00  \n",
       " Median :4.445e+09   Median :2016-04-26   Mode  :character   Median :  3.00  \n",
       " Mean   :4.848e+09   Mean   :2016-04-26                      Mean   : 12.04  \n",
       " 3rd Qu.:6.962e+09   3rd Qu.:2016-05-03                      3rd Qu.: 16.00  \n",
       " Max.   :8.878e+09   Max.   :2016-05-12                      Max.   :180.00  \n",
       " AverageIntensity\n",
       " Min.   :0.0000  \n",
       " 1st Qu.:0.0000  \n",
       " Median :0.0500  \n",
       " Mean   :0.2006  \n",
       " 3rd Qu.:0.2667  \n",
       " Max.   :3.0000  "
      ]
     },
     "metadata": {},
     "output_type": "display_data"
    }
   ],
   "source": [
    "#Working out the statistical summary of the hourly_intensities df\n",
    "summary(new_hourly_intensities)"
   ]
  },
  {
   "cell_type": "markdown",
   "id": "21b001fe",
   "metadata": {
    "papermill": {
     "duration": 0.020825,
     "end_time": "2023-03-27T13:09:49.767118",
     "exception": false,
     "start_time": "2023-03-27T13:09:49.746293",
     "status": "completed"
    },
    "tags": []
   },
   "source": [
    "## Joining DFs\n",
    "####  Left joining the hourly steps, hourly calories, hourly intensities df"
   ]
  },
  {
   "cell_type": "code",
   "execution_count": 19,
   "id": "54a27229",
   "metadata": {
    "execution": {
     "iopub.execute_input": "2023-03-27T13:09:49.813418Z",
     "iopub.status.busy": "2023-03-27T13:09:49.811776Z",
     "iopub.status.idle": "2023-03-27T13:09:50.361578Z",
     "shell.execute_reply": "2023-03-27T13:09:50.359328Z"
    },
    "papermill": {
     "duration": 0.576936,
     "end_time": "2023-03-27T13:09:50.365736",
     "exception": false,
     "start_time": "2023-03-27T13:09:49.788800",
     "status": "completed"
    },
    "tags": []
   },
   "outputs": [
    {
     "name": "stderr",
     "output_type": "stream",
     "text": [
      "Warning message:\n",
      "“\u001b[1m\u001b[22mExpected 2 pieces. Additional pieces discarded in 22099 rows [1, 2, 3, 4, 5, 6,\n",
      "7, 8, 9, 10, 11, 12, 13, 14, 15, 16, 17, 18, 19, 20, ...].”\n"
     ]
    },
    {
     "data": {
      "text/html": [
       "<table class=\"dataframe\">\n",
       "<caption>A data.frame: 6 × 8</caption>\n",
       "<thead>\n",
       "\t<tr><th></th><th scope=col>Id</th><th scope=col>ActivityDate</th><th scope=col>Day</th><th scope=col>ActivityTime</th><th scope=col>StepTotal</th><th scope=col>Calories</th><th scope=col>TotalIntensity</th><th scope=col>AverageIntensity</th></tr>\n",
       "\t<tr><th></th><th scope=col>&lt;dbl&gt;</th><th scope=col>&lt;date&gt;</th><th scope=col>&lt;chr&gt;</th><th scope=col>&lt;chr&gt;</th><th scope=col>&lt;dbl&gt;</th><th scope=col>&lt;int&gt;</th><th scope=col>&lt;int&gt;</th><th scope=col>&lt;dbl&gt;</th></tr>\n",
       "</thead>\n",
       "<tbody>\n",
       "\t<tr><th scope=row>1</th><td>1503960366</td><td>2016-04-12</td><td>Tuesday</td><td>12:00:00</td><td>320.1663</td><td>81</td><td>20</td><td>0.333333</td></tr>\n",
       "\t<tr><th scope=row>2</th><td>1503960366</td><td>2016-04-12</td><td>Tuesday</td><td>1:00:00 </td><td>320.1663</td><td>61</td><td> 8</td><td>0.133333</td></tr>\n",
       "\t<tr><th scope=row>3</th><td>1503960366</td><td>2016-04-12</td><td>Tuesday</td><td>2:00:00 </td><td>320.1663</td><td>59</td><td> 7</td><td>0.116667</td></tr>\n",
       "\t<tr><th scope=row>4</th><td>1503960366</td><td>2016-04-12</td><td>Tuesday</td><td>3:00:00 </td><td>320.1663</td><td>47</td><td> 0</td><td>0.000000</td></tr>\n",
       "\t<tr><th scope=row>5</th><td>1503960366</td><td>2016-04-12</td><td>Tuesday</td><td>4:00:00 </td><td>320.1663</td><td>48</td><td> 0</td><td>0.000000</td></tr>\n",
       "\t<tr><th scope=row>6</th><td>1503960366</td><td>2016-04-12</td><td>Tuesday</td><td>5:00:00 </td><td>320.1663</td><td>48</td><td> 0</td><td>0.000000</td></tr>\n",
       "</tbody>\n",
       "</table>\n"
      ],
      "text/latex": [
       "A data.frame: 6 × 8\n",
       "\\begin{tabular}{r|llllllll}\n",
       "  & Id & ActivityDate & Day & ActivityTime & StepTotal & Calories & TotalIntensity & AverageIntensity\\\\\n",
       "  & <dbl> & <date> & <chr> & <chr> & <dbl> & <int> & <int> & <dbl>\\\\\n",
       "\\hline\n",
       "\t1 & 1503960366 & 2016-04-12 & Tuesday & 12:00:00 & 320.1663 & 81 & 20 & 0.333333\\\\\n",
       "\t2 & 1503960366 & 2016-04-12 & Tuesday & 1:00:00  & 320.1663 & 61 &  8 & 0.133333\\\\\n",
       "\t3 & 1503960366 & 2016-04-12 & Tuesday & 2:00:00  & 320.1663 & 59 &  7 & 0.116667\\\\\n",
       "\t4 & 1503960366 & 2016-04-12 & Tuesday & 3:00:00  & 320.1663 & 47 &  0 & 0.000000\\\\\n",
       "\t5 & 1503960366 & 2016-04-12 & Tuesday & 4:00:00  & 320.1663 & 48 &  0 & 0.000000\\\\\n",
       "\t6 & 1503960366 & 2016-04-12 & Tuesday & 5:00:00  & 320.1663 & 48 &  0 & 0.000000\\\\\n",
       "\\end{tabular}\n"
      ],
      "text/markdown": [
       "\n",
       "A data.frame: 6 × 8\n",
       "\n",
       "| <!--/--> | Id &lt;dbl&gt; | ActivityDate &lt;date&gt; | Day &lt;chr&gt; | ActivityTime &lt;chr&gt; | StepTotal &lt;dbl&gt; | Calories &lt;int&gt; | TotalIntensity &lt;int&gt; | AverageIntensity &lt;dbl&gt; |\n",
       "|---|---|---|---|---|---|---|---|---|\n",
       "| 1 | 1503960366 | 2016-04-12 | Tuesday | 12:00:00 | 320.1663 | 81 | 20 | 0.333333 |\n",
       "| 2 | 1503960366 | 2016-04-12 | Tuesday | 1:00:00  | 320.1663 | 61 |  8 | 0.133333 |\n",
       "| 3 | 1503960366 | 2016-04-12 | Tuesday | 2:00:00  | 320.1663 | 59 |  7 | 0.116667 |\n",
       "| 4 | 1503960366 | 2016-04-12 | Tuesday | 3:00:00  | 320.1663 | 47 |  0 | 0.000000 |\n",
       "| 5 | 1503960366 | 2016-04-12 | Tuesday | 4:00:00  | 320.1663 | 48 |  0 | 0.000000 |\n",
       "| 6 | 1503960366 | 2016-04-12 | Tuesday | 5:00:00  | 320.1663 | 48 |  0 | 0.000000 |\n",
       "\n"
      ],
      "text/plain": [
       "  Id         ActivityDate Day     ActivityTime StepTotal Calories\n",
       "1 1503960366 2016-04-12   Tuesday 12:00:00     320.1663  81      \n",
       "2 1503960366 2016-04-12   Tuesday 1:00:00      320.1663  61      \n",
       "3 1503960366 2016-04-12   Tuesday 2:00:00      320.1663  59      \n",
       "4 1503960366 2016-04-12   Tuesday 3:00:00      320.1663  47      \n",
       "5 1503960366 2016-04-12   Tuesday 4:00:00      320.1663  48      \n",
       "6 1503960366 2016-04-12   Tuesday 5:00:00      320.1663  48      \n",
       "  TotalIntensity AverageIntensity\n",
       "1 20             0.333333        \n",
       "2  8             0.133333        \n",
       "3  7             0.116667        \n",
       "4  0             0.000000        \n",
       "5  0             0.000000        \n",
       "6  0             0.000000        "
      ]
     },
     "metadata": {},
     "output_type": "display_data"
    },
    {
     "name": "stdout",
     "output_type": "stream",
     "text": [
      "Rows: 22,099\n",
      "Columns: 8\n",
      "$ Id               \u001b[3m\u001b[90m<dbl>\u001b[39m\u001b[23m 1503960366, 1503960366, 1503960366, 1503960366, 15039…\n",
      "$ ActivityDate     \u001b[3m\u001b[90m<date>\u001b[39m\u001b[23m 2016-04-12, 2016-04-12, 2016-04-12, 2016-04-12, 2016…\n",
      "$ Day              \u001b[3m\u001b[90m<chr>\u001b[39m\u001b[23m \"Tuesday\", \"Tuesday\", \"Tuesday\", \"Tuesday\", \"Tuesday\"…\n",
      "$ ActivityTime     \u001b[3m\u001b[90m<chr>\u001b[39m\u001b[23m \"12:00:00\", \"1:00:00\", \"2:00:00\", \"3:00:00\", \"4:00:00…\n",
      "$ StepTotal        \u001b[3m\u001b[90m<dbl>\u001b[39m\u001b[23m 320.1663, 320.1663, 320.1663, 320.1663, 320.1663, 320…\n",
      "$ Calories         \u001b[3m\u001b[90m<int>\u001b[39m\u001b[23m 81, 61, 59, 47, 48, 48, 48, 47, 68, 141, 99, 76, 73, …\n",
      "$ TotalIntensity   \u001b[3m\u001b[90m<int>\u001b[39m\u001b[23m 20, 8, 7, 0, 0, 0, 0, 0, 13, 30, 29, 12, 11, 6, 36, 5…\n",
      "$ AverageIntensity \u001b[3m\u001b[90m<dbl>\u001b[39m\u001b[23m 0.333333, 0.133333, 0.116667, 0.000000, 0.000000, 0.0…\n"
     ]
    }
   ],
   "source": [
    "#left joining hourly steps,hourly calories, hourly intensities\n",
    "hourly_steps_calories_intensities <- hourly_steps %>% \n",
    "  left_join(hourly_calories, by = c(\"Id\", \"ActivityHour\")) %>% \n",
    "  left_join(hourly_intensities, by = c(\"Id\", \"ActivityHour\")) %>% \n",
    "  separate(ActivityHour, sep = \" \", into = c(\"ActivityDate\",\"ActivityTime\")) %>% \n",
    "  mutate(ActivityDate = mdy(ActivityDate)) %>%\n",
    "  mutate(Day = weekdays(ActivityDate)) %>% \n",
    "  mutate(StepTotal = mean(StepTotal)) %>%\n",
    "  select(Id,ActivityDate, Day, everything())\n",
    "head(hourly_steps_calories_intensities)\n",
    "glimpse(hourly_steps_calories_intensities)"
   ]
  },
  {
   "cell_type": "markdown",
   "id": "6479eeff",
   "metadata": {
    "papermill": {
     "duration": 0.033016,
     "end_time": "2023-03-27T13:09:50.433661",
     "exception": false,
     "start_time": "2023-03-27T13:09:50.400645",
     "status": "completed"
    },
    "tags": []
   },
   "source": [
    "## Fitness Gadget Usage"
   ]
  },
  {
   "cell_type": "markdown",
   "id": "9798f0d7",
   "metadata": {
    "papermill": {
     "duration": 0.021651,
     "end_time": "2023-03-27T13:09:50.477338",
     "exception": false,
     "start_time": "2023-03-27T13:09:50.455687",
     "status": "completed"
    },
    "tags": []
   },
   "source": [
    "#### Exploring how often the FitBit Users used their fitness gadgets and classifying the range of days into 'High Usage', 'Average Usage', and 'Low Usage'"
   ]
  },
  {
   "cell_type": "code",
   "execution_count": 20,
   "id": "c3360c09",
   "metadata": {
    "execution": {
     "iopub.execute_input": "2023-03-27T13:09:50.525265Z",
     "iopub.status.busy": "2023-03-27T13:09:50.523560Z",
     "iopub.status.idle": "2023-03-27T13:09:50.610370Z",
     "shell.execute_reply": "2023-03-27T13:09:50.608434Z"
    },
    "papermill": {
     "duration": 0.114434,
     "end_time": "2023-03-27T13:09:50.612818",
     "exception": false,
     "start_time": "2023-03-27T13:09:50.498384",
     "status": "completed"
    },
    "tags": []
   },
   "outputs": [
    {
     "data": {
      "text/html": [
       "<table class=\"dataframe\">\n",
       "<caption>A tibble: 6 × 3</caption>\n",
       "<thead>\n",
       "\t<tr><th scope=col>Id</th><th scope=col>cumulative_days</th><th scope=col>frequency</th></tr>\n",
       "\t<tr><th scope=col>&lt;dbl&gt;</th><th scope=col>&lt;int&gt;</th><th scope=col>&lt;fct&gt;</th></tr>\n",
       "</thead>\n",
       "<tbody>\n",
       "\t<tr><td>1503960366</td><td>31</td><td>high usage</td></tr>\n",
       "\t<tr><td>1624580081</td><td>31</td><td>high usage</td></tr>\n",
       "\t<tr><td>1644430081</td><td>30</td><td>high usage</td></tr>\n",
       "\t<tr><td>1844505072</td><td>31</td><td>high usage</td></tr>\n",
       "\t<tr><td>1927972279</td><td>31</td><td>high usage</td></tr>\n",
       "\t<tr><td>2022484408</td><td>31</td><td>high usage</td></tr>\n",
       "</tbody>\n",
       "</table>\n"
      ],
      "text/latex": [
       "A tibble: 6 × 3\n",
       "\\begin{tabular}{lll}\n",
       " Id & cumulative\\_days & frequency\\\\\n",
       " <dbl> & <int> & <fct>\\\\\n",
       "\\hline\n",
       "\t 1503960366 & 31 & high usage\\\\\n",
       "\t 1624580081 & 31 & high usage\\\\\n",
       "\t 1644430081 & 30 & high usage\\\\\n",
       "\t 1844505072 & 31 & high usage\\\\\n",
       "\t 1927972279 & 31 & high usage\\\\\n",
       "\t 2022484408 & 31 & high usage\\\\\n",
       "\\end{tabular}\n"
      ],
      "text/markdown": [
       "\n",
       "A tibble: 6 × 3\n",
       "\n",
       "| Id &lt;dbl&gt; | cumulative_days &lt;int&gt; | frequency &lt;fct&gt; |\n",
       "|---|---|---|\n",
       "| 1503960366 | 31 | high usage |\n",
       "| 1624580081 | 31 | high usage |\n",
       "| 1644430081 | 30 | high usage |\n",
       "| 1844505072 | 31 | high usage |\n",
       "| 1927972279 | 31 | high usage |\n",
       "| 2022484408 | 31 | high usage |\n",
       "\n"
      ],
      "text/plain": [
       "  Id         cumulative_days frequency \n",
       "1 1503960366 31              high usage\n",
       "2 1624580081 31              high usage\n",
       "3 1644430081 30              high usage\n",
       "4 1844505072 31              high usage\n",
       "5 1927972279 31              high usage\n",
       "6 2022484408 31              high usage"
      ]
     },
     "metadata": {},
     "output_type": "display_data"
    }
   ],
   "source": [
    "cumulative_days <- daily_activity %>% group_by(Id) %>% summarize(cumulative_days = sum(n())) %>% \n",
    "mutate(frequency = case_when(cumulative_days <= 14 ~ \"low usage\",\n",
    "                            cumulative_days >= 15 & cumulative_days <= 21 ~ \"average usage\",\n",
    "                            cumulative_days >= 22 & cumulative_days <= 31 ~ \"high usage\")) %>%\n",
    "mutate(frequency = factor(frequency, level = c(\"low usage\", \"average usage\", \"high usage\")))\n",
    "head(cumulative_days)"
   ]
  },
  {
   "cell_type": "markdown",
   "id": "b15a2b15",
   "metadata": {
    "papermill": {
     "duration": 0.022139,
     "end_time": "2023-03-27T13:09:50.657925",
     "exception": false,
     "start_time": "2023-03-27T13:09:50.635786",
     "status": "completed"
    },
    "tags": []
   },
   "source": [
    "#### Adding day of the week column to the daily activity df"
   ]
  },
  {
   "cell_type": "code",
   "execution_count": 21,
   "id": "2a35bf3d",
   "metadata": {
    "execution": {
     "iopub.execute_input": "2023-03-27T13:09:50.704938Z",
     "iopub.status.busy": "2023-03-27T13:09:50.703273Z",
     "iopub.status.idle": "2023-03-27T13:09:50.784315Z",
     "shell.execute_reply": "2023-03-27T13:09:50.782517Z"
    },
    "papermill": {
     "duration": 0.107245,
     "end_time": "2023-03-27T13:09:50.786831",
     "exception": false,
     "start_time": "2023-03-27T13:09:50.679586",
     "status": "completed"
    },
    "tags": []
   },
   "outputs": [
    {
     "data": {
      "text/html": [
       "<table class=\"dataframe\">\n",
       "<caption>A data.frame: 6 × 18</caption>\n",
       "<thead>\n",
       "\t<tr><th></th><th scope=col>Id</th><th scope=col>ActivityDate</th><th scope=col>Weekday</th><th scope=col>TotalSteps</th><th scope=col>TotalDistance</th><th scope=col>TrackerDistance</th><th scope=col>LoggedActivitiesDistance</th><th scope=col>VeryActiveDistance</th><th scope=col>ModeratelyActiveDistance</th><th scope=col>LightActiveDistance</th><th scope=col>SedentaryActiveDistance</th><th scope=col>VeryActiveMinutes</th><th scope=col>FairlyActiveMinutes</th><th scope=col>LightlyActiveMinutes</th><th scope=col>SedentaryMinutes</th><th scope=col>Calories</th><th scope=col>TotalMinutesWorn</th><th scope=col>TotalDuration</th></tr>\n",
       "\t<tr><th></th><th scope=col>&lt;dbl&gt;</th><th scope=col>&lt;date&gt;</th><th scope=col>&lt;chr&gt;</th><th scope=col>&lt;int&gt;</th><th scope=col>&lt;dbl&gt;</th><th scope=col>&lt;dbl&gt;</th><th scope=col>&lt;dbl&gt;</th><th scope=col>&lt;dbl&gt;</th><th scope=col>&lt;dbl&gt;</th><th scope=col>&lt;dbl&gt;</th><th scope=col>&lt;dbl&gt;</th><th scope=col>&lt;int&gt;</th><th scope=col>&lt;int&gt;</th><th scope=col>&lt;int&gt;</th><th scope=col>&lt;int&gt;</th><th scope=col>&lt;int&gt;</th><th scope=col>&lt;int&gt;</th><th scope=col>&lt;Period&gt;</th></tr>\n",
       "</thead>\n",
       "<tbody>\n",
       "\t<tr><th scope=row>1</th><td>1503960366</td><td>2016-04-12</td><td>Tuesday  </td><td>13162</td><td>8.50</td><td>8.50</td><td>0</td><td>1.88</td><td>0.55</td><td>6.06</td><td>0</td><td>25</td><td>13</td><td>328</td><td> 728</td><td>1985</td><td>1094</td><td>18H 14M 0S</td></tr>\n",
       "\t<tr><th scope=row>2</th><td>1503960366</td><td>2016-04-13</td><td>Wednesday</td><td>10735</td><td>6.97</td><td>6.97</td><td>0</td><td>1.57</td><td>0.69</td><td>4.71</td><td>0</td><td>21</td><td>19</td><td>217</td><td> 776</td><td>1797</td><td>1033</td><td>17H 13M 0S</td></tr>\n",
       "\t<tr><th scope=row>3</th><td>1503960366</td><td>2016-04-14</td><td>Thursday </td><td>10460</td><td>6.74</td><td>6.74</td><td>0</td><td>2.44</td><td>0.40</td><td>3.91</td><td>0</td><td>30</td><td>11</td><td>181</td><td>1218</td><td>1776</td><td>1440</td><td>1d 0H 0M 0S</td></tr>\n",
       "\t<tr><th scope=row>4</th><td>1503960366</td><td>2016-04-15</td><td>Friday   </td><td> 9762</td><td>6.28</td><td>6.28</td><td>0</td><td>2.14</td><td>1.26</td><td>2.83</td><td>0</td><td>29</td><td>34</td><td>209</td><td> 726</td><td>1745</td><td> 998</td><td>16H 38M 0S</td></tr>\n",
       "\t<tr><th scope=row>5</th><td>1503960366</td><td>2016-04-16</td><td>Saturday </td><td>12669</td><td>8.16</td><td>8.16</td><td>0</td><td>2.71</td><td>0.41</td><td>5.04</td><td>0</td><td>36</td><td>10</td><td>221</td><td> 773</td><td>1863</td><td>1040</td><td>17H 20M 0S</td></tr>\n",
       "\t<tr><th scope=row>6</th><td>1503960366</td><td>2016-04-17</td><td>Sunday   </td><td> 9705</td><td>6.48</td><td>6.48</td><td>0</td><td>3.19</td><td>0.78</td><td>2.51</td><td>0</td><td>38</td><td>20</td><td>164</td><td> 539</td><td>1728</td><td> 761</td><td>12H 41M 0S</td></tr>\n",
       "</tbody>\n",
       "</table>\n"
      ],
      "text/latex": [
       "A data.frame: 6 × 18\n",
       "\\begin{tabular}{r|llllllllllllllllll}\n",
       "  & Id & ActivityDate & Weekday & TotalSteps & TotalDistance & TrackerDistance & LoggedActivitiesDistance & VeryActiveDistance & ModeratelyActiveDistance & LightActiveDistance & SedentaryActiveDistance & VeryActiveMinutes & FairlyActiveMinutes & LightlyActiveMinutes & SedentaryMinutes & Calories & TotalMinutesWorn & TotalDuration\\\\\n",
       "  & <dbl> & <date> & <chr> & <int> & <dbl> & <dbl> & <dbl> & <dbl> & <dbl> & <dbl> & <dbl> & <int> & <int> & <int> & <int> & <int> & <int> & <Period>\\\\\n",
       "\\hline\n",
       "\t1 & 1503960366 & 2016-04-12 & Tuesday   & 13162 & 8.50 & 8.50 & 0 & 1.88 & 0.55 & 6.06 & 0 & 25 & 13 & 328 &  728 & 1985 & 1094 & 18H 14M 0S\\\\\n",
       "\t2 & 1503960366 & 2016-04-13 & Wednesday & 10735 & 6.97 & 6.97 & 0 & 1.57 & 0.69 & 4.71 & 0 & 21 & 19 & 217 &  776 & 1797 & 1033 & 17H 13M 0S\\\\\n",
       "\t3 & 1503960366 & 2016-04-14 & Thursday  & 10460 & 6.74 & 6.74 & 0 & 2.44 & 0.40 & 3.91 & 0 & 30 & 11 & 181 & 1218 & 1776 & 1440 & 1d 0H 0M 0S\\\\\n",
       "\t4 & 1503960366 & 2016-04-15 & Friday    &  9762 & 6.28 & 6.28 & 0 & 2.14 & 1.26 & 2.83 & 0 & 29 & 34 & 209 &  726 & 1745 &  998 & 16H 38M 0S\\\\\n",
       "\t5 & 1503960366 & 2016-04-16 & Saturday  & 12669 & 8.16 & 8.16 & 0 & 2.71 & 0.41 & 5.04 & 0 & 36 & 10 & 221 &  773 & 1863 & 1040 & 17H 20M 0S\\\\\n",
       "\t6 & 1503960366 & 2016-04-17 & Sunday    &  9705 & 6.48 & 6.48 & 0 & 3.19 & 0.78 & 2.51 & 0 & 38 & 20 & 164 &  539 & 1728 &  761 & 12H 41M 0S\\\\\n",
       "\\end{tabular}\n"
      ],
      "text/markdown": [
       "\n",
       "A data.frame: 6 × 18\n",
       "\n",
       "| <!--/--> | Id &lt;dbl&gt; | ActivityDate &lt;date&gt; | Weekday &lt;chr&gt; | TotalSteps &lt;int&gt; | TotalDistance &lt;dbl&gt; | TrackerDistance &lt;dbl&gt; | LoggedActivitiesDistance &lt;dbl&gt; | VeryActiveDistance &lt;dbl&gt; | ModeratelyActiveDistance &lt;dbl&gt; | LightActiveDistance &lt;dbl&gt; | SedentaryActiveDistance &lt;dbl&gt; | VeryActiveMinutes &lt;int&gt; | FairlyActiveMinutes &lt;int&gt; | LightlyActiveMinutes &lt;int&gt; | SedentaryMinutes &lt;int&gt; | Calories &lt;int&gt; | TotalMinutesWorn &lt;int&gt; | TotalDuration &lt;Period&gt; |\n",
       "|---|---|---|---|---|---|---|---|---|---|---|---|---|---|---|---|---|---|---|\n",
       "| 1 | 1503960366 | 2016-04-12 | Tuesday   | 13162 | 8.50 | 8.50 | 0 | 1.88 | 0.55 | 6.06 | 0 | 25 | 13 | 328 |  728 | 1985 | 1094 | 18H 14M 0S |\n",
       "| 2 | 1503960366 | 2016-04-13 | Wednesday | 10735 | 6.97 | 6.97 | 0 | 1.57 | 0.69 | 4.71 | 0 | 21 | 19 | 217 |  776 | 1797 | 1033 | 17H 13M 0S |\n",
       "| 3 | 1503960366 | 2016-04-14 | Thursday  | 10460 | 6.74 | 6.74 | 0 | 2.44 | 0.40 | 3.91 | 0 | 30 | 11 | 181 | 1218 | 1776 | 1440 | 1d 0H 0M 0S |\n",
       "| 4 | 1503960366 | 2016-04-15 | Friday    |  9762 | 6.28 | 6.28 | 0 | 2.14 | 1.26 | 2.83 | 0 | 29 | 34 | 209 |  726 | 1745 |  998 | 16H 38M 0S |\n",
       "| 5 | 1503960366 | 2016-04-16 | Saturday  | 12669 | 8.16 | 8.16 | 0 | 2.71 | 0.41 | 5.04 | 0 | 36 | 10 | 221 |  773 | 1863 | 1040 | 17H 20M 0S |\n",
       "| 6 | 1503960366 | 2016-04-17 | Sunday    |  9705 | 6.48 | 6.48 | 0 | 3.19 | 0.78 | 2.51 | 0 | 38 | 20 | 164 |  539 | 1728 |  761 | 12H 41M 0S |\n",
       "\n"
      ],
      "text/plain": [
       "  Id         ActivityDate Weekday   TotalSteps TotalDistance TrackerDistance\n",
       "1 1503960366 2016-04-12   Tuesday   13162      8.50          8.50           \n",
       "2 1503960366 2016-04-13   Wednesday 10735      6.97          6.97           \n",
       "3 1503960366 2016-04-14   Thursday  10460      6.74          6.74           \n",
       "4 1503960366 2016-04-15   Friday     9762      6.28          6.28           \n",
       "5 1503960366 2016-04-16   Saturday  12669      8.16          8.16           \n",
       "6 1503960366 2016-04-17   Sunday     9705      6.48          6.48           \n",
       "  LoggedActivitiesDistance VeryActiveDistance ModeratelyActiveDistance\n",
       "1 0                        1.88               0.55                    \n",
       "2 0                        1.57               0.69                    \n",
       "3 0                        2.44               0.40                    \n",
       "4 0                        2.14               1.26                    \n",
       "5 0                        2.71               0.41                    \n",
       "6 0                        3.19               0.78                    \n",
       "  LightActiveDistance SedentaryActiveDistance VeryActiveMinutes\n",
       "1 6.06                0                       25               \n",
       "2 4.71                0                       21               \n",
       "3 3.91                0                       30               \n",
       "4 2.83                0                       29               \n",
       "5 5.04                0                       36               \n",
       "6 2.51                0                       38               \n",
       "  FairlyActiveMinutes LightlyActiveMinutes SedentaryMinutes Calories\n",
       "1 13                  328                   728             1985    \n",
       "2 19                  217                   776             1797    \n",
       "3 11                  181                  1218             1776    \n",
       "4 34                  209                   726             1745    \n",
       "5 10                  221                   773             1863    \n",
       "6 20                  164                   539             1728    \n",
       "  TotalMinutesWorn TotalDuration\n",
       "1 1094             18H 14M 0S   \n",
       "2 1033             17H 13M 0S   \n",
       "3 1440             1d 0H 0M 0S  \n",
       "4  998             16H 38M 0S   \n",
       "5 1040             17H 20M 0S   \n",
       "6  761             12H 41M 0S   "
      ]
     },
     "metadata": {},
     "output_type": "display_data"
    }
   ],
   "source": [
    "daily_activity_weekdays <- daily_activity %>% \n",
    "mutate(Weekday = weekdays(ActivityDate)) %>% \n",
    "select(Id, ActivityDate, Weekday, everything()) %>%  \n",
    "mutate(TotalMinutesWorn = SedentaryMinutes+LightlyActiveMinutes+FairlyActiveMinutes+VeryActiveMinutes) %>% \n",
    "  mutate(TotalDuration = seconds_to_period(TotalMinutesWorn * 60))\n",
    "head(daily_activity_weekdays)"
   ]
  },
  {
   "cell_type": "markdown",
   "id": "30ef6a38",
   "metadata": {
    "papermill": {
     "duration": 0.022488,
     "end_time": "2023-03-27T13:09:50.831378",
     "exception": false,
     "start_time": "2023-03-27T13:09:50.808890",
     "status": "completed"
    },
    "tags": []
   },
   "source": [
    "#### Merging cumulative days df with hourly_steps_calories_intensities dfs"
   ]
  },
  {
   "cell_type": "code",
   "execution_count": 22,
   "id": "c221645a",
   "metadata": {
    "execution": {
     "iopub.execute_input": "2023-03-27T13:09:50.878878Z",
     "iopub.status.busy": "2023-03-27T13:09:50.877346Z",
     "iopub.status.idle": "2023-03-27T13:09:50.940699Z",
     "shell.execute_reply": "2023-03-27T13:09:50.938372Z"
    },
    "papermill": {
     "duration": 0.090503,
     "end_time": "2023-03-27T13:09:50.943716",
     "exception": false,
     "start_time": "2023-03-27T13:09:50.853213",
     "status": "completed"
    },
    "tags": []
   },
   "outputs": [
    {
     "name": "stdout",
     "output_type": "stream",
     "text": [
      "Rows: 22,099\n",
      "Columns: 10\n",
      "$ Id               \u001b[3m\u001b[90m<dbl>\u001b[39m\u001b[23m 1503960366, 1503960366, 1503960366, 1503960366, 15039…\n",
      "$ cumulative_days  \u001b[3m\u001b[90m<int>\u001b[39m\u001b[23m 31, 31, 31, 31, 31, 31, 31, 31, 31, 31, 31, 31, 31, 3…\n",
      "$ frequency        \u001b[3m\u001b[90m<fct>\u001b[39m\u001b[23m high usage, high usage, high usage, high usage, high …\n",
      "$ ActivityDate     \u001b[3m\u001b[90m<date>\u001b[39m\u001b[23m 2016-04-12, 2016-04-12, 2016-04-12, 2016-04-12, 2016…\n",
      "$ Day              \u001b[3m\u001b[90m<chr>\u001b[39m\u001b[23m \"Tuesday\", \"Tuesday\", \"Tuesday\", \"Tuesday\", \"Tuesday\"…\n",
      "$ ActivityTime     \u001b[3m\u001b[90m<chr>\u001b[39m\u001b[23m \"12:00:00\", \"1:00:00\", \"2:00:00\", \"3:00:00\", \"4:00:00…\n",
      "$ StepTotal        \u001b[3m\u001b[90m<dbl>\u001b[39m\u001b[23m 320.1663, 320.1663, 320.1663, 320.1663, 320.1663, 320…\n",
      "$ Calories         \u001b[3m\u001b[90m<int>\u001b[39m\u001b[23m 81, 61, 59, 47, 48, 48, 48, 47, 68, 141, 99, 76, 73, …\n",
      "$ TotalIntensity   \u001b[3m\u001b[90m<int>\u001b[39m\u001b[23m 20, 8, 7, 0, 0, 0, 0, 0, 13, 30, 29, 12, 11, 6, 36, 5…\n",
      "$ AverageIntensity \u001b[3m\u001b[90m<dbl>\u001b[39m\u001b[23m 0.333333, 0.133333, 0.116667, 0.000000, 0.000000, 0.0…\n"
     ]
    }
   ],
   "source": [
    "merged_hourly_df <- merge(cumulative_days, hourly_steps_calories_intensities, by = \"Id\")\n",
    "glimpse(merged_hourly_df)"
   ]
  },
  {
   "cell_type": "markdown",
   "id": "0f3c8710",
   "metadata": {
    "papermill": {
     "duration": 0.021605,
     "end_time": "2023-03-27T13:09:50.988091",
     "exception": false,
     "start_time": "2023-03-27T13:09:50.966486",
     "status": "completed"
    },
    "tags": []
   },
   "source": [
    "#### Merging cumulative days df with daily_activity_weekdays df"
   ]
  },
  {
   "cell_type": "code",
   "execution_count": 23,
   "id": "12e752ea",
   "metadata": {
    "execution": {
     "iopub.execute_input": "2023-03-27T13:09:51.037472Z",
     "iopub.status.busy": "2023-03-27T13:09:51.035605Z",
     "iopub.status.idle": "2023-03-27T13:09:51.097994Z",
     "shell.execute_reply": "2023-03-27T13:09:51.096023Z"
    },
    "papermill": {
     "duration": 0.090458,
     "end_time": "2023-03-27T13:09:51.101082",
     "exception": false,
     "start_time": "2023-03-27T13:09:51.010624",
     "status": "completed"
    },
    "tags": []
   },
   "outputs": [
    {
     "data": {
      "text/html": [
       "<table class=\"dataframe\">\n",
       "<caption>A data.frame: 6 × 20</caption>\n",
       "<thead>\n",
       "\t<tr><th></th><th scope=col>Id</th><th scope=col>cumulative_days</th><th scope=col>frequency</th><th scope=col>ActivityDate</th><th scope=col>Weekday</th><th scope=col>TotalSteps</th><th scope=col>TotalDistance</th><th scope=col>TrackerDistance</th><th scope=col>LoggedActivitiesDistance</th><th scope=col>VeryActiveDistance</th><th scope=col>ModeratelyActiveDistance</th><th scope=col>LightActiveDistance</th><th scope=col>SedentaryActiveDistance</th><th scope=col>VeryActiveMinutes</th><th scope=col>FairlyActiveMinutes</th><th scope=col>LightlyActiveMinutes</th><th scope=col>SedentaryMinutes</th><th scope=col>Calories</th><th scope=col>TotalMinutesWorn</th><th scope=col>TotalDuration</th></tr>\n",
       "\t<tr><th></th><th scope=col>&lt;dbl&gt;</th><th scope=col>&lt;int&gt;</th><th scope=col>&lt;fct&gt;</th><th scope=col>&lt;date&gt;</th><th scope=col>&lt;chr&gt;</th><th scope=col>&lt;int&gt;</th><th scope=col>&lt;dbl&gt;</th><th scope=col>&lt;dbl&gt;</th><th scope=col>&lt;dbl&gt;</th><th scope=col>&lt;dbl&gt;</th><th scope=col>&lt;dbl&gt;</th><th scope=col>&lt;dbl&gt;</th><th scope=col>&lt;dbl&gt;</th><th scope=col>&lt;int&gt;</th><th scope=col>&lt;int&gt;</th><th scope=col>&lt;int&gt;</th><th scope=col>&lt;int&gt;</th><th scope=col>&lt;int&gt;</th><th scope=col>&lt;int&gt;</th><th scope=col>&lt;Period&gt;</th></tr>\n",
       "</thead>\n",
       "<tbody>\n",
       "\t<tr><th scope=row>1</th><td>1503960366</td><td>31</td><td>high usage</td><td>2016-04-12</td><td>Tuesday  </td><td>13162</td><td>8.50</td><td>8.50</td><td>0</td><td>1.88</td><td>0.55</td><td>6.06</td><td>0</td><td>25</td><td>13</td><td>328</td><td> 728</td><td>1985</td><td>1094</td><td>18H 14M 0S</td></tr>\n",
       "\t<tr><th scope=row>2</th><td>1503960366</td><td>31</td><td>high usage</td><td>2016-04-13</td><td>Wednesday</td><td>10735</td><td>6.97</td><td>6.97</td><td>0</td><td>1.57</td><td>0.69</td><td>4.71</td><td>0</td><td>21</td><td>19</td><td>217</td><td> 776</td><td>1797</td><td>1033</td><td>17H 13M 0S</td></tr>\n",
       "\t<tr><th scope=row>3</th><td>1503960366</td><td>31</td><td>high usage</td><td>2016-04-14</td><td>Thursday </td><td>10460</td><td>6.74</td><td>6.74</td><td>0</td><td>2.44</td><td>0.40</td><td>3.91</td><td>0</td><td>30</td><td>11</td><td>181</td><td>1218</td><td>1776</td><td>1440</td><td>1d 0H 0M 0S</td></tr>\n",
       "\t<tr><th scope=row>4</th><td>1503960366</td><td>31</td><td>high usage</td><td>2016-04-15</td><td>Friday   </td><td> 9762</td><td>6.28</td><td>6.28</td><td>0</td><td>2.14</td><td>1.26</td><td>2.83</td><td>0</td><td>29</td><td>34</td><td>209</td><td> 726</td><td>1745</td><td> 998</td><td>16H 38M 0S</td></tr>\n",
       "\t<tr><th scope=row>5</th><td>1503960366</td><td>31</td><td>high usage</td><td>2016-04-16</td><td>Saturday </td><td>12669</td><td>8.16</td><td>8.16</td><td>0</td><td>2.71</td><td>0.41</td><td>5.04</td><td>0</td><td>36</td><td>10</td><td>221</td><td> 773</td><td>1863</td><td>1040</td><td>17H 20M 0S</td></tr>\n",
       "\t<tr><th scope=row>6</th><td>1503960366</td><td>31</td><td>high usage</td><td>2016-04-17</td><td>Sunday   </td><td> 9705</td><td>6.48</td><td>6.48</td><td>0</td><td>3.19</td><td>0.78</td><td>2.51</td><td>0</td><td>38</td><td>20</td><td>164</td><td> 539</td><td>1728</td><td> 761</td><td>12H 41M 0S</td></tr>\n",
       "</tbody>\n",
       "</table>\n"
      ],
      "text/latex": [
       "A data.frame: 6 × 20\n",
       "\\begin{tabular}{r|llllllllllllllllllll}\n",
       "  & Id & cumulative\\_days & frequency & ActivityDate & Weekday & TotalSteps & TotalDistance & TrackerDistance & LoggedActivitiesDistance & VeryActiveDistance & ModeratelyActiveDistance & LightActiveDistance & SedentaryActiveDistance & VeryActiveMinutes & FairlyActiveMinutes & LightlyActiveMinutes & SedentaryMinutes & Calories & TotalMinutesWorn & TotalDuration\\\\\n",
       "  & <dbl> & <int> & <fct> & <date> & <chr> & <int> & <dbl> & <dbl> & <dbl> & <dbl> & <dbl> & <dbl> & <dbl> & <int> & <int> & <int> & <int> & <int> & <int> & <Period>\\\\\n",
       "\\hline\n",
       "\t1 & 1503960366 & 31 & high usage & 2016-04-12 & Tuesday   & 13162 & 8.50 & 8.50 & 0 & 1.88 & 0.55 & 6.06 & 0 & 25 & 13 & 328 &  728 & 1985 & 1094 & 18H 14M 0S\\\\\n",
       "\t2 & 1503960366 & 31 & high usage & 2016-04-13 & Wednesday & 10735 & 6.97 & 6.97 & 0 & 1.57 & 0.69 & 4.71 & 0 & 21 & 19 & 217 &  776 & 1797 & 1033 & 17H 13M 0S\\\\\n",
       "\t3 & 1503960366 & 31 & high usage & 2016-04-14 & Thursday  & 10460 & 6.74 & 6.74 & 0 & 2.44 & 0.40 & 3.91 & 0 & 30 & 11 & 181 & 1218 & 1776 & 1440 & 1d 0H 0M 0S\\\\\n",
       "\t4 & 1503960366 & 31 & high usage & 2016-04-15 & Friday    &  9762 & 6.28 & 6.28 & 0 & 2.14 & 1.26 & 2.83 & 0 & 29 & 34 & 209 &  726 & 1745 &  998 & 16H 38M 0S\\\\\n",
       "\t5 & 1503960366 & 31 & high usage & 2016-04-16 & Saturday  & 12669 & 8.16 & 8.16 & 0 & 2.71 & 0.41 & 5.04 & 0 & 36 & 10 & 221 &  773 & 1863 & 1040 & 17H 20M 0S\\\\\n",
       "\t6 & 1503960366 & 31 & high usage & 2016-04-17 & Sunday    &  9705 & 6.48 & 6.48 & 0 & 3.19 & 0.78 & 2.51 & 0 & 38 & 20 & 164 &  539 & 1728 &  761 & 12H 41M 0S\\\\\n",
       "\\end{tabular}\n"
      ],
      "text/markdown": [
       "\n",
       "A data.frame: 6 × 20\n",
       "\n",
       "| <!--/--> | Id &lt;dbl&gt; | cumulative_days &lt;int&gt; | frequency &lt;fct&gt; | ActivityDate &lt;date&gt; | Weekday &lt;chr&gt; | TotalSteps &lt;int&gt; | TotalDistance &lt;dbl&gt; | TrackerDistance &lt;dbl&gt; | LoggedActivitiesDistance &lt;dbl&gt; | VeryActiveDistance &lt;dbl&gt; | ModeratelyActiveDistance &lt;dbl&gt; | LightActiveDistance &lt;dbl&gt; | SedentaryActiveDistance &lt;dbl&gt; | VeryActiveMinutes &lt;int&gt; | FairlyActiveMinutes &lt;int&gt; | LightlyActiveMinutes &lt;int&gt; | SedentaryMinutes &lt;int&gt; | Calories &lt;int&gt; | TotalMinutesWorn &lt;int&gt; | TotalDuration &lt;Period&gt; |\n",
       "|---|---|---|---|---|---|---|---|---|---|---|---|---|---|---|---|---|---|---|---|---|\n",
       "| 1 | 1503960366 | 31 | high usage | 2016-04-12 | Tuesday   | 13162 | 8.50 | 8.50 | 0 | 1.88 | 0.55 | 6.06 | 0 | 25 | 13 | 328 |  728 | 1985 | 1094 | 18H 14M 0S |\n",
       "| 2 | 1503960366 | 31 | high usage | 2016-04-13 | Wednesday | 10735 | 6.97 | 6.97 | 0 | 1.57 | 0.69 | 4.71 | 0 | 21 | 19 | 217 |  776 | 1797 | 1033 | 17H 13M 0S |\n",
       "| 3 | 1503960366 | 31 | high usage | 2016-04-14 | Thursday  | 10460 | 6.74 | 6.74 | 0 | 2.44 | 0.40 | 3.91 | 0 | 30 | 11 | 181 | 1218 | 1776 | 1440 | 1d 0H 0M 0S |\n",
       "| 4 | 1503960366 | 31 | high usage | 2016-04-15 | Friday    |  9762 | 6.28 | 6.28 | 0 | 2.14 | 1.26 | 2.83 | 0 | 29 | 34 | 209 |  726 | 1745 |  998 | 16H 38M 0S |\n",
       "| 5 | 1503960366 | 31 | high usage | 2016-04-16 | Saturday  | 12669 | 8.16 | 8.16 | 0 | 2.71 | 0.41 | 5.04 | 0 | 36 | 10 | 221 |  773 | 1863 | 1040 | 17H 20M 0S |\n",
       "| 6 | 1503960366 | 31 | high usage | 2016-04-17 | Sunday    |  9705 | 6.48 | 6.48 | 0 | 3.19 | 0.78 | 2.51 | 0 | 38 | 20 | 164 |  539 | 1728 |  761 | 12H 41M 0S |\n",
       "\n"
      ],
      "text/plain": [
       "  Id         cumulative_days frequency  ActivityDate Weekday   TotalSteps\n",
       "1 1503960366 31              high usage 2016-04-12   Tuesday   13162     \n",
       "2 1503960366 31              high usage 2016-04-13   Wednesday 10735     \n",
       "3 1503960366 31              high usage 2016-04-14   Thursday  10460     \n",
       "4 1503960366 31              high usage 2016-04-15   Friday     9762     \n",
       "5 1503960366 31              high usage 2016-04-16   Saturday  12669     \n",
       "6 1503960366 31              high usage 2016-04-17   Sunday     9705     \n",
       "  TotalDistance TrackerDistance LoggedActivitiesDistance VeryActiveDistance\n",
       "1 8.50          8.50            0                        1.88              \n",
       "2 6.97          6.97            0                        1.57              \n",
       "3 6.74          6.74            0                        2.44              \n",
       "4 6.28          6.28            0                        2.14              \n",
       "5 8.16          8.16            0                        2.71              \n",
       "6 6.48          6.48            0                        3.19              \n",
       "  ModeratelyActiveDistance LightActiveDistance SedentaryActiveDistance\n",
       "1 0.55                     6.06                0                      \n",
       "2 0.69                     4.71                0                      \n",
       "3 0.40                     3.91                0                      \n",
       "4 1.26                     2.83                0                      \n",
       "5 0.41                     5.04                0                      \n",
       "6 0.78                     2.51                0                      \n",
       "  VeryActiveMinutes FairlyActiveMinutes LightlyActiveMinutes SedentaryMinutes\n",
       "1 25                13                  328                   728            \n",
       "2 21                19                  217                   776            \n",
       "3 30                11                  181                  1218            \n",
       "4 29                34                  209                   726            \n",
       "5 36                10                  221                   773            \n",
       "6 38                20                  164                   539            \n",
       "  Calories TotalMinutesWorn TotalDuration\n",
       "1 1985     1094             18H 14M 0S   \n",
       "2 1797     1033             17H 13M 0S   \n",
       "3 1776     1440             1d 0H 0M 0S  \n",
       "4 1745      998             16H 38M 0S   \n",
       "5 1863     1040             17H 20M 0S   \n",
       "6 1728      761             12H 41M 0S   "
      ]
     },
     "metadata": {},
     "output_type": "display_data"
    },
    {
     "name": "stdout",
     "output_type": "stream",
     "text": [
      "Rows: 940\n",
      "Columns: 20\n",
      "$ Id                       \u001b[3m\u001b[90m<dbl>\u001b[39m\u001b[23m 1503960366, 1503960366, 1503960366, 150396036…\n",
      "$ cumulative_days          \u001b[3m\u001b[90m<int>\u001b[39m\u001b[23m 31, 31, 31, 31, 31, 31, 31, 31, 31, 31, 31, 3…\n",
      "$ frequency                \u001b[3m\u001b[90m<fct>\u001b[39m\u001b[23m high usage, high usage, high usage, high usag…\n",
      "$ ActivityDate             \u001b[3m\u001b[90m<date>\u001b[39m\u001b[23m 2016-04-12, 2016-04-13, 2016-04-14, 2016-04-…\n",
      "$ Weekday                  \u001b[3m\u001b[90m<chr>\u001b[39m\u001b[23m \"Tuesday\", \"Wednesday\", \"Thursday\", \"Friday\",…\n",
      "$ TotalSteps               \u001b[3m\u001b[90m<int>\u001b[39m\u001b[23m 13162, 10735, 10460, 9762, 12669, 9705, 13019…\n",
      "$ TotalDistance            \u001b[3m\u001b[90m<dbl>\u001b[39m\u001b[23m 8.50, 6.97, 6.74, 6.28, 8.16, 6.48, 8.59, 9.8…\n",
      "$ TrackerDistance          \u001b[3m\u001b[90m<dbl>\u001b[39m\u001b[23m 8.50, 6.97, 6.74, 6.28, 8.16, 6.48, 8.59, 9.8…\n",
      "$ LoggedActivitiesDistance \u001b[3m\u001b[90m<dbl>\u001b[39m\u001b[23m 0, 0, 0, 0, 0, 0, 0, 0, 0, 0, 0, 0, 0, 0, 0, …\n",
      "$ VeryActiveDistance       \u001b[3m\u001b[90m<dbl>\u001b[39m\u001b[23m 1.88, 1.57, 2.44, 2.14, 2.71, 3.19, 3.25, 3.5…\n",
      "$ ModeratelyActiveDistance \u001b[3m\u001b[90m<dbl>\u001b[39m\u001b[23m 0.55, 0.69, 0.40, 1.26, 0.41, 0.78, 0.64, 1.3…\n",
      "$ LightActiveDistance      \u001b[3m\u001b[90m<dbl>\u001b[39m\u001b[23m 6.06, 4.71, 3.91, 2.83, 5.04, 2.51, 4.71, 5.0…\n",
      "$ SedentaryActiveDistance  \u001b[3m\u001b[90m<dbl>\u001b[39m\u001b[23m 0, 0, 0, 0, 0, 0, 0, 0, 0, 0, 0, 0, 0, 0, 0, …\n",
      "$ VeryActiveMinutes        \u001b[3m\u001b[90m<int>\u001b[39m\u001b[23m 25, 21, 30, 29, 36, 38, 42, 50, 28, 19, 66, 4…\n",
      "$ FairlyActiveMinutes      \u001b[3m\u001b[90m<int>\u001b[39m\u001b[23m 13, 19, 11, 34, 10, 20, 16, 31, 12, 8, 27, 21…\n",
      "$ LightlyActiveMinutes     \u001b[3m\u001b[90m<int>\u001b[39m\u001b[23m 328, 217, 181, 209, 221, 164, 233, 264, 205, …\n",
      "$ SedentaryMinutes         \u001b[3m\u001b[90m<int>\u001b[39m\u001b[23m 728, 776, 1218, 726, 773, 539, 1149, 775, 818…\n",
      "$ Calories                 \u001b[3m\u001b[90m<int>\u001b[39m\u001b[23m 1985, 1797, 1776, 1745, 1863, 1728, 1921, 203…\n",
      "$ TotalMinutesWorn         \u001b[3m\u001b[90m<int>\u001b[39m\u001b[23m 1094, 1033, 1440, 998, 1040, 761, 1440, 1120,…\n",
      "$ TotalDuration            \u001b[3m\u001b[90m<Period>\u001b[39m\u001b[23m 18H 14M 0S, 17H 13M 0S, 1d 0H 0M 0S, 16H 3…\n"
     ]
    }
   ],
   "source": [
    "#merging cumulative_days df with daily_activity_weekdays df\n",
    "daily_activity_cum_days <- merge(cumulative_days, daily_activity_weekdays, by = \"Id\")\n",
    "head(daily_activity_cum_days)\n",
    "glimpse(daily_activity_cum_days)"
   ]
  },
  {
   "cell_type": "markdown",
   "id": "b9e36cee",
   "metadata": {
    "papermill": {
     "duration": 0.022425,
     "end_time": "2023-03-27T13:09:51.147313",
     "exception": false,
     "start_time": "2023-03-27T13:09:51.124888",
     "status": "completed"
    },
    "tags": []
   },
   "source": [
    "#### Exploring in terms of percentage how often the fitness trackers are used"
   ]
  },
  {
   "cell_type": "code",
   "execution_count": 24,
   "id": "10b89125",
   "metadata": {
    "execution": {
     "iopub.execute_input": "2023-03-27T13:09:51.197466Z",
     "iopub.status.busy": "2023-03-27T13:09:51.195664Z",
     "iopub.status.idle": "2023-03-27T13:09:51.250671Z",
     "shell.execute_reply": "2023-03-27T13:09:51.248906Z"
    },
    "papermill": {
     "duration": 0.083069,
     "end_time": "2023-03-27T13:09:51.253103",
     "exception": false,
     "start_time": "2023-03-27T13:09:51.170034",
     "status": "completed"
    },
    "tags": []
   },
   "outputs": [
    {
     "data": {
      "text/html": [
       "<table class=\"dataframe\">\n",
       "<caption>A tibble: 3 × 3</caption>\n",
       "<thead>\n",
       "\t<tr><th scope=col>frequency</th><th scope=col>cum_id</th><th scope=col>percent_freq</th></tr>\n",
       "\t<tr><th scope=col>&lt;fct&gt;</th><th scope=col>&lt;int&gt;</th><th scope=col>&lt;chr&gt;</th></tr>\n",
       "</thead>\n",
       "<tbody>\n",
       "\t<tr><td>low usage    </td><td> 1</td><td>3.0% </td></tr>\n",
       "\t<tr><td>average usage</td><td> 3</td><td>9.1% </td></tr>\n",
       "\t<tr><td>high usage   </td><td>29</td><td>87.9%</td></tr>\n",
       "</tbody>\n",
       "</table>\n"
      ],
      "text/latex": [
       "A tibble: 3 × 3\n",
       "\\begin{tabular}{lll}\n",
       " frequency & cum\\_id & percent\\_freq\\\\\n",
       " <fct> & <int> & <chr>\\\\\n",
       "\\hline\n",
       "\t low usage     &  1 & 3.0\\% \\\\\n",
       "\t average usage &  3 & 9.1\\% \\\\\n",
       "\t high usage    & 29 & 87.9\\%\\\\\n",
       "\\end{tabular}\n"
      ],
      "text/markdown": [
       "\n",
       "A tibble: 3 × 3\n",
       "\n",
       "| frequency &lt;fct&gt; | cum_id &lt;int&gt; | percent_freq &lt;chr&gt; |\n",
       "|---|---|---|\n",
       "| low usage     |  1 | 3.0%  |\n",
       "| average usage |  3 | 9.1%  |\n",
       "| high usage    | 29 | 87.9% |\n",
       "\n"
      ],
      "text/plain": [
       "  frequency     cum_id percent_freq\n",
       "1 low usage      1     3.0%        \n",
       "2 average usage  3     9.1%        \n",
       "3 high usage    29     87.9%       "
      ]
     },
     "metadata": {},
     "output_type": "display_data"
    }
   ],
   "source": [
    "#Exploring in terms of percentage how often the fitness trackers are used\n",
    "percent_usage <- cumulative_days %>% \n",
    "group_by(frequency) %>% \n",
    "summarize(cum_id = n_distinct(Id)) %>% \n",
    "mutate(percent_freq = cum_id/sum(cum_id)) %>% \n",
    "arrange(percent_freq) %>%\n",
    "mutate(percent_freq = scales::percent(percent_freq))\n",
    "head(percent_usage)"
   ]
  },
  {
   "cell_type": "markdown",
   "id": "e07244a0",
   "metadata": {
    "papermill": {
     "duration": 0.022653,
     "end_time": "2023-03-27T13:09:51.298492",
     "exception": false,
     "start_time": "2023-03-27T13:09:51.275839",
     "status": "completed"
    },
    "tags": []
   },
   "source": [
    "#### Visualizing the frequency distribution, in percentage, of how often the FitBit trackers are worn using a bar graph and a pie chart"
   ]
  },
  {
   "cell_type": "code",
   "execution_count": 25,
   "id": "6f7f86be",
   "metadata": {
    "execution": {
     "iopub.execute_input": "2023-03-27T13:09:51.347610Z",
     "iopub.status.busy": "2023-03-27T13:09:51.346060Z",
     "iopub.status.idle": "2023-03-27T13:09:51.940565Z",
     "shell.execute_reply": "2023-03-27T13:09:51.938724Z"
    },
    "papermill": {
     "duration": 0.621636,
     "end_time": "2023-03-27T13:09:51.942894",
     "exception": false,
     "start_time": "2023-03-27T13:09:51.321258",
     "status": "completed"
    },
    "tags": []
   },
   "outputs": [
    {
     "data": {
      "image/png": "[encoded data removed]"
     },
     "metadata": {
      "image/png": {
       "height": 420,
       "width": 420
      }
     },
     "output_type": "display_data"
    }
   ],
   "source": [
    "ggplot(data = percent_usage, mapping=aes(x=frequency, y=cum_id)) +\n",
    "geom_col(fill = 'steelblue')"
   ]
  },
  {
   "cell_type": "code",
   "execution_count": 26,
   "id": "0da4c2d5",
   "metadata": {
    "execution": {
     "iopub.execute_input": "2023-03-27T13:09:51.992547Z",
     "iopub.status.busy": "2023-03-27T13:09:51.991055Z",
     "iopub.status.idle": "2023-03-27T13:09:52.441772Z",
     "shell.execute_reply": "2023-03-27T13:09:52.440000Z"
    },
    "papermill": {
     "duration": 0.478117,
     "end_time": "2023-03-27T13:09:52.444379",
     "exception": false,
     "start_time": "2023-03-27T13:09:51.966262",
     "status": "completed"
    },
    "tags": []
   },
   "outputs": [
    {
     "data": {
      "image/png": "[encoded data removed]"
     },
     "metadata": {
      "image/png": {
       "height": 420,
       "width": 420
      }
     },
     "output_type": "display_data"
    }
   ],
   "source": [
    "#plot pie chart for distribution for different types of users\n",
    "ggplot(percent_usage,aes(fill=frequency ,y = cum_id, x=\"\")) +\n",
    "  geom_bar(stat=\"identity\", width=1, color=\"white\") +\n",
    "  coord_polar(\"y\", start=0)+\n",
    "  scale_fill_brewer(palette='Accent')+\n",
    "  theme_void()+\n",
    "  theme(axis.title.x= element_blank(),\n",
    "        axis.title.y = element_blank(),\n",
    "        panel.border = element_blank(), \n",
    "        panel.grid = element_blank(), \n",
    "        axis.ticks = element_blank(),\n",
    "        axis.text.x = element_blank(),\n",
    "        plot.title = element_text(hjust = 0.5,vjust= -5, size = 20, face = \"bold\")) +\n",
    "  geom_text(aes(label = percent_freq, x=1.2),position = position_stack(vjust = 0.5))+\n",
    "  labs(title=\"Percentage use of the fitbit fitness tracker\")+\n",
    "  guides(fill = guide_legend(title = \"Usage levels\"))\n",
    "  options(repr.plot.width = 1, repr.plot.height = 1)"
   ]
  },
  {
   "cell_type": "markdown",
   "id": "2118089d",
   "metadata": {
    "papermill": {
     "duration": 0.024377,
     "end_time": "2023-03-27T13:09:52.493742",
     "exception": false,
     "start_time": "2023-03-27T13:09:52.469365",
     "status": "completed"
    },
    "tags": []
   },
   "source": [
    "## Steps Walked"
   ]
  },
  {
   "cell_type": "markdown",
   "id": "4397720c",
   "metadata": {
    "papermill": {
     "duration": 0.024857,
     "end_time": "2023-03-27T13:09:52.543438",
     "exception": false,
     "start_time": "2023-03-27T13:09:52.518581",
     "status": "completed"
    },
    "tags": []
   },
   "source": [
    "####  Finding out the average number of steps walked per day of the week\n",
    "Merging the sleep data frame with the daily_activity data frame"
   ]
  },
  {
   "cell_type": "code",
   "execution_count": 27,
   "id": "0aadd867",
   "metadata": {
    "execution": {
     "iopub.execute_input": "2023-03-27T13:09:52.595530Z",
     "iopub.status.busy": "2023-03-27T13:09:52.593947Z",
     "iopub.status.idle": "2023-03-27T13:09:52.660786Z",
     "shell.execute_reply": "2023-03-27T13:09:52.658512Z"
    },
    "papermill": {
     "duration": 0.095761,
     "end_time": "2023-03-27T13:09:52.663842",
     "exception": false,
     "start_time": "2023-03-27T13:09:52.568081",
     "status": "completed"
    },
    "tags": []
   },
   "outputs": [
    {
     "data": {
      "text/html": [
       "<table class=\"dataframe\">\n",
       "<caption>A data.frame: 6 × 18</caption>\n",
       "<thead>\n",
       "\t<tr><th></th><th scope=col>Id</th><th scope=col>Date</th><th scope=col>TotalSteps</th><th scope=col>TotalDistance</th><th scope=col>TrackerDistance</th><th scope=col>LoggedActivitiesDistance</th><th scope=col>VeryActiveDistance</th><th scope=col>ModeratelyActiveDistance</th><th scope=col>LightActiveDistance</th><th scope=col>SedentaryActiveDistance</th><th scope=col>VeryActiveMinutes</th><th scope=col>FairlyActiveMinutes</th><th scope=col>LightlyActiveMinutes</th><th scope=col>SedentaryMinutes</th><th scope=col>Calories</th><th scope=col>TotalSleepRecords</th><th scope=col>TotalMinutesAsleep</th><th scope=col>TotalTimeInBed</th></tr>\n",
       "\t<tr><th></th><th scope=col>&lt;dbl&gt;</th><th scope=col>&lt;date&gt;</th><th scope=col>&lt;int&gt;</th><th scope=col>&lt;dbl&gt;</th><th scope=col>&lt;dbl&gt;</th><th scope=col>&lt;dbl&gt;</th><th scope=col>&lt;dbl&gt;</th><th scope=col>&lt;dbl&gt;</th><th scope=col>&lt;dbl&gt;</th><th scope=col>&lt;dbl&gt;</th><th scope=col>&lt;int&gt;</th><th scope=col>&lt;int&gt;</th><th scope=col>&lt;int&gt;</th><th scope=col>&lt;int&gt;</th><th scope=col>&lt;int&gt;</th><th scope=col>&lt;int&gt;</th><th scope=col>&lt;int&gt;</th><th scope=col>&lt;int&gt;</th></tr>\n",
       "</thead>\n",
       "<tbody>\n",
       "\t<tr><th scope=row>1</th><td>1503960366</td><td>2016-04-12</td><td>13162</td><td>8.50</td><td>8.50</td><td>0</td><td>1.88</td><td>0.55</td><td>6.06</td><td>0</td><td>25</td><td>13</td><td>328</td><td>728</td><td>1985</td><td>1</td><td>327</td><td>346</td></tr>\n",
       "\t<tr><th scope=row>2</th><td>1503960366</td><td>2016-04-13</td><td>10735</td><td>6.97</td><td>6.97</td><td>0</td><td>1.57</td><td>0.69</td><td>4.71</td><td>0</td><td>21</td><td>19</td><td>217</td><td>776</td><td>1797</td><td>2</td><td>384</td><td>407</td></tr>\n",
       "\t<tr><th scope=row>3</th><td>1503960366</td><td>2016-04-15</td><td> 9762</td><td>6.28</td><td>6.28</td><td>0</td><td>2.14</td><td>1.26</td><td>2.83</td><td>0</td><td>29</td><td>34</td><td>209</td><td>726</td><td>1745</td><td>1</td><td>412</td><td>442</td></tr>\n",
       "\t<tr><th scope=row>4</th><td>1503960366</td><td>2016-04-16</td><td>12669</td><td>8.16</td><td>8.16</td><td>0</td><td>2.71</td><td>0.41</td><td>5.04</td><td>0</td><td>36</td><td>10</td><td>221</td><td>773</td><td>1863</td><td>2</td><td>340</td><td>367</td></tr>\n",
       "\t<tr><th scope=row>5</th><td>1503960366</td><td>2016-04-17</td><td> 9705</td><td>6.48</td><td>6.48</td><td>0</td><td>3.19</td><td>0.78</td><td>2.51</td><td>0</td><td>38</td><td>20</td><td>164</td><td>539</td><td>1728</td><td>1</td><td>700</td><td>712</td></tr>\n",
       "\t<tr><th scope=row>6</th><td>1503960366</td><td>2016-04-19</td><td>15506</td><td>9.88</td><td>9.88</td><td>0</td><td>3.53</td><td>1.32</td><td>5.03</td><td>0</td><td>50</td><td>31</td><td>264</td><td>775</td><td>2035</td><td>1</td><td>304</td><td>320</td></tr>\n",
       "</tbody>\n",
       "</table>\n"
      ],
      "text/latex": [
       "A data.frame: 6 × 18\n",
       "\\begin{tabular}{r|llllllllllllllllll}\n",
       "  & Id & Date & TotalSteps & TotalDistance & TrackerDistance & LoggedActivitiesDistance & VeryActiveDistance & ModeratelyActiveDistance & LightActiveDistance & SedentaryActiveDistance & VeryActiveMinutes & FairlyActiveMinutes & LightlyActiveMinutes & SedentaryMinutes & Calories & TotalSleepRecords & TotalMinutesAsleep & TotalTimeInBed\\\\\n",
       "  & <dbl> & <date> & <int> & <dbl> & <dbl> & <dbl> & <dbl> & <dbl> & <dbl> & <dbl> & <int> & <int> & <int> & <int> & <int> & <int> & <int> & <int>\\\\\n",
       "\\hline\n",
       "\t1 & 1503960366 & 2016-04-12 & 13162 & 8.50 & 8.50 & 0 & 1.88 & 0.55 & 6.06 & 0 & 25 & 13 & 328 & 728 & 1985 & 1 & 327 & 346\\\\\n",
       "\t2 & 1503960366 & 2016-04-13 & 10735 & 6.97 & 6.97 & 0 & 1.57 & 0.69 & 4.71 & 0 & 21 & 19 & 217 & 776 & 1797 & 2 & 384 & 407\\\\\n",
       "\t3 & 1503960366 & 2016-04-15 &  9762 & 6.28 & 6.28 & 0 & 2.14 & 1.26 & 2.83 & 0 & 29 & 34 & 209 & 726 & 1745 & 1 & 412 & 442\\\\\n",
       "\t4 & 1503960366 & 2016-04-16 & 12669 & 8.16 & 8.16 & 0 & 2.71 & 0.41 & 5.04 & 0 & 36 & 10 & 221 & 773 & 1863 & 2 & 340 & 367\\\\\n",
       "\t5 & 1503960366 & 2016-04-17 &  9705 & 6.48 & 6.48 & 0 & 3.19 & 0.78 & 2.51 & 0 & 38 & 20 & 164 & 539 & 1728 & 1 & 700 & 712\\\\\n",
       "\t6 & 1503960366 & 2016-04-19 & 15506 & 9.88 & 9.88 & 0 & 3.53 & 1.32 & 5.03 & 0 & 50 & 31 & 264 & 775 & 2035 & 1 & 304 & 320\\\\\n",
       "\\end{tabular}\n"
      ],
      "text/markdown": [
       "\n",
       "A data.frame: 6 × 18\n",
       "\n",
       "| <!--/--> | Id &lt;dbl&gt; | Date &lt;date&gt; | TotalSteps &lt;int&gt; | TotalDistance &lt;dbl&gt; | TrackerDistance &lt;dbl&gt; | LoggedActivitiesDistance &lt;dbl&gt; | VeryActiveDistance &lt;dbl&gt; | ModeratelyActiveDistance &lt;dbl&gt; | LightActiveDistance &lt;dbl&gt; | SedentaryActiveDistance &lt;dbl&gt; | VeryActiveMinutes &lt;int&gt; | FairlyActiveMinutes &lt;int&gt; | LightlyActiveMinutes &lt;int&gt; | SedentaryMinutes &lt;int&gt; | Calories &lt;int&gt; | TotalSleepRecords &lt;int&gt; | TotalMinutesAsleep &lt;int&gt; | TotalTimeInBed &lt;int&gt; |\n",
       "|---|---|---|---|---|---|---|---|---|---|---|---|---|---|---|---|---|---|---|\n",
       "| 1 | 1503960366 | 2016-04-12 | 13162 | 8.50 | 8.50 | 0 | 1.88 | 0.55 | 6.06 | 0 | 25 | 13 | 328 | 728 | 1985 | 1 | 327 | 346 |\n",
       "| 2 | 1503960366 | 2016-04-13 | 10735 | 6.97 | 6.97 | 0 | 1.57 | 0.69 | 4.71 | 0 | 21 | 19 | 217 | 776 | 1797 | 2 | 384 | 407 |\n",
       "| 3 | 1503960366 | 2016-04-15 |  9762 | 6.28 | 6.28 | 0 | 2.14 | 1.26 | 2.83 | 0 | 29 | 34 | 209 | 726 | 1745 | 1 | 412 | 442 |\n",
       "| 4 | 1503960366 | 2016-04-16 | 12669 | 8.16 | 8.16 | 0 | 2.71 | 0.41 | 5.04 | 0 | 36 | 10 | 221 | 773 | 1863 | 2 | 340 | 367 |\n",
       "| 5 | 1503960366 | 2016-04-17 |  9705 | 6.48 | 6.48 | 0 | 3.19 | 0.78 | 2.51 | 0 | 38 | 20 | 164 | 539 | 1728 | 1 | 700 | 712 |\n",
       "| 6 | 1503960366 | 2016-04-19 | 15506 | 9.88 | 9.88 | 0 | 3.53 | 1.32 | 5.03 | 0 | 50 | 31 | 264 | 775 | 2035 | 1 | 304 | 320 |\n",
       "\n"
      ],
      "text/plain": [
       "  Id         Date       TotalSteps TotalDistance TrackerDistance\n",
       "1 1503960366 2016-04-12 13162      8.50          8.50           \n",
       "2 1503960366 2016-04-13 10735      6.97          6.97           \n",
       "3 1503960366 2016-04-15  9762      6.28          6.28           \n",
       "4 1503960366 2016-04-16 12669      8.16          8.16           \n",
       "5 1503960366 2016-04-17  9705      6.48          6.48           \n",
       "6 1503960366 2016-04-19 15506      9.88          9.88           \n",
       "  LoggedActivitiesDistance VeryActiveDistance ModeratelyActiveDistance\n",
       "1 0                        1.88               0.55                    \n",
       "2 0                        1.57               0.69                    \n",
       "3 0                        2.14               1.26                    \n",
       "4 0                        2.71               0.41                    \n",
       "5 0                        3.19               0.78                    \n",
       "6 0                        3.53               1.32                    \n",
       "  LightActiveDistance SedentaryActiveDistance VeryActiveMinutes\n",
       "1 6.06                0                       25               \n",
       "2 4.71                0                       21               \n",
       "3 2.83                0                       29               \n",
       "4 5.04                0                       36               \n",
       "5 2.51                0                       38               \n",
       "6 5.03                0                       50               \n",
       "  FairlyActiveMinutes LightlyActiveMinutes SedentaryMinutes Calories\n",
       "1 13                  328                  728              1985    \n",
       "2 19                  217                  776              1797    \n",
       "3 34                  209                  726              1745    \n",
       "4 10                  221                  773              1863    \n",
       "5 20                  164                  539              1728    \n",
       "6 31                  264                  775              2035    \n",
       "  TotalSleepRecords TotalMinutesAsleep TotalTimeInBed\n",
       "1 1                 327                346           \n",
       "2 2                 384                407           \n",
       "3 1                 412                442           \n",
       "4 2                 340                367           \n",
       "5 1                 700                712           \n",
       "6 1                 304                320           "
      ]
     },
     "metadata": {},
     "output_type": "display_data"
    },
    {
     "name": "stdout",
     "output_type": "stream",
     "text": [
      "Rows: 413\n",
      "Columns: 18\n",
      "$ Id                       \u001b[3m\u001b[90m<dbl>\u001b[39m\u001b[23m 1503960366, 1503960366, 1503960366, 150396036…\n",
      "$ Date                     \u001b[3m\u001b[90m<date>\u001b[39m\u001b[23m 2016-04-12, 2016-04-13, 2016-04-15, 2016-04-…\n",
      "$ TotalSteps               \u001b[3m\u001b[90m<int>\u001b[39m\u001b[23m 13162, 10735, 9762, 12669, 9705, 15506, 10544…\n",
      "$ TotalDistance            \u001b[3m\u001b[90m<dbl>\u001b[39m\u001b[23m 8.50, 6.97, 6.28, 8.16, 6.48, 9.88, 6.68, 6.3…\n",
      "$ TrackerDistance          \u001b[3m\u001b[90m<dbl>\u001b[39m\u001b[23m 8.50, 6.97, 6.28, 8.16, 6.48, 9.88, 6.68, 6.3…\n",
      "$ LoggedActivitiesDistance \u001b[3m\u001b[90m<dbl>\u001b[39m\u001b[23m 0, 0, 0, 0, 0, 0, 0, 0, 0, 0, 0, 0, 0, 0, 0, …\n",
      "$ VeryActiveDistance       \u001b[3m\u001b[90m<dbl>\u001b[39m\u001b[23m 1.88, 1.57, 2.14, 2.71, 3.19, 3.53, 1.96, 1.3…\n",
      "$ ModeratelyActiveDistance \u001b[3m\u001b[90m<dbl>\u001b[39m\u001b[23m 0.55, 0.69, 1.26, 0.41, 0.78, 1.32, 0.48, 0.3…\n",
      "$ LightActiveDistance      \u001b[3m\u001b[90m<dbl>\u001b[39m\u001b[23m 6.06, 4.71, 2.83, 5.04, 2.51, 5.03, 4.24, 4.6…\n",
      "$ SedentaryActiveDistance  \u001b[3m\u001b[90m<dbl>\u001b[39m\u001b[23m 0, 0, 0, 0, 0, 0, 0, 0, 0, 0, 0, 0, 0, 0, 0, …\n",
      "$ VeryActiveMinutes        \u001b[3m\u001b[90m<int>\u001b[39m\u001b[23m 25, 21, 29, 36, 38, 50, 28, 19, 41, 39, 73, 3…\n",
      "$ FairlyActiveMinutes      \u001b[3m\u001b[90m<int>\u001b[39m\u001b[23m 13, 19, 34, 10, 20, 31, 12, 8, 21, 5, 14, 23,…\n",
      "$ LightlyActiveMinutes     \u001b[3m\u001b[90m<int>\u001b[39m\u001b[23m 328, 217, 209, 221, 164, 264, 205, 211, 262, …\n",
      "$ SedentaryMinutes         \u001b[3m\u001b[90m<int>\u001b[39m\u001b[23m 728, 776, 726, 773, 539, 775, 818, 838, 732, …\n",
      "$ Calories                 \u001b[3m\u001b[90m<int>\u001b[39m\u001b[23m 1985, 1797, 1745, 1863, 1728, 2035, 1786, 177…\n",
      "$ TotalSleepRecords        \u001b[3m\u001b[90m<int>\u001b[39m\u001b[23m 1, 2, 1, 2, 1, 1, 1, 1, 1, 1, 1, 1, 1, 1, 1, …\n",
      "$ TotalMinutesAsleep       \u001b[3m\u001b[90m<int>\u001b[39m\u001b[23m 327, 384, 412, 340, 700, 304, 360, 325, 361, …\n",
      "$ TotalTimeInBed           \u001b[3m\u001b[90m<int>\u001b[39m\u001b[23m 346, 407, 442, 367, 712, 320, 377, 364, 384, …\n"
     ]
    }
   ],
   "source": [
    "#rename daily_activity$ActivityDate to Date for merging compatibility with the sleep df\n",
    "daily_activity2 <- daily_activity %>% rename(Date = ActivityDate)\n",
    "daily_activity_sleep <- merge(daily_activity2, new_sleep, by = c(\"Id\", \"Date\"))\n",
    "head(daily_activity_sleep)\n",
    "glimpse(daily_activity_sleep)"
   ]
  },
  {
   "cell_type": "markdown",
   "id": "2f6486a0",
   "metadata": {
    "papermill": {
     "duration": 0.025527,
     "end_time": "2023-03-27T13:09:52.713617",
     "exception": false,
     "start_time": "2023-03-27T13:09:52.688090",
     "status": "completed"
    },
    "tags": []
   },
   "source": [
    "Adding the weekday column to the merged data frame and then rearranging the columns so that the 'weekday column' becomes the third column"
   ]
  },
  {
   "cell_type": "code",
   "execution_count": 28,
   "id": "b68ecbf7",
   "metadata": {
    "execution": {
     "iopub.execute_input": "2023-03-27T13:09:52.766301Z",
     "iopub.status.busy": "2023-03-27T13:09:52.764755Z",
     "iopub.status.idle": "2023-03-27T13:09:52.814893Z",
     "shell.execute_reply": "2023-03-27T13:09:52.813065Z"
    },
    "papermill": {
     "duration": 0.079024,
     "end_time": "2023-03-27T13:09:52.817402",
     "exception": false,
     "start_time": "2023-03-27T13:09:52.738378",
     "status": "completed"
    },
    "tags": []
   },
   "outputs": [
    {
     "data": {
      "text/html": [
       "<table class=\"dataframe\">\n",
       "<caption>A data.frame: 6 × 19</caption>\n",
       "<thead>\n",
       "\t<tr><th></th><th scope=col>Id</th><th scope=col>Date</th><th scope=col>Weekday</th><th scope=col>TotalSteps</th><th scope=col>TotalDistance</th><th scope=col>TrackerDistance</th><th scope=col>LoggedActivitiesDistance</th><th scope=col>VeryActiveDistance</th><th scope=col>ModeratelyActiveDistance</th><th scope=col>LightActiveDistance</th><th scope=col>SedentaryActiveDistance</th><th scope=col>VeryActiveMinutes</th><th scope=col>FairlyActiveMinutes</th><th scope=col>LightlyActiveMinutes</th><th scope=col>SedentaryMinutes</th><th scope=col>Calories</th><th scope=col>TotalSleepRecords</th><th scope=col>TotalMinutesAsleep</th><th scope=col>TotalTimeInBed</th></tr>\n",
       "\t<tr><th></th><th scope=col>&lt;dbl&gt;</th><th scope=col>&lt;date&gt;</th><th scope=col>&lt;ord&gt;</th><th scope=col>&lt;int&gt;</th><th scope=col>&lt;dbl&gt;</th><th scope=col>&lt;dbl&gt;</th><th scope=col>&lt;dbl&gt;</th><th scope=col>&lt;dbl&gt;</th><th scope=col>&lt;dbl&gt;</th><th scope=col>&lt;dbl&gt;</th><th scope=col>&lt;dbl&gt;</th><th scope=col>&lt;int&gt;</th><th scope=col>&lt;int&gt;</th><th scope=col>&lt;int&gt;</th><th scope=col>&lt;int&gt;</th><th scope=col>&lt;int&gt;</th><th scope=col>&lt;int&gt;</th><th scope=col>&lt;int&gt;</th><th scope=col>&lt;int&gt;</th></tr>\n",
       "</thead>\n",
       "<tbody>\n",
       "\t<tr><th scope=row>1</th><td>1503960366</td><td>2016-04-12</td><td>Tuesday  </td><td>13162</td><td>8.50</td><td>8.50</td><td>0</td><td>1.88</td><td>0.55</td><td>6.06</td><td>0</td><td>25</td><td>13</td><td>328</td><td>728</td><td>1985</td><td>1</td><td>327</td><td>346</td></tr>\n",
       "\t<tr><th scope=row>2</th><td>1503960366</td><td>2016-04-13</td><td>Wednesday</td><td>10735</td><td>6.97</td><td>6.97</td><td>0</td><td>1.57</td><td>0.69</td><td>4.71</td><td>0</td><td>21</td><td>19</td><td>217</td><td>776</td><td>1797</td><td>2</td><td>384</td><td>407</td></tr>\n",
       "\t<tr><th scope=row>3</th><td>1503960366</td><td>2016-04-15</td><td>Friday   </td><td> 9762</td><td>6.28</td><td>6.28</td><td>0</td><td>2.14</td><td>1.26</td><td>2.83</td><td>0</td><td>29</td><td>34</td><td>209</td><td>726</td><td>1745</td><td>1</td><td>412</td><td>442</td></tr>\n",
       "\t<tr><th scope=row>4</th><td>1503960366</td><td>2016-04-16</td><td>Saturday </td><td>12669</td><td>8.16</td><td>8.16</td><td>0</td><td>2.71</td><td>0.41</td><td>5.04</td><td>0</td><td>36</td><td>10</td><td>221</td><td>773</td><td>1863</td><td>2</td><td>340</td><td>367</td></tr>\n",
       "\t<tr><th scope=row>5</th><td>1503960366</td><td>2016-04-17</td><td>Sunday   </td><td> 9705</td><td>6.48</td><td>6.48</td><td>0</td><td>3.19</td><td>0.78</td><td>2.51</td><td>0</td><td>38</td><td>20</td><td>164</td><td>539</td><td>1728</td><td>1</td><td>700</td><td>712</td></tr>\n",
       "\t<tr><th scope=row>6</th><td>1503960366</td><td>2016-04-19</td><td>Tuesday  </td><td>15506</td><td>9.88</td><td>9.88</td><td>0</td><td>3.53</td><td>1.32</td><td>5.03</td><td>0</td><td>50</td><td>31</td><td>264</td><td>775</td><td>2035</td><td>1</td><td>304</td><td>320</td></tr>\n",
       "</tbody>\n",
       "</table>\n"
      ],
      "text/latex": [
       "A data.frame: 6 × 19\n",
       "\\begin{tabular}{r|lllllllllllllllllll}\n",
       "  & Id & Date & Weekday & TotalSteps & TotalDistance & TrackerDistance & LoggedActivitiesDistance & VeryActiveDistance & ModeratelyActiveDistance & LightActiveDistance & SedentaryActiveDistance & VeryActiveMinutes & FairlyActiveMinutes & LightlyActiveMinutes & SedentaryMinutes & Calories & TotalSleepRecords & TotalMinutesAsleep & TotalTimeInBed\\\\\n",
       "  & <dbl> & <date> & <ord> & <int> & <dbl> & <dbl> & <dbl> & <dbl> & <dbl> & <dbl> & <dbl> & <int> & <int> & <int> & <int> & <int> & <int> & <int> & <int>\\\\\n",
       "\\hline\n",
       "\t1 & 1503960366 & 2016-04-12 & Tuesday   & 13162 & 8.50 & 8.50 & 0 & 1.88 & 0.55 & 6.06 & 0 & 25 & 13 & 328 & 728 & 1985 & 1 & 327 & 346\\\\\n",
       "\t2 & 1503960366 & 2016-04-13 & Wednesday & 10735 & 6.97 & 6.97 & 0 & 1.57 & 0.69 & 4.71 & 0 & 21 & 19 & 217 & 776 & 1797 & 2 & 384 & 407\\\\\n",
       "\t3 & 1503960366 & 2016-04-15 & Friday    &  9762 & 6.28 & 6.28 & 0 & 2.14 & 1.26 & 2.83 & 0 & 29 & 34 & 209 & 726 & 1745 & 1 & 412 & 442\\\\\n",
       "\t4 & 1503960366 & 2016-04-16 & Saturday  & 12669 & 8.16 & 8.16 & 0 & 2.71 & 0.41 & 5.04 & 0 & 36 & 10 & 221 & 773 & 1863 & 2 & 340 & 367\\\\\n",
       "\t5 & 1503960366 & 2016-04-17 & Sunday    &  9705 & 6.48 & 6.48 & 0 & 3.19 & 0.78 & 2.51 & 0 & 38 & 20 & 164 & 539 & 1728 & 1 & 700 & 712\\\\\n",
       "\t6 & 1503960366 & 2016-04-19 & Tuesday   & 15506 & 9.88 & 9.88 & 0 & 3.53 & 1.32 & 5.03 & 0 & 50 & 31 & 264 & 775 & 2035 & 1 & 304 & 320\\\\\n",
       "\\end{tabular}\n"
      ],
      "text/markdown": [
       "\n",
       "A data.frame: 6 × 19\n",
       "\n",
       "| <!--/--> | Id &lt;dbl&gt; | Date &lt;date&gt; | Weekday &lt;ord&gt; | TotalSteps &lt;int&gt; | TotalDistance &lt;dbl&gt; | TrackerDistance &lt;dbl&gt; | LoggedActivitiesDistance &lt;dbl&gt; | VeryActiveDistance &lt;dbl&gt; | ModeratelyActiveDistance &lt;dbl&gt; | LightActiveDistance &lt;dbl&gt; | SedentaryActiveDistance &lt;dbl&gt; | VeryActiveMinutes &lt;int&gt; | FairlyActiveMinutes &lt;int&gt; | LightlyActiveMinutes &lt;int&gt; | SedentaryMinutes &lt;int&gt; | Calories &lt;int&gt; | TotalSleepRecords &lt;int&gt; | TotalMinutesAsleep &lt;int&gt; | TotalTimeInBed &lt;int&gt; |\n",
       "|---|---|---|---|---|---|---|---|---|---|---|---|---|---|---|---|---|---|---|---|\n",
       "| 1 | 1503960366 | 2016-04-12 | Tuesday   | 13162 | 8.50 | 8.50 | 0 | 1.88 | 0.55 | 6.06 | 0 | 25 | 13 | 328 | 728 | 1985 | 1 | 327 | 346 |\n",
       "| 2 | 1503960366 | 2016-04-13 | Wednesday | 10735 | 6.97 | 6.97 | 0 | 1.57 | 0.69 | 4.71 | 0 | 21 | 19 | 217 | 776 | 1797 | 2 | 384 | 407 |\n",
       "| 3 | 1503960366 | 2016-04-15 | Friday    |  9762 | 6.28 | 6.28 | 0 | 2.14 | 1.26 | 2.83 | 0 | 29 | 34 | 209 | 726 | 1745 | 1 | 412 | 442 |\n",
       "| 4 | 1503960366 | 2016-04-16 | Saturday  | 12669 | 8.16 | 8.16 | 0 | 2.71 | 0.41 | 5.04 | 0 | 36 | 10 | 221 | 773 | 1863 | 2 | 340 | 367 |\n",
       "| 5 | 1503960366 | 2016-04-17 | Sunday    |  9705 | 6.48 | 6.48 | 0 | 3.19 | 0.78 | 2.51 | 0 | 38 | 20 | 164 | 539 | 1728 | 1 | 700 | 712 |\n",
       "| 6 | 1503960366 | 2016-04-19 | Tuesday   | 15506 | 9.88 | 9.88 | 0 | 3.53 | 1.32 | 5.03 | 0 | 50 | 31 | 264 | 775 | 2035 | 1 | 304 | 320 |\n",
       "\n"
      ],
      "text/plain": [
       "  Id         Date       Weekday   TotalSteps TotalDistance TrackerDistance\n",
       "1 1503960366 2016-04-12 Tuesday   13162      8.50          8.50           \n",
       "2 1503960366 2016-04-13 Wednesday 10735      6.97          6.97           \n",
       "3 1503960366 2016-04-15 Friday     9762      6.28          6.28           \n",
       "4 1503960366 2016-04-16 Saturday  12669      8.16          8.16           \n",
       "5 1503960366 2016-04-17 Sunday     9705      6.48          6.48           \n",
       "6 1503960366 2016-04-19 Tuesday   15506      9.88          9.88           \n",
       "  LoggedActivitiesDistance VeryActiveDistance ModeratelyActiveDistance\n",
       "1 0                        1.88               0.55                    \n",
       "2 0                        1.57               0.69                    \n",
       "3 0                        2.14               1.26                    \n",
       "4 0                        2.71               0.41                    \n",
       "5 0                        3.19               0.78                    \n",
       "6 0                        3.53               1.32                    \n",
       "  LightActiveDistance SedentaryActiveDistance VeryActiveMinutes\n",
       "1 6.06                0                       25               \n",
       "2 4.71                0                       21               \n",
       "3 2.83                0                       29               \n",
       "4 5.04                0                       36               \n",
       "5 2.51                0                       38               \n",
       "6 5.03                0                       50               \n",
       "  FairlyActiveMinutes LightlyActiveMinutes SedentaryMinutes Calories\n",
       "1 13                  328                  728              1985    \n",
       "2 19                  217                  776              1797    \n",
       "3 34                  209                  726              1745    \n",
       "4 10                  221                  773              1863    \n",
       "5 20                  164                  539              1728    \n",
       "6 31                  264                  775              2035    \n",
       "  TotalSleepRecords TotalMinutesAsleep TotalTimeInBed\n",
       "1 1                 327                346           \n",
       "2 2                 384                407           \n",
       "3 1                 412                442           \n",
       "4 2                 340                367           \n",
       "5 1                 700                712           \n",
       "6 1                 304                320           "
      ]
     },
     "metadata": {},
     "output_type": "display_data"
    }
   ],
   "source": [
    "#Adding the weekday column to the merged df\n",
    "weekday_steps_sleep <- daily_activity_sleep %>%\n",
    "  mutate(Weekday = weekdays(Date)) %>% \n",
    "mutate(Weekday = ordered(Weekday, levels=c(\"Monday\", \"Tuesday\", \"Wednesday\", \"Thursday\",\n",
    "\"Friday\", \"Saturday\", \"Sunday\"))) %>% select(Id, Date, Weekday, everything())\n",
    "head(weekday_steps_sleep)"
   ]
  },
  {
   "cell_type": "markdown",
   "id": "7b7e1615",
   "metadata": {
    "papermill": {
     "duration": 0.025171,
     "end_time": "2023-03-27T13:09:52.867421",
     "exception": false,
     "start_time": "2023-03-27T13:09:52.842250",
     "status": "completed"
    },
    "tags": []
   },
   "source": [
    "Working out the mean number of steps walked by the fitbit users per each day of the week."
   ]
  },
  {
   "cell_type": "code",
   "execution_count": 29,
   "id": "961d93cb",
   "metadata": {
    "execution": {
     "iopub.execute_input": "2023-03-27T13:09:52.919989Z",
     "iopub.status.busy": "2023-03-27T13:09:52.918444Z",
     "iopub.status.idle": "2023-03-27T13:09:52.951814Z",
     "shell.execute_reply": "2023-03-27T13:09:52.950081Z"
    },
    "papermill": {
     "duration": 0.062151,
     "end_time": "2023-03-27T13:09:52.954274",
     "exception": false,
     "start_time": "2023-03-27T13:09:52.892123",
     "status": "completed"
    },
    "tags": []
   },
   "outputs": [
    {
     "data": {
      "text/html": [
       "<table class=\"dataframe\">\n",
       "<caption>A tibble: 6 × 3</caption>\n",
       "<thead>\n",
       "\t<tr><th scope=col>Weekday</th><th scope=col>Avg_steps</th><th scope=col>Avg_sleep_minutes</th></tr>\n",
       "\t<tr><th scope=col>&lt;ord&gt;</th><th scope=col>&lt;dbl&gt;</th><th scope=col>&lt;dbl&gt;</th></tr>\n",
       "</thead>\n",
       "<tbody>\n",
       "\t<tr><td>Monday   </td><td>9339.851</td><td>418.8298</td></tr>\n",
       "\t<tr><td>Tuesday  </td><td>9182.692</td><td>404.5385</td></tr>\n",
       "\t<tr><td>Wednesday</td><td>8022.864</td><td>434.6818</td></tr>\n",
       "\t<tr><td>Thursday </td><td>8205.354</td><td>402.3692</td></tr>\n",
       "\t<tr><td>Friday   </td><td>7901.404</td><td>405.4211</td></tr>\n",
       "\t<tr><td>Saturday </td><td>9948.690</td><td>420.8103</td></tr>\n",
       "</tbody>\n",
       "</table>\n"
      ],
      "text/latex": [
       "A tibble: 6 × 3\n",
       "\\begin{tabular}{lll}\n",
       " Weekday & Avg\\_steps & Avg\\_sleep\\_minutes\\\\\n",
       " <ord> & <dbl> & <dbl>\\\\\n",
       "\\hline\n",
       "\t Monday    & 9339.851 & 418.8298\\\\\n",
       "\t Tuesday   & 9182.692 & 404.5385\\\\\n",
       "\t Wednesday & 8022.864 & 434.6818\\\\\n",
       "\t Thursday  & 8205.354 & 402.3692\\\\\n",
       "\t Friday    & 7901.404 & 405.4211\\\\\n",
       "\t Saturday  & 9948.690 & 420.8103\\\\\n",
       "\\end{tabular}\n"
      ],
      "text/markdown": [
       "\n",
       "A tibble: 6 × 3\n",
       "\n",
       "| Weekday &lt;ord&gt; | Avg_steps &lt;dbl&gt; | Avg_sleep_minutes &lt;dbl&gt; |\n",
       "|---|---|---|\n",
       "| Monday    | 9339.851 | 418.8298 |\n",
       "| Tuesday   | 9182.692 | 404.5385 |\n",
       "| Wednesday | 8022.864 | 434.6818 |\n",
       "| Thursday  | 8205.354 | 402.3692 |\n",
       "| Friday    | 7901.404 | 405.4211 |\n",
       "| Saturday  | 9948.690 | 420.8103 |\n",
       "\n"
      ],
      "text/plain": [
       "  Weekday   Avg_steps Avg_sleep_minutes\n",
       "1 Monday    9339.851  418.8298         \n",
       "2 Tuesday   9182.692  404.5385         \n",
       "3 Wednesday 8022.864  434.6818         \n",
       "4 Thursday  8205.354  402.3692         \n",
       "5 Friday    7901.404  405.4211         \n",
       "6 Saturday  9948.690  420.8103         "
      ]
     },
     "metadata": {},
     "output_type": "display_data"
    }
   ],
   "source": [
    "#Finding out the average number of steps walked per day of the week, and\n",
    "#Finding out the mean number of minutes slept per day of the week\n",
    " weekday_steps_sleep <- weekday_steps_sleep %>%\n",
    "  group_by(Weekday) %>%\n",
    "  summarize (Avg_steps = mean(TotalSteps), Avg_sleep_minutes = mean(TotalMinutesAsleep))\n",
    "\n",
    "head(weekday_steps_sleep)"
   ]
  },
  {
   "cell_type": "markdown",
   "id": "5f30b90f",
   "metadata": {
    "papermill": {
     "duration": 0.024542,
     "end_time": "2023-03-27T13:09:53.003517",
     "exception": false,
     "start_time": "2023-03-27T13:09:52.978975",
     "status": "completed"
    },
    "tags": []
   },
   "source": [
    "#### Visualizing the distribution of the mean TotalSteps per day of the week vs mean TotalMinutesAsleep per day of the week"
   ]
  },
  {
   "cell_type": "code",
   "execution_count": 30,
   "id": "2de9c627",
   "metadata": {
    "execution": {
     "iopub.execute_input": "2023-03-27T13:09:53.058398Z",
     "iopub.status.busy": "2023-03-27T13:09:53.056190Z",
     "iopub.status.idle": "2023-03-27T13:09:53.482490Z",
     "shell.execute_reply": "2023-03-27T13:09:53.480639Z"
    },
    "papermill": {
     "duration": 0.456562,
     "end_time": "2023-03-27T13:09:53.484979",
     "exception": false,
     "start_time": "2023-03-27T13:09:53.028417",
     "status": "completed"
    },
    "tags": []
   },
   "outputs": [
    {
     "data": {
      "text/plain": [
       "NULL"
      ]
     },
     "metadata": {},
     "output_type": "display_data"
    },
    {
     "data": {
      "image/png": "[encoded data removed]"
     },
     "metadata": {
      "image/png": {
       "height": 60,
       "width": 60
      }
     },
     "output_type": "display_data"
    },
    {
     "data": {
      "image/png": "[encoded data removed]"
     },
     "metadata": {
      "image/png": {
       "height": 60,
       "width": 60
      }
     },
     "output_type": "display_data"
    }
   ],
   "source": [
    "#Visualizing the average steps walked per day of the week\n",
    "ggplot(weekday_steps_sleep) +\n",
    "    geom_col(aes(Weekday, Avg_steps), fill = \"#D18700\") +\n",
    "    geom_hline(yintercept = 10000) +\n",
    "    annotate(\"text\", x=4, y=10200, label=\"Recommended steps per day, 10,000\")\n",
    "    labs(title = \"Steps walked per day of the week\", x= \"\", y = \"\") +\n",
    "    theme(axis.text.x = element_text(angle = 45, vjust = 0.5, hjust = 1))\n",
    "\n",
    "#Visualizing the average minutes slept per day of the week\n",
    "ggplot(weekday_steps_sleep, aes(Weekday, Avg_sleep_minutes)) +\n",
    "    geom_col(fill = \"#33ccff\") +\n",
    "    geom_hline(yintercept = 480) +\n",
    "    annotate(\"text\", x=4, y=490, label=\"Recommeded adult sleep time, 480 minutes (8hrs)\") +\n",
    "    labs(title = \"Minutes slept per day of the week\", x= \"\", y = \"\") +\n",
    "    theme(axis.text.x = element_text(angle = 45, vjust = 0.5, hjust = 1))"
   ]
  },
  {
   "cell_type": "markdown",
   "id": "c4a609d3",
   "metadata": {
    "papermill": {
     "duration": 0.026529,
     "end_time": "2023-03-27T13:09:53.537917",
     "exception": false,
     "start_time": "2023-03-27T13:09:53.511388",
     "status": "completed"
    },
    "tags": []
   },
   "source": [
    "#### Bar Graph: Exploring the average steps walked per hour in a day"
   ]
  },
  {
   "cell_type": "markdown",
   "id": "f25297a8",
   "metadata": {
    "papermill": {
     "duration": 0.025403,
     "end_time": "2023-03-27T13:09:53.589079",
     "exception": false,
     "start_time": "2023-03-27T13:09:53.563676",
     "status": "completed"
    },
    "tags": []
   },
   "source": [
    "Bar graph that will help visualize the average steps walked per hour in a day."
   ]
  },
  {
   "cell_type": "code",
   "execution_count": 31,
   "id": "27f10562",
   "metadata": {
    "execution": {
     "iopub.execute_input": "2023-03-27T13:09:53.644310Z",
     "iopub.status.busy": "2023-03-27T13:09:53.642676Z",
     "iopub.status.idle": "2023-03-27T13:09:53.922294Z",
     "shell.execute_reply": "2023-03-27T13:09:53.919380Z"
    },
    "papermill": {
     "duration": 0.310496,
     "end_time": "2023-03-27T13:09:53.925086",
     "exception": false,
     "start_time": "2023-03-27T13:09:53.614590",
     "status": "completed"
    },
    "tags": []
   },
   "outputs": [
    {
     "data": {
      "image/png": "[encoded data removed]"
     },
     "metadata": {
      "image/png": {
       "height": 60,
       "width": 60
      }
     },
     "output_type": "display_data"
    }
   ],
   "source": [
    "#Average steps walked per hour in a day\n",
    "#Bar graph \n",
    "  bargraph_hourly_steps <- new_hourly_steps %>% \n",
    "  group_by(ActivityTime) %>% \n",
    "  summarize(Avg_steps = mean(StepTotal)) \n",
    "\n",
    "  ggplot(data = bargraph_hourly_steps) +\n",
    "  geom_col(mapping = aes(x=ActivityTime, y=Avg_steps, fill= Avg_steps)) + \n",
    "  labs(title = \"Average steps per hour in a day\", x=\"\", y=\"\") + \n",
    "  scale_fill_gradient(low = \"#ff99cc\", high = \"#33ccff\") +\n",
    "  #geom_tile(color= \"#D3D3D3\", lwd =.22, linetype = 1) +\n",
    "  theme(axis.text.x = element_text(angle = 90))"
   ]
  },
  {
   "cell_type": "markdown",
   "id": "08fa42a0",
   "metadata": {
    "papermill": {
     "duration": 0.026888,
     "end_time": "2023-03-27T13:09:53.978346",
     "exception": false,
     "start_time": "2023-03-27T13:09:53.951458",
     "status": "completed"
    },
    "tags": []
   },
   "source": [
    "#### Heatmap: Visualizing the average steps walked by FitBit Fitness Tracker users per hour, for each day of the week"
   ]
  },
  {
   "cell_type": "markdown",
   "id": "594d1715",
   "metadata": {
    "papermill": {
     "duration": 0.02577,
     "end_time": "2023-03-27T13:09:54.030114",
     "exception": false,
     "start_time": "2023-03-27T13:09:54.004344",
     "status": "completed"
    },
    "tags": []
   },
   "source": [
    "Working out the mean total steps in the new_hourly_steps df "
   ]
  },
  {
   "cell_type": "code",
   "execution_count": 32,
   "id": "08810689",
   "metadata": {
    "execution": {
     "iopub.execute_input": "2023-03-27T13:09:54.086324Z",
     "iopub.status.busy": "2023-03-27T13:09:54.084610Z",
     "iopub.status.idle": "2023-03-27T13:09:54.147832Z",
     "shell.execute_reply": "2023-03-27T13:09:54.145438Z"
    },
    "papermill": {
     "duration": 0.094531,
     "end_time": "2023-03-27T13:09:54.150779",
     "exception": false,
     "start_time": "2023-03-27T13:09:54.056248",
     "status": "completed"
    },
    "tags": []
   },
   "outputs": [
    {
     "name": "stderr",
     "output_type": "stream",
     "text": [
      "\u001b[1m\u001b[22m`summarise()` has grouped output by 'Weekday'. You can override using the\n",
      "`.groups` argument.\n"
     ]
    },
    {
     "data": {
      "text/html": [
       "<table class=\"dataframe\">\n",
       "<caption>A grouped_df: 6 × 3</caption>\n",
       "<thead>\n",
       "\t<tr><th scope=col>Weekday</th><th scope=col>ActivityTime</th><th scope=col>Avg_steps</th></tr>\n",
       "\t<tr><th scope=col>&lt;chr&gt;</th><th scope=col>&lt;chr&gt;</th><th scope=col>&lt;dbl&gt;</th></tr>\n",
       "</thead>\n",
       "<tbody>\n",
       "\t<tr><td>Friday</td><td>00:00:00</td><td>44.27778</td></tr>\n",
       "\t<tr><td>Friday</td><td>01:00:00</td><td>19.00794</td></tr>\n",
       "\t<tr><td>Friday</td><td>02:00:00</td><td>16.27778</td></tr>\n",
       "\t<tr><td>Friday</td><td>03:00:00</td><td>10.80159</td></tr>\n",
       "\t<tr><td>Friday</td><td>04:00:00</td><td>14.43651</td></tr>\n",
       "\t<tr><td>Friday</td><td>05:00:00</td><td>61.23016</td></tr>\n",
       "</tbody>\n",
       "</table>\n"
      ],
      "text/latex": [
       "A grouped\\_df: 6 × 3\n",
       "\\begin{tabular}{lll}\n",
       " Weekday & ActivityTime & Avg\\_steps\\\\\n",
       " <chr> & <chr> & <dbl>\\\\\n",
       "\\hline\n",
       "\t Friday & 00:00:00 & 44.27778\\\\\n",
       "\t Friday & 01:00:00 & 19.00794\\\\\n",
       "\t Friday & 02:00:00 & 16.27778\\\\\n",
       "\t Friday & 03:00:00 & 10.80159\\\\\n",
       "\t Friday & 04:00:00 & 14.43651\\\\\n",
       "\t Friday & 05:00:00 & 61.23016\\\\\n",
       "\\end{tabular}\n"
      ],
      "text/markdown": [
       "\n",
       "A grouped_df: 6 × 3\n",
       "\n",
       "| Weekday &lt;chr&gt; | ActivityTime &lt;chr&gt; | Avg_steps &lt;dbl&gt; |\n",
       "|---|---|---|\n",
       "| Friday | 00:00:00 | 44.27778 |\n",
       "| Friday | 01:00:00 | 19.00794 |\n",
       "| Friday | 02:00:00 | 16.27778 |\n",
       "| Friday | 03:00:00 | 10.80159 |\n",
       "| Friday | 04:00:00 | 14.43651 |\n",
       "| Friday | 05:00:00 | 61.23016 |\n",
       "\n"
      ],
      "text/plain": [
       "  Weekday ActivityTime Avg_steps\n",
       "1 Friday  00:00:00     44.27778 \n",
       "2 Friday  01:00:00     19.00794 \n",
       "3 Friday  02:00:00     16.27778 \n",
       "4 Friday  03:00:00     10.80159 \n",
       "5 Friday  04:00:00     14.43651 \n",
       "6 Friday  05:00:00     61.23016 "
      ]
     },
     "metadata": {},
     "output_type": "display_data"
    }
   ],
   "source": [
    "avg_hourly_steps <- new_hourly_steps %>% \n",
    "group_by(Weekday, ActivityTime) %>% \n",
    "summarize(Avg_steps = mean(StepTotal))\n",
    "head(avg_hourly_steps)"
   ]
  },
  {
   "cell_type": "markdown",
   "id": "2306840c",
   "metadata": {
    "papermill": {
     "duration": 0.026055,
     "end_time": "2023-03-27T13:09:54.202904",
     "exception": false,
     "start_time": "2023-03-27T13:09:54.176849",
     "status": "completed"
    },
    "tags": []
   },
   "source": [
    "Heatmap to help in visualizing the average steps walked per hour, for each day of the week"
   ]
  },
  {
   "cell_type": "code",
   "execution_count": 33,
   "id": "6e2f49bb",
   "metadata": {
    "execution": {
     "iopub.execute_input": "2023-03-27T13:09:54.259275Z",
     "iopub.status.busy": "2023-03-27T13:09:54.257517Z",
     "iopub.status.idle": "2023-03-27T13:09:54.454449Z",
     "shell.execute_reply": "2023-03-27T13:09:54.451575Z"
    },
    "papermill": {
     "duration": 0.228418,
     "end_time": "2023-03-27T13:09:54.457424",
     "exception": false,
     "start_time": "2023-03-27T13:09:54.229006",
     "status": "completed"
    },
    "tags": []
   },
   "outputs": [
    {
     "data": {
      "image/png": "[encoded data removed]"
     },
     "metadata": {
      "image/png": {
       "height": 60,
       "width": 60
      }
     },
     "output_type": "display_data"
    }
   ],
   "source": [
    "#Heatmap to show the activity level of the fitbit users per day of the week\n",
    "ggplot(avg_hourly_steps, aes(x=ActivityTime, y=Weekday, fill= Avg_steps)) +\n",
    "  theme(axis.text.x= element_text(angle = 90))+\n",
    "  labs(title= \"Hourly Activity per Day of the Week\", x=\"\", y=\"\",fill = \"avg_steps\", caption= 'Data Source: FitBit Tracker Data 4.12.16-5.12.16') +\n",
    "  scale_fill_gradient(low= \"#FFFFFF\", high=\"#4169e1\") +\n",
    "  #geom_tile(color= \"#D3D3D3\", lwd =.22, linetype = 1) +\n",
    "  coord_fixed() +\n",
    "  theme(plot.title= element_text(hjust= 0.5,vjust= 0.8, size=12), panel.background= element_blank())"
   ]
  },
  {
   "cell_type": "markdown",
   "id": "5d85cb01",
   "metadata": {
    "papermill": {
     "duration": 0.027058,
     "end_time": "2023-03-27T13:09:54.511852",
     "exception": false,
     "start_time": "2023-03-27T13:09:54.484794",
     "status": "completed"
    },
    "tags": []
   },
   "source": [
    "#### Heatmaps: Visualizing average steps walked per hour in a day, for each usage category, (ie) low usage, average usage and high usage"
   ]
  },
  {
   "cell_type": "code",
   "execution_count": 34,
   "id": "4f2c7f3a",
   "metadata": {
    "execution": {
     "iopub.execute_input": "2023-03-27T13:09:54.568793Z",
     "iopub.status.busy": "2023-03-27T13:09:54.567210Z",
     "iopub.status.idle": "2023-03-27T13:09:54.579362Z",
     "shell.execute_reply": "2023-03-27T13:09:54.577538Z"
    },
    "papermill": {
     "duration": 0.043338,
     "end_time": "2023-03-27T13:09:54.581881",
     "exception": false,
     "start_time": "2023-03-27T13:09:54.538543",
     "status": "completed"
    },
    "tags": []
   },
   "outputs": [],
   "source": [
    "#Heatmaps for the three usage levels, low - average - high usage, per day, per hour"
   ]
  },
  {
   "cell_type": "markdown",
   "id": "fb39a782",
   "metadata": {
    "papermill": {
     "duration": 0.027557,
     "end_time": "2023-03-27T13:09:54.636920",
     "exception": false,
     "start_time": "2023-03-27T13:09:54.609363",
     "status": "completed"
    },
    "tags": []
   },
   "source": [
    "#### Bar graphs: Visualizing average steps walked per hour in a day, for each usage category, (ie) low usage, average usage and high usage\n"
   ]
  },
  {
   "cell_type": "code",
   "execution_count": 35,
   "id": "a035a2c5",
   "metadata": {
    "execution": {
     "iopub.execute_input": "2023-03-27T13:09:54.694061Z",
     "iopub.status.busy": "2023-03-27T13:09:54.692436Z",
     "iopub.status.idle": "2023-03-27T13:09:54.704681Z",
     "shell.execute_reply": "2023-03-27T13:09:54.702900Z"
    },
    "papermill": {
     "duration": 0.043677,
     "end_time": "2023-03-27T13:09:54.707195",
     "exception": false,
     "start_time": "2023-03-27T13:09:54.663518",
     "status": "completed"
    },
    "tags": []
   },
   "outputs": [],
   "source": [
    "#Bar graphs for the three usage levels, low - average - high usage, per day, per hour"
   ]
  },
  {
   "cell_type": "markdown",
   "id": "ccf5342a",
   "metadata": {
    "papermill": {
     "duration": 0.027078,
     "end_time": "2023-03-27T13:09:54.761383",
     "exception": false,
     "start_time": "2023-03-27T13:09:54.734305",
     "status": "completed"
    },
    "tags": []
   },
   "source": [
    "## Correlating the variables and visualizing the correlations\n",
    "#### Correlation between total distance and total steps and its viz"
   ]
  },
  {
   "cell_type": "code",
   "execution_count": 36,
   "id": "a5fedf47",
   "metadata": {
    "execution": {
     "iopub.execute_input": "2023-03-27T13:09:54.818836Z",
     "iopub.status.busy": "2023-03-27T13:09:54.817178Z",
     "iopub.status.idle": "2023-03-27T13:09:56.133606Z",
     "shell.execute_reply": "2023-03-27T13:09:56.131633Z"
    },
    "papermill": {
     "duration": 1.34837,
     "end_time": "2023-03-27T13:09:56.136180",
     "exception": false,
     "start_time": "2023-03-27T13:09:54.787810",
     "status": "completed"
    },
    "tags": []
   },
   "outputs": [
    {
     "data": {
      "text/html": [
       "0.985368843360111"
      ],
      "text/latex": [
       "0.985368843360111"
      ],
      "text/markdown": [
       "0.985368843360111"
      ],
      "text/plain": [
       "[1] 0.9853688"
      ]
     },
     "metadata": {},
     "output_type": "display_data"
    },
    {
     "data": {
      "image/png": "[encoded data removed]"
     },
     "metadata": {
      "image/png": {
       "height": 60,
       "width": 60
      }
     },
     "output_type": "display_data"
    }
   ],
   "source": [
    "cor(daily_activity$TotalSteps, daily_activity$TotalDistance, method = c(\"pearson\", \"kendall\", \"spearman\"))\n",
    "ggplot(data = daily_activity, aes(x=TotalSteps, y=TotalDistance)) +\n",
    "geom_point() + geom_jitter() +\n",
    "geom_smooth(method = 'loess', formula = 'y~x') "
   ]
  },
  {
   "cell_type": "markdown",
   "id": "bd4a9fa2",
   "metadata": {
    "papermill": {
     "duration": 0.026825,
     "end_time": "2023-03-27T13:09:56.191117",
     "exception": false,
     "start_time": "2023-03-27T13:09:56.164292",
     "status": "completed"
    },
    "tags": []
   },
   "source": [
    "From the above correlation and the scatter plot, it is evident that there is a very string correlation between the total steps recorded and the total distance covered"
   ]
  },
  {
   "cell_type": "markdown",
   "id": "1c4ba4fe",
   "metadata": {
    "papermill": {
     "duration": 0.026901,
     "end_time": "2023-03-27T13:09:56.245029",
     "exception": false,
     "start_time": "2023-03-27T13:09:56.218128",
     "status": "completed"
    },
    "tags": []
   },
   "source": [
    "#### Correlating time in bed vs time asleep and the viz"
   ]
  },
  {
   "cell_type": "code",
   "execution_count": 37,
   "id": "978a17db",
   "metadata": {
    "execution": {
     "iopub.execute_input": "2023-03-27T13:09:56.302710Z",
     "iopub.status.busy": "2023-03-27T13:09:56.300926Z",
     "iopub.status.idle": "2023-03-27T13:09:56.634145Z",
     "shell.execute_reply": "2023-03-27T13:09:56.632488Z"
    },
    "papermill": {
     "duration": 0.364505,
     "end_time": "2023-03-27T13:09:56.636421",
     "exception": false,
     "start_time": "2023-03-27T13:09:56.271916",
     "status": "completed"
    },
    "tags": []
   },
   "outputs": [
    {
     "data": {
      "text/html": [
       "0.930457454132363"
      ],
      "text/latex": [
       "0.930457454132363"
      ],
      "text/markdown": [
       "0.930457454132363"
      ],
      "text/plain": [
       "[1] 0.9304575"
      ]
     },
     "metadata": {},
     "output_type": "display_data"
    },
    {
     "data": {
      "image/png": "[encoded data removed]"
     },
     "metadata": {
      "image/png": {
       "height": 60,
       "width": 60
      }
     },
     "output_type": "display_data"
    }
   ],
   "source": [
    "cor(sleep$TotalTimeInBed, sleep$TotalMinutesAsleep, method = c(\"pearson\", \"kendall\", \"spearman\"))\n",
    "ggplot(data = sleep, aes(x=TotalMinutesAsleep, y=TotalTimeInBed)) +\n",
    "geom_point() + geom_jitter() +\n",
    "geom_smooth(method = 'loess', formula = 'y~x') "
   ]
  },
  {
   "cell_type": "markdown",
   "id": "be5fd1a7",
   "metadata": {
    "papermill": {
     "duration": 0.027323,
     "end_time": "2023-03-27T13:09:56.691157",
     "exception": false,
     "start_time": "2023-03-27T13:09:56.663834",
     "status": "completed"
    },
    "tags": []
   },
   "source": [
    "There is also a very strong correlation between the time in bed and the time asleep variables as recorde by the FitBit Fitness Tracker as is evident in the scatter plot above and the coefficient of correlation (0.930)"
   ]
  },
  {
   "cell_type": "markdown",
   "id": "612baef3",
   "metadata": {
    "papermill": {
     "duration": 0.027306,
     "end_time": "2023-03-27T13:09:56.746007",
     "exception": false,
     "start_time": "2023-03-27T13:09:56.718701",
     "status": "completed"
    },
    "tags": []
   },
   "source": [
    "#### Correlation between very active minutes and very active distance"
   ]
  },
  {
   "cell_type": "code",
   "execution_count": 38,
   "id": "ba3dd931",
   "metadata": {
    "execution": {
     "iopub.execute_input": "2023-03-27T13:09:56.804597Z",
     "iopub.status.busy": "2023-03-27T13:09:56.803031Z",
     "iopub.status.idle": "2023-03-27T13:09:57.121554Z",
     "shell.execute_reply": "2023-03-27T13:09:57.119839Z"
    },
    "papermill": {
     "duration": 0.350697,
     "end_time": "2023-03-27T13:09:57.123965",
     "exception": false,
     "start_time": "2023-03-27T13:09:56.773268",
     "status": "completed"
    },
    "tags": []
   },
   "outputs": [
    {
     "data": {
      "text/html": [
       "0.826681460836105"
      ],
      "text/latex": [
       "0.826681460836105"
      ],
      "text/markdown": [
       "0.826681460836105"
      ],
      "text/plain": [
       "[1] 0.8266815"
      ]
     },
     "metadata": {},
     "output_type": "display_data"
    },
    {
     "data": {
      "image/png": "[encoded data removed]"
     },
     "metadata": {
      "image/png": {
       "height": 60,
       "width": 60
      }
     },
     "output_type": "display_data"
    }
   ],
   "source": [
    "cor(daily_activity$VeryActiveMinutes, daily_activity$VeryActiveDistance, method = c(\"pearson\", \"kendall\", \"spearman\"))\n",
    "ggplot(data = daily_activity, aes(x=VeryActiveDistance, y=VeryActiveMinutes)) + geom_point() + geom_jitter() +\n",
    "geom_smooth(method = 'loess', formula = 'y~x') + labs(title = \"Correlating very active minutes vs very active distance\")"
   ]
  },
  {
   "cell_type": "markdown",
   "id": "1bac6947",
   "metadata": {
    "papermill": {
     "duration": 0.027824,
     "end_time": "2023-03-27T13:09:57.179681",
     "exception": false,
     "start_time": "2023-03-27T13:09:57.151857",
     "status": "completed"
    },
    "tags": []
   },
   "source": [
    "There is a moderately strong correlation between very active minutes and very active distance as is evident in the above scatter plot and the correlation coeficient of 0.8267"
   ]
  },
  {
   "cell_type": "markdown",
   "id": "2cebf59a",
   "metadata": {
    "papermill": {
     "duration": 0.028338,
     "end_time": "2023-03-27T13:09:57.236798",
     "exception": false,
     "start_time": "2023-03-27T13:09:57.208460",
     "status": "completed"
    },
    "tags": []
   },
   "source": [
    "#### Correlating weight(Kg) vs BMI"
   ]
  },
  {
   "cell_type": "code",
   "execution_count": 39,
   "id": "5b324900",
   "metadata": {
    "execution": {
     "iopub.execute_input": "2023-03-27T13:09:57.296851Z",
     "iopub.status.busy": "2023-03-27T13:09:57.295327Z",
     "iopub.status.idle": "2023-03-27T13:09:57.529374Z",
     "shell.execute_reply": "2023-03-27T13:09:57.526606Z"
    },
    "papermill": {
     "duration": 0.267093,
     "end_time": "2023-03-27T13:09:57.532303",
     "exception": false,
     "start_time": "2023-03-27T13:09:57.265210",
     "status": "completed"
    },
    "tags": []
   },
   "outputs": [
    {
     "data": {
      "text/html": [
       "0.735683695908071"
      ],
      "text/latex": [
       "0.735683695908071"
      ],
      "text/markdown": [
       "0.735683695908071"
      ],
      "text/plain": [
       "[1] 0.7356837"
      ]
     },
     "metadata": {},
     "output_type": "display_data"
    },
    {
     "data": {
      "image/png": "[encoded data removed]"
     },
     "metadata": {
      "image/png": {
       "height": 60,
       "width": 60
      }
     },
     "output_type": "display_data"
    }
   ],
   "source": [
    "cor(weight$WeightKg, weight$BMI, method = c(\"pearson\", \"kendall\", \"spearman\"))\n",
    "ggplot(data = weight, aes(x=WeightKg, y=BMI)) + \n",
    "geom_point() + \n",
    "geom_jitter() +\n",
    "geom_smooth(method = 'loess', formula = 'y~x') +\n",
    "labs(title = \"Correlating weight(kg) vs BMI\")"
   ]
  },
  {
   "cell_type": "markdown",
   "id": "151cd3ed",
   "metadata": {
    "papermill": {
     "duration": 0.028166,
     "end_time": "2023-03-27T13:09:57.589991",
     "exception": false,
     "start_time": "2023-03-27T13:09:57.561825",
     "status": "completed"
    },
    "tags": []
   },
   "source": [
    "There is a moderate correlation betweem Weight in kg and BMI with a correlation coefficient of 0.736"
   ]
  },
  {
   "cell_type": "markdown",
   "id": "d858b00e",
   "metadata": {
    "papermill": {
     "duration": 0.02815,
     "end_time": "2023-03-27T13:09:57.646335",
     "exception": false,
     "start_time": "2023-03-27T13:09:57.618185",
     "status": "completed"
    },
    "tags": []
   },
   "source": [
    "#### Correlating total steps and calories"
   ]
  },
  {
   "cell_type": "code",
   "execution_count": 40,
   "id": "b6e8e739",
   "metadata": {
    "execution": {
     "iopub.execute_input": "2023-03-27T13:09:57.708467Z",
     "iopub.status.busy": "2023-03-27T13:09:57.706878Z",
     "iopub.status.idle": "2023-03-27T13:09:58.147715Z",
     "shell.execute_reply": "2023-03-27T13:09:58.144893Z"
    },
    "papermill": {
     "duration": 0.474604,
     "end_time": "2023-03-27T13:09:58.150670",
     "exception": false,
     "start_time": "2023-03-27T13:09:57.676066",
     "status": "completed"
    },
    "tags": []
   },
   "outputs": [
    {
     "data": {
      "text/html": [
       "0.591568086245336"
      ],
      "text/latex": [
       "0.591568086245336"
      ],
      "text/markdown": [
       "0.591568086245336"
      ],
      "text/plain": [
       "[1] 0.5915681"
      ]
     },
     "metadata": {},
     "output_type": "display_data"
    },
    {
     "data": {
      "image/png": "[encoded data removed]"
     },
     "metadata": {
      "image/png": {
       "height": 60,
       "width": 60
      }
     },
     "output_type": "display_data"
    }
   ],
   "source": [
    "cor(daily_activity$TotalSteps, daily_activity$Calories, method = c(\"pearson\", \"kendall\", \"spearman\"))\n",
    "ggplot(data = daily_activity, aes(x=TotalSteps, y=Calories)) + geom_point() + geom_jitter() +\n",
    "geom_smooth(method = 'loess', formula = 'y~x') + labs(title = \"Correlating total steps and calories\")"
   ]
  },
  {
   "cell_type": "markdown",
   "id": "f1ef4b70",
   "metadata": {
    "papermill": {
     "duration": 0.028683,
     "end_time": "2023-03-27T13:09:58.208518",
     "exception": false,
     "start_time": "2023-03-27T13:09:58.179835",
     "status": "completed"
    },
    "tags": []
   },
   "source": [
    "The correlation coefficient between total steps and calories is just average at 0.592"
   ]
  },
  {
   "cell_type": "markdown",
   "id": "21385f12",
   "metadata": {
    "papermill": {
     "duration": 0.029445,
     "end_time": "2023-03-27T13:09:58.267630",
     "exception": false,
     "start_time": "2023-03-27T13:09:58.238185",
     "status": "completed"
    },
    "tags": []
   },
   "source": [
    "#### Correlating very active minutes and total steps"
   ]
  },
  {
   "cell_type": "code",
   "execution_count": 41,
   "id": "42241505",
   "metadata": {
    "execution": {
     "iopub.execute_input": "2023-03-27T13:09:58.329371Z",
     "iopub.status.busy": "2023-03-27T13:09:58.327793Z",
     "iopub.status.idle": "2023-03-27T13:09:58.658599Z",
     "shell.execute_reply": "2023-03-27T13:09:58.655757Z"
    },
    "papermill": {
     "duration": 0.364668,
     "end_time": "2023-03-27T13:09:58.661598",
     "exception": false,
     "start_time": "2023-03-27T13:09:58.296930",
     "status": "completed"
    },
    "tags": []
   },
   "outputs": [
    {
     "data": {
      "text/html": [
       "0.667078697480277"
      ],
      "text/latex": [
       "0.667078697480277"
      ],
      "text/markdown": [
       "0.667078697480277"
      ],
      "text/plain": [
       "[1] 0.6670787"
      ]
     },
     "metadata": {},
     "output_type": "display_data"
    },
    {
     "data": {
      "image/png": "[encoded data removed]"
     },
     "metadata": {
      "image/png": {
       "height": 60,
       "width": 60
      }
     },
     "output_type": "display_data"
    }
   ],
   "source": [
    "cor(daily_activity$VeryActiveMinutes, daily_activity$TotalSteps, method = c(\"pearson\", \"kendall\", \"spearman\"))\n",
    "ggplot(data = daily_activity, aes(x=TotalSteps, y=VeryActiveMinutes)) + geom_point() + geom_jitter() +\n",
    "geom_smooth(method = 'loess', formula = 'y~x') + labs(title = \"Correlating very active minutes and total steps\")"
   ]
  },
  {
   "cell_type": "markdown",
   "id": "d66c780d",
   "metadata": {
    "papermill": {
     "duration": 0.028963,
     "end_time": "2023-03-27T13:09:58.720242",
     "exception": false,
     "start_time": "2023-03-27T13:09:58.691279",
     "status": "completed"
    },
    "tags": []
   },
   "source": [
    "There is a correlation between very active minutes and total steps with a coefficient of 0.667"
   ]
  },
  {
   "cell_type": "markdown",
   "id": "2edb967b",
   "metadata": {
    "papermill": {
     "duration": 0.03025,
     "end_time": "2023-03-27T13:09:58.779554",
     "exception": false,
     "start_time": "2023-03-27T13:09:58.749304",
     "status": "completed"
    },
    "tags": []
   },
   "source": [
    "#### Correlating between sedentary active minutes and sedentary minutes"
   ]
  },
  {
   "cell_type": "code",
   "execution_count": 42,
   "id": "a59e6e7b",
   "metadata": {
    "execution": {
     "iopub.execute_input": "2023-03-27T13:09:58.843893Z",
     "iopub.status.busy": "2023-03-27T13:09:58.842362Z",
     "iopub.status.idle": "2023-03-27T13:09:59.122825Z",
     "shell.execute_reply": "2023-03-27T13:09:59.120074Z"
    },
    "papermill": {
     "duration": 0.315503,
     "end_time": "2023-03-27T13:09:59.125755",
     "exception": false,
     "start_time": "2023-03-27T13:09:58.810252",
     "status": "completed"
    },
    "tags": []
   },
   "outputs": [
    {
     "data": {
      "text/html": [
       "0.0354746062157191"
      ],
      "text/latex": [
       "0.0354746062157191"
      ],
      "text/markdown": [
       "0.0354746062157191"
      ],
      "text/plain": [
       "[1] 0.03547461"
      ]
     },
     "metadata": {},
     "output_type": "display_data"
    },
    {
     "data": {
      "image/png": "[encoded data removed]"
     },
     "metadata": {
      "image/png": {
       "height": 60,
       "width": 60
      }
     },
     "output_type": "display_data"
    }
   ],
   "source": [
    "cor(daily_activity$SedentaryActiveDistance, daily_activity$SedentaryMinutes, method = c(\"pearson\", \"kendall\", \"spearman\"))\n",
    "ggplot(data = daily_activity, aes(x=SedentaryActiveDistance, y=SedentaryMinutes)) + geom_point() + geom_jitter() + labs(title=\"Correlating between sedentary active minutes and sedentary minutes\")"
   ]
  },
  {
   "cell_type": "markdown",
   "id": "d1bc7c95",
   "metadata": {
    "papermill": {
     "duration": 0.03003,
     "end_time": "2023-03-27T13:09:59.186403",
     "exception": false,
     "start_time": "2023-03-27T13:09:59.156373",
     "status": "completed"
    },
    "tags": []
   },
   "source": [
    "There is absolutely NO correlation between sedentary active distance and sedentary minutes"
   ]
  },
  {
   "cell_type": "markdown",
   "id": "a57c2bc0",
   "metadata": {
    "papermill": {
     "duration": 0.029416,
     "end_time": "2023-03-27T13:09:59.245239",
     "exception": false,
     "start_time": "2023-03-27T13:09:59.215823",
     "status": "completed"
    },
    "tags": []
   },
   "source": [
    "#### Correlating between Total Distance and Tracker Distance"
   ]
  },
  {
   "cell_type": "code",
   "execution_count": 43,
   "id": "5a1da801",
   "metadata": {
    "execution": {
     "iopub.execute_input": "2023-03-27T13:09:59.308000Z",
     "iopub.status.busy": "2023-03-27T13:09:59.306456Z",
     "iopub.status.idle": "2023-03-27T13:09:59.635857Z",
     "shell.execute_reply": "2023-03-27T13:09:59.633943Z"
    },
    "papermill": {
     "duration": 0.364005,
     "end_time": "2023-03-27T13:09:59.638774",
     "exception": false,
     "start_time": "2023-03-27T13:09:59.274769",
     "status": "completed"
    },
    "tags": []
   },
   "outputs": [
    {
     "data": {
      "text/html": [
       "0.999504730045223"
      ],
      "text/latex": [
       "0.999504730045223"
      ],
      "text/markdown": [
       "0.999504730045223"
      ],
      "text/plain": [
       "[1] 0.9995047"
      ]
     },
     "metadata": {},
     "output_type": "display_data"
    },
    {
     "data": {
      "image/png": "[encoded data removed]"
     },
     "metadata": {
      "image/png": {
       "height": 60,
       "width": 60
      }
     },
     "output_type": "display_data"
    }
   ],
   "source": [
    "cor(daily_activity$TrackerDistance, daily_activity$TotalDistance, method = c(\"pearson\", \"kendall\", \"spearman\"))\n",
    "ggplot(data = daily_activity, aes(x=TotalDistance, y=TrackerDistance)) + geom_point() + geom_jitter() +\n",
    "geom_smooth(method = 'loess', formula = 'y~x') + labs(title = \"Correlating Tracker Distance vs Total Distance\")"
   ]
  },
  {
   "cell_type": "markdown",
   "id": "0a15f9c1",
   "metadata": {
    "papermill": {
     "duration": 0.031941,
     "end_time": "2023-03-27T13:09:59.701905",
     "exception": false,
     "start_time": "2023-03-27T13:09:59.669964",
     "status": "completed"
    },
    "tags": []
   },
   "source": [
    "There is a VERY STRONG correlation between TrackerDistance and Total Distance as is evident in the visualization above. The coefficient of correlation is 0.9995"
   ]
  },
  {
   "cell_type": "markdown",
   "id": "7a090a63",
   "metadata": {
    "papermill": {
     "duration": 0.030682,
     "end_time": "2023-03-27T13:09:59.763111",
     "exception": false,
     "start_time": "2023-03-27T13:09:59.732429",
     "status": "completed"
    },
    "tags": []
   },
   "source": [
    "## Findings\n",
    "1. There is a general lack of motivation to engage in fitness activities going by the sedentary minutes figures. Alternatively, the FitBit customers have a genaral problem/challenge with using the FitBit fitness tracker.\n",
    "\n",
    "2. The average number of steps recorded is 7638 which is less than the CDC recommended number of steps per day that is 10,000 steps per day."
   ]
  },
  {
   "cell_type": "markdown",
   "id": "a86563ff",
   "metadata": {
    "papermill": {
     "duration": 0.031048,
     "end_time": "2023-03-27T13:09:59.824377",
     "exception": false,
     "start_time": "2023-03-27T13:09:59.793329",
     "status": "completed"
    },
    "tags": []
   },
   "source": [
    "## Recommendations"
   ]
  },
  {
   "cell_type": "markdown",
   "id": "51d9069d",
   "metadata": {
    "papermill": {
     "duration": 0.033593,
     "end_time": "2023-03-27T13:09:59.888027",
     "exception": false,
     "start_time": "2023-03-27T13:09:59.854434",
     "status": "completed"
    },
    "tags": []
   },
   "source": [
    "1. The time spent in a sedentary state outweighs the time spent in any state of activity by more than 3 times. This indicates that there is general lack of motivation for the FitBit participants to engage in any form of activity no matter how es intense it is. \n",
    "I recommend that the BellaBeat fitness tracker to incorporate a fitness awareness notification system in their products to not only remind their customers to engage themselves in an activity but to also give them a health tip associated with the activity they'll engage in.\n",
    "This notification system could even break down an activity into small portions that are timed and alert the participant that they have achieved the smaller goal as they strive to achieve the major goal of the day.\n",
    "\n",
    "2. There is a very strong correlation between the total distance covered and the tracker distance measured by the fitness tracker. This indiactes that the tracking device is very accurate in terms of measuring the distance. This is a feature that the BellaBeat company should implement in their devices with the same level of accuracy or even more.\n",
    "\n",
    "3. BellaBeat should make their fitness analysis report very user friendly and easy to understand. This will help their customers understand what they have achieved and how it is contributing to their overall body and health fitness.\n",
    "\n",
    "4. The BellaBeat products should incorporate a feature that allows their customers to specify their fitness goal first thing after purchasing their product so that the fitness product they have purchased can serve to keep them on track.\n",
    "\n",
    "5. The BellaBeat's fitness products should have a very easy-to-use user manual. It is possible that the FitBit users didn't have adequate knowledge on how their fitness gadgets were supposed to be used and therefore the devices ended up not being used at all or they were not used appropriately\n",
    "\n",
    "6. BellaBeat should also consider incorpoarating a 24/7 customer support functionality and an easy-to-use customer feedback feature/functinality to know how best they can improve/serve their customers more efficiently.\n",
    "\n",
    "7. Incorporating a feature that links every customer to their physician or someone they can trust to encourage them to hit each day's fitness target could be a great way to keep their customers motivated."
   ]
  },
  {
   "cell_type": "markdown",
   "id": "2c420415",
   "metadata": {
    "papermill": {
     "duration": 0.030503,
     "end_time": "2023-03-27T13:09:59.948469",
     "exception": false,
     "start_time": "2023-03-27T13:09:59.917966",
     "status": "completed"
    },
    "tags": []
   },
   "source": [
    "## Appendix\n",
    "#### Special Appreciation\n",
    "After working on the FitBit Fitness Tracker Data from scratch, I felt that I had done a satisfactory job. I later compared my work with that of the following people and realised that there were areas that I could improve on in my analysis.\n",
    "I drew inspiration and motivation from their work and it helped me improve on mine.\n",
    "1. [IRENASHEN1](https://www.kaggle.com/code/irenashen1/capstone-bellabeat-case-study-r/notebook)\n",
    "2. [ZULKHAIREE SULAIMAN](https://www.kaggle.com/code/zulkhaireesulaiman/bellabeat-capstone-project-in-r/notebook)\n",
    "3. [MACARENA LACASA](https://www.kaggle.com/code/macarenalacasa/capstone-case-study-bellabeat/notebook) \n",
    "\n",
    "Thank you for sharing your work!\n",
    "\n",
    "I also did extensive research on the internet regarding r programming in the following websites: stackoverflow, geeksforgeeks, data camp, rdocumentation, youtube just to mention a few.\n",
    "\n",
    "I wish you well as you work on your capstone project!"
   ]
  }
 ],
 "metadata": {
  "kernelspec": {
   "display_name": "R",
   "language": "R",
   "name": "ir"
  },
  "language_info": {
   "codemirror_mode": "r",
   "file_extension": ".r",
   "mimetype": "text/x-r-source",
   "name": "R",
   "pygments_lexer": "r",
   "version": "4.0.5"
  },
  "papermill": {
   "default_parameters": {},
   "duration": 87.654496,
   "end_time": "2023-03-27T13:10:00.201841",
   "environment_variables": {},
   "exception": null,
   "input_path": "__notebook__.ipynb",
   "output_path": "__notebook__.ipynb",
   "parameters": {},
   "start_time": "2023-03-27T13:08:32.547345",
   "version": "2.4.0"
  }
 },
 "nbformat": 4,
 "nbformat_minor": 5
}
